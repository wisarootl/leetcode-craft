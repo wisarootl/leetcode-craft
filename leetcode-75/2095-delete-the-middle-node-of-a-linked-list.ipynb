{
 "cells": [
  {
   "cell_type": "markdown",
   "metadata": {},
   "source": [
    "# 2095. Delete the Middle Node of a Linked List"
   ]
  },
  {
   "cell_type": "markdown",
   "metadata": {},
   "source": [
    "https://leetcode.com/problems/delete-the-middle-node-of-a-linked-list/"
   ]
  },
  {
   "cell_type": "code",
   "execution_count": 1,
   "metadata": {},
   "outputs": [],
   "source": [
    "from leetcode_craft.singly_linked_list_helper import ListNode, build_linked_list"
   ]
  },
  {
   "cell_type": "code",
   "execution_count": 2,
   "metadata": {},
   "outputs": [],
   "source": [
    "from typing import Optional\n",
    "\n",
    "class Solution:\n",
    "    def deleteMiddle(self, head: Optional[ListNode]) -> Optional[ListNode]:\n",
    "        if not head or not head.next:\n",
    "            return None\n",
    "\n",
    "        fast, slow = head.next.next, head\n",
    "\n",
    "        while fast and fast.next:\n",
    "            slow = slow.next\n",
    "            fast = fast.next.next\n",
    "\n",
    "        slow.next = slow.next.next\n",
    "        return head"
   ]
  },
  {
   "cell_type": "code",
   "execution_count": 3,
   "metadata": {},
   "outputs": [
    {
     "name": "stdout",
     "output_type": "stream",
     "text": [
      "head: 1 -> 3 -> 4 -> 7 -> 1 -> 2 -> 6\n",
      "output: 1 -> 3 -> 4 -> 1 -> 2 -> 6\n"
     ]
    }
   ],
   "source": [
    "head = build_linked_list([1, 3, 4, 7, 1, 2, 6])\n",
    "expected = build_linked_list([1, 3, 4, 1, 2, 6])\n",
    "\n",
    "\n",
    "print(\"head:\", head)\n",
    "output = Solution().deleteMiddle(head)\n",
    "\n",
    "assert output == expected\n",
    "\n",
    "print(\"output:\", output)"
   ]
  },
  {
   "cell_type": "code",
   "execution_count": 4,
   "metadata": {},
   "outputs": [
    {
     "name": "stdout",
     "output_type": "stream",
     "text": [
      "head: 1 -> 2 -> 3 -> 4\n",
      "output: 1 -> 2 -> 4\n"
     ]
    }
   ],
   "source": [
    "head = build_linked_list([1, 2, 3, 4])\n",
    "expected = build_linked_list([1, 2, 4])\n",
    "\n",
    "\n",
    "print(\"head:\", head)\n",
    "output = Solution().deleteMiddle(head)\n",
    "\n",
    "assert output == expected\n",
    "\n",
    "print(\"output:\", output)"
   ]
  },
  {
   "cell_type": "code",
   "execution_count": 5,
   "metadata": {},
   "outputs": [
    {
     "name": "stdout",
     "output_type": "stream",
     "text": [
      "head: 2 -> 1\n",
      "output: 2\n"
     ]
    }
   ],
   "source": [
    "head = build_linked_list([2, 1])\n",
    "expected = build_linked_list([2])\n",
    "\n",
    "\n",
    "print(\"head:\", head)\n",
    "output = Solution().deleteMiddle(head)\n",
    "\n",
    "assert output == expected\n",
    "\n",
    "print(\"output:\", output)"
   ]
  },
  {
   "cell_type": "code",
   "execution_count": 6,
   "metadata": {},
   "outputs": [
    {
     "name": "stdout",
     "output_type": "stream",
     "text": [
      "head: 2\n",
      "output: None\n"
     ]
    }
   ],
   "source": [
    "head = build_linked_list([2])\n",
    "expected = build_linked_list([])\n",
    "\n",
    "\n",
    "print(\"head:\", head)\n",
    "output = Solution().deleteMiddle(head)\n",
    "\n",
    "assert output == expected\n",
    "\n",
    "print(\"output:\", output)"
   ]
  },
  {
   "cell_type": "code",
   "execution_count": null,
   "metadata": {},
   "outputs": [],
   "source": []
  }
 ],
 "metadata": {
  "kernelspec": {
   "display_name": "leetcode-craft",
   "language": "python",
   "name": "python3"
  },
  "language_info": {
   "codemirror_mode": {
    "name": "ipython",
    "version": 3
   },
   "file_extension": ".py",
   "mimetype": "text/x-python",
   "name": "python",
   "nbconvert_exporter": "python",
   "pygments_lexer": "ipython3",
   "version": "3.12.2"
  }
 },
 "nbformat": 4,
 "nbformat_minor": 2
}
