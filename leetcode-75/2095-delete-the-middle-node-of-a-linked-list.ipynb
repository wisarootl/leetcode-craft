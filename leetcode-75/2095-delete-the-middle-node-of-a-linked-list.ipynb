{
 "cells": [
  {
   "cell_type": "markdown",
   "metadata": {},
   "source": [
    "# 2095. Delete the Middle Node of a Linked List"
   ]
  },
  {
   "cell_type": "markdown",
   "metadata": {},
   "source": [
    "https://leetcode.com/problems/delete-the-middle-node-of-a-linked-list/"
   ]
  },
  {
   "cell_type": "code",
   "execution_count": 1,
   "metadata": {},
   "outputs": [],
   "source": [
    "from typing import Optional"
   ]
  },
  {
   "cell_type": "code",
   "execution_count": 2,
   "metadata": {},
   "outputs": [],
   "source": [
    "# Definition for singly-linked list.\n",
    "class ListNode:\n",
    "    def __init__(self, val=0, next=None):\n",
    "        self.val = val\n",
    "        self.next = next\n",
    "\n",
    "    def __str__(self):\n",
    "        result = []\n",
    "        current = self\n",
    "        while current:\n",
    "            result.append(str(current.val))\n",
    "            current = current.next\n",
    "            if current:\n",
    "                result.append(\" -> \")\n",
    "        return \"\".join(result)\n",
    "\n",
    "    def __eq__(self, other):\n",
    "        current_self = self\n",
    "        current_other = other\n",
    "\n",
    "        while current_self and current_other:\n",
    "            if current_self.val != current_other.val:\n",
    "                return False\n",
    "            current_self = current_self.next\n",
    "            current_other = current_other.next\n",
    "\n",
    "        return current_self is None and current_other is None"
   ]
  },
  {
   "cell_type": "code",
   "execution_count": 3,
   "metadata": {},
   "outputs": [],
   "source": [
    "def create_linked_list(nodes):\n",
    "    dummy = ListNode()\n",
    "    current = dummy\n",
    "\n",
    "    for val in nodes:\n",
    "        current.next = ListNode(val)\n",
    "        current = current.next\n",
    "\n",
    "    return dummy.next"
   ]
  },
  {
   "cell_type": "code",
   "execution_count": 4,
   "metadata": {},
   "outputs": [],
   "source": [
    "class Solution:\n",
    "    def deleteMiddle(self, head: Optional[ListNode]) -> Optional[ListNode]:\n",
    "        if not head or not head.next:\n",
    "            return None\n",
    "\n",
    "        fast, slow = head.next.next, head\n",
    "\n",
    "        while fast and fast.next:\n",
    "            slow = slow.next\n",
    "            fast = fast.next.next\n",
    "\n",
    "        slow.next = slow.next.next\n",
    "        return head"
   ]
  },
  {
   "cell_type": "code",
   "execution_count": 8,
   "metadata": {},
   "outputs": [
    {
     "name": "stdout",
     "output_type": "stream",
     "text": [
      "head: 1 -> 3 -> 4 -> 7 -> 1 -> 2 -> 6\n",
      "output: 1 -> 3 -> 4 -> 1 -> 2 -> 6\n"
     ]
    }
   ],
   "source": [
    "head = create_linked_list([1, 3, 4, 7, 1, 2, 6])\n",
    "expected = create_linked_list([1, 3, 4, 1, 2, 6])\n",
    "\n",
    "\n",
    "print(\"head:\", head)\n",
    "output = Solution().deleteMiddle(head)\n",
    "\n",
    "assert output == expected\n",
    "\n",
    "print(\"output:\", output)"
   ]
  },
  {
   "cell_type": "code",
   "execution_count": 9,
   "metadata": {},
   "outputs": [
    {
     "name": "stdout",
     "output_type": "stream",
     "text": [
      "head: 1 -> 2 -> 3 -> 4\n",
      "output: 1 -> 2 -> 4\n"
     ]
    }
   ],
   "source": [
    "head = create_linked_list([1, 2, 3, 4])\n",
    "expected = create_linked_list([1, 2, 4])\n",
    "\n",
    "\n",
    "print(\"head:\", head)\n",
    "output = Solution().deleteMiddle(head)\n",
    "\n",
    "assert output == expected\n",
    "\n",
    "print(\"output:\", output)"
   ]
  },
  {
   "cell_type": "code",
   "execution_count": 10,
   "metadata": {},
   "outputs": [
    {
     "name": "stdout",
     "output_type": "stream",
     "text": [
      "head: 2 -> 1\n",
      "output: 2\n"
     ]
    }
   ],
   "source": [
    "head = create_linked_list([2, 1])\n",
    "expected = create_linked_list([2])\n",
    "\n",
    "\n",
    "print(\"head:\", head)\n",
    "output = Solution().deleteMiddle(head)\n",
    "\n",
    "assert output == expected\n",
    "\n",
    "print(\"output:\", output)"
   ]
  },
  {
   "cell_type": "code",
   "execution_count": 11,
   "metadata": {},
   "outputs": [
    {
     "name": "stdout",
     "output_type": "stream",
     "text": [
      "head: 2\n",
      "output: None\n"
     ]
    }
   ],
   "source": [
    "head = create_linked_list([2])\n",
    "expected = create_linked_list([])\n",
    "\n",
    "\n",
    "print(\"head:\", head)\n",
    "output = Solution().deleteMiddle(head)\n",
    "\n",
    "assert output == expected\n",
    "\n",
    "print(\"output:\", output)"
   ]
  },
  {
   "cell_type": "code",
   "execution_count": null,
   "metadata": {},
   "outputs": [],
   "source": []
  }
 ],
 "metadata": {
  "kernelspec": {
   "display_name": "leetcode-craft",
   "language": "python",
   "name": "python3"
  },
  "language_info": {
   "codemirror_mode": {
    "name": "ipython",
    "version": 3
   },
   "file_extension": ".py",
   "mimetype": "text/x-python",
   "name": "python",
   "nbconvert_exporter": "python",
   "pygments_lexer": "ipython3",
   "version": "3.12.2"
  }
 },
 "nbformat": 4,
 "nbformat_minor": 2
}
