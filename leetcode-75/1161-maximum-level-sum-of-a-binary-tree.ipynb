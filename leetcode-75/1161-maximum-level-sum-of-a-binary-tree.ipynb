{
 "cells": [
  {
   "cell_type": "markdown",
   "metadata": {},
   "source": [
    "# 1161. Maximum Level Sum of a Binary Tree"
   ]
  },
  {
   "cell_type": "markdown",
   "metadata": {},
   "source": [
    "https://leetcode.com/problems/maximum-level-sum-of-a-binary-tree/"
   ]
  },
  {
   "cell_type": "code",
   "execution_count": 4,
   "metadata": {},
   "outputs": [],
   "source": [
    "from leetcode_craft.binary_tree_helper import TreeNode, build_binary_tree_from_array_representation"
   ]
  },
  {
   "cell_type": "code",
   "execution_count": 7,
   "metadata": {},
   "outputs": [],
   "source": [
    "from typing import Optional\n",
    "from collections import deque\n",
    "\n",
    "\n",
    "class Solution:\n",
    "    def maxLevelSum(self, root: Optional[TreeNode]) -> int:\n",
    "        if not root:\n",
    "            return 0\n",
    "\n",
    "        max_sum = float(\"-inf\")\n",
    "        max_level = 1\n",
    "        level = 1\n",
    "        queue = deque([root])\n",
    "\n",
    "        while queue:\n",
    "            level_sum = 0\n",
    "            level_size = len(queue)\n",
    "\n",
    "            for _ in range(level_size):\n",
    "                node = queue.popleft()\n",
    "                level_sum += node.val\n",
    "\n",
    "                if node.left:\n",
    "                    queue.append(node.left)\n",
    "\n",
    "                if node.right:\n",
    "                    queue.append(node.right)\n",
    "\n",
    "            if level_sum > max_sum:\n",
    "                max_sum = level_sum\n",
    "                max_level = level\n",
    "\n",
    "            level += 1\n",
    "\n",
    "        return max_level"
   ]
  },
  {
   "cell_type": "code",
   "execution_count": 8,
   "metadata": {},
   "outputs": [
    {
     "name": "stdout",
     "output_type": "stream",
     "text": [
      "2\n"
     ]
    }
   ],
   "source": [
    "root = build_binary_tree_from_array_representation([1, 7, 0, 7, -8, None, None])\n",
    "expected = 2\n",
    "\n",
    "# Explanation:\n",
    "# Level 1 sum = 1.\n",
    "# Level 2 sum = 7 + 0 = 7.\n",
    "# Level 3 sum = 7 + -8 = -1.\n",
    "\n",
    "output = Solution().maxLevelSum(root)\n",
    "\n",
    "print(output)\n",
    "assert output == expected"
   ]
  },
  {
   "cell_type": "code",
   "execution_count": 9,
   "metadata": {},
   "outputs": [
    {
     "name": "stdout",
     "output_type": "stream",
     "text": [
      "2\n"
     ]
    }
   ],
   "source": [
    "root = build_binary_tree_from_array_representation(\n",
    "    [989, None, 10250, 98693, -89388, None, None, None, -32127]\n",
    ")\n",
    "expected = 2\n",
    "\n",
    "output = Solution().maxLevelSum(root)\n",
    "\n",
    "print(output)\n",
    "assert output == expected"
   ]
  },
  {
   "cell_type": "code",
   "execution_count": null,
   "metadata": {},
   "outputs": [],
   "source": []
  }
 ],
 "metadata": {
  "kernelspec": {
   "display_name": "leetcode-craft",
   "language": "python",
   "name": "python3"
  },
  "language_info": {
   "codemirror_mode": {
    "name": "ipython",
    "version": 3
   },
   "file_extension": ".py",
   "mimetype": "text/x-python",
   "name": "python",
   "nbconvert_exporter": "python",
   "pygments_lexer": "ipython3",
   "version": "3.12.2"
  }
 },
 "nbformat": 4,
 "nbformat_minor": 2
}
