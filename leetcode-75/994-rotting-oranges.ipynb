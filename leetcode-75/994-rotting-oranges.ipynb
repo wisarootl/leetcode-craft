{
 "cells": [
  {
   "cell_type": "markdown",
   "metadata": {},
   "source": [
    "# 994. Rotting Oranges"
   ]
  },
  {
   "cell_type": "code",
   "execution_count": 19,
   "metadata": {},
   "outputs": [],
   "source": [
    "from collections import deque\n",
    "\n",
    "\n",
    "class Solution:\n",
    "    def orangesRotting(self, grid: list[list[int]]) -> int:\n",
    "        if not grid:\n",
    "            return -1\n",
    "\n",
    "        m, n = len(grid), len(grid[0])\n",
    "        fresh_count = 0\n",
    "        queue = deque()\n",
    "\n",
    "        for i in range(m):\n",
    "            for j in range(n):\n",
    "                if grid[i][j] == 1:\n",
    "                    fresh_count += 1\n",
    "                elif grid[i][j] == 2:\n",
    "                    queue.append((i, j))\n",
    "\n",
    "        if fresh_count == 0:\n",
    "            return 0\n",
    "\n",
    "        minutes = 0\n",
    "        directions = [(1, 0), (-1, 0), (0, 1), (0, -1)]\n",
    "\n",
    "        while queue and minutes <= 10:\n",
    "\n",
    "            # process all queue at the current minute\n",
    "            for _ in range(len(queue)):\n",
    "                x, y = queue.popleft()\n",
    "\n",
    "                for dx, dy in directions:\n",
    "                    nx, ny = x + dx, y + dy\n",
    "                    if (0 <= nx < m) and (0 <= ny < n) and (grid[nx][ny] == 1):\n",
    "                        grid[nx][ny] = 2\n",
    "                        fresh_count -= 1\n",
    "                        queue.append((nx, ny))\n",
    "\n",
    "            minutes += 1\n",
    "\n",
    "        return minutes - 1 if fresh_count == 0 else -1"
   ]
  },
  {
   "cell_type": "code",
   "execution_count": 20,
   "metadata": {},
   "outputs": [
    {
     "name": "stdout",
     "output_type": "stream",
     "text": [
      "4\n"
     ]
    }
   ],
   "source": [
    "# [2, 1, 1]\n",
    "# [1, 1, 0]\n",
    "# [0, 1, 1]\n",
    "\n",
    "grid = [[2, 1, 1], [1, 1, 0], [0, 1, 1]]\n",
    "expected = 4\n",
    "\n",
    "output = Solution().orangesRotting(grid)\n",
    "\n",
    "print(output)\n",
    "assert output == expected"
   ]
  },
  {
   "cell_type": "code",
   "execution_count": null,
   "metadata": {},
   "outputs": [],
   "source": [
    "# [2, 1, 1]\n",
    "# [0, 1, 1]\n",
    "# [1, 0, 1]\n",
    "\n",
    "grid = [[2, 1, 1], [0, 1, 1], [1, 0, 1]]\n",
    "expected = 4\n",
    "\n",
    "output = Solution().orangesRotting(grid)\n",
    "\n",
    "print(output)\n",
    "assert output == expected"
   ]
  },
  {
   "cell_type": "code",
   "execution_count": null,
   "metadata": {},
   "outputs": [],
   "source": []
  }
 ],
 "metadata": {
  "kernelspec": {
   "display_name": "leetcode-craft",
   "language": "python",
   "name": "python3"
  },
  "language_info": {
   "codemirror_mode": {
    "name": "ipython",
    "version": 3
   },
   "file_extension": ".py",
   "mimetype": "text/x-python",
   "name": "python",
   "nbconvert_exporter": "python",
   "pygments_lexer": "ipython3",
   "version": "3.12.2"
  }
 },
 "nbformat": 4,
 "nbformat_minor": 2
}
