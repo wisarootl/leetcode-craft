{
 "cells": [
  {
   "cell_type": "markdown",
   "metadata": {},
   "source": [
    "# 2462. Total Cost to Hire K Workers"
   ]
  },
  {
   "cell_type": "markdown",
   "metadata": {},
   "source": [
    "https://leetcode.com/problems/total-cost-to-hire-k-workers/description/"
   ]
  },
  {
   "cell_type": "code",
   "execution_count": 1,
   "metadata": {},
   "outputs": [],
   "source": [
    "import heapq\n",
    "\n",
    "\n",
    "class Solution:\n",
    "    # time: O(k (log c) + c)\n",
    "    def totalCost(self, costs: list[int], k: int, candidates: int) -> int:\n",
    "        left_idx = 0\n",
    "        right_idx = len(costs) - 1\n",
    "        left_candidates = []\n",
    "        right_candidates = []\n",
    "\n",
    "        total_cost = 0\n",
    "\n",
    "        left_idx = min(candidates, right_idx)\n",
    "        left_candidates = costs[:left_idx]\n",
    "        heapq.heapify(left_candidates)\n",
    "\n",
    "        right_idx = max(len(costs) - candidates, left_idx) - 1\n",
    "        right_candidates = costs[right_idx + 1 :]\n",
    "        heapq.heapify(right_candidates)\n",
    "\n",
    "        while k > 0:\n",
    "            if len(left_candidates) < candidates and left_idx <= right_idx:\n",
    "                heapq.heappush(left_candidates, costs[left_idx])\n",
    "                left_idx += 1\n",
    "\n",
    "            if len(right_candidates) < candidates and left_idx <= right_idx:\n",
    "                heapq.heappush(right_candidates, costs[right_idx])\n",
    "                right_idx -= 1\n",
    "\n",
    "            min_cost_left = left_candidates[0] if left_candidates else float(\"inf\")\n",
    "            min_cost_right = right_candidates[0] if right_candidates else float(\"inf\")\n",
    "\n",
    "            if min_cost_left <= min_cost_right:\n",
    "                total_cost += min_cost_left\n",
    "                heapq.heappop(left_candidates)\n",
    "            else:\n",
    "                total_cost += min_cost_right\n",
    "                heapq.heappop(right_candidates)\n",
    "\n",
    "            k -= 1\n",
    "\n",
    "        return total_cost"
   ]
  },
  {
   "cell_type": "code",
   "execution_count": 2,
   "metadata": {},
   "outputs": [
    {
     "name": "stdout",
     "output_type": "stream",
     "text": [
      "11\n"
     ]
    }
   ],
   "source": [
    "costs = [17, 12, 10, 2, 7, 2, 11, 20, 8]\n",
    "k = 3\n",
    "candidates = 4\n",
    "\n",
    "\n",
    "expected = 11\n",
    "\n",
    "output = Solution().totalCost(costs, k, candidates)\n",
    "\n",
    "print(output)\n",
    "assert output == expected"
   ]
  },
  {
   "cell_type": "code",
   "execution_count": 3,
   "metadata": {},
   "outputs": [
    {
     "name": "stdout",
     "output_type": "stream",
     "text": [
      "4\n"
     ]
    }
   ],
   "source": [
    "costs = [1, 2, 4, 1]\n",
    "k = 3\n",
    "candidates = 3\n",
    "\n",
    "\n",
    "expected = 4\n",
    "\n",
    "output = Solution().totalCost(costs, k, candidates)\n",
    "\n",
    "print(output)\n",
    "assert output == expected"
   ]
  },
  {
   "cell_type": "code",
   "execution_count": 4,
   "metadata": {},
   "outputs": [
    {
     "name": "stdout",
     "output_type": "stream",
     "text": [
      "223\n"
     ]
    }
   ],
   "source": [
    "costs = [\n",
    "    18,\n",
    "    64,\n",
    "    12,\n",
    "    21,\n",
    "    21,\n",
    "    78,\n",
    "    36,\n",
    "    58,\n",
    "    88,\n",
    "    58,\n",
    "    99,\n",
    "    26,\n",
    "    92,\n",
    "    91,\n",
    "    53,\n",
    "    10,\n",
    "    24,\n",
    "    25,\n",
    "    20,\n",
    "    92,\n",
    "    73,\n",
    "    63,\n",
    "    51,\n",
    "    65,\n",
    "    87,\n",
    "    6,\n",
    "    17,\n",
    "    32,\n",
    "    14,\n",
    "    42,\n",
    "    46,\n",
    "    65,\n",
    "    43,\n",
    "    9,\n",
    "    75,\n",
    "]\n",
    "k = 13\n",
    "candidates = 23\n",
    "\n",
    "\n",
    "expected = 223\n",
    "\n",
    "output = Solution().totalCost(costs, k, candidates)\n",
    "\n",
    "print(output)\n",
    "assert output == expected"
   ]
  },
  {
   "cell_type": "code",
   "execution_count": 5,
   "metadata": {},
   "outputs": [
    {
     "name": "stdout",
     "output_type": "stream",
     "text": [
      "423\n"
     ]
    }
   ],
   "source": [
    "costs = [31, 25, 72, 79, 74, 65, 84, 91, 18, 59, 27, 9, 81, 33, 17, 58]\n",
    "k = 11\n",
    "candidates = 2\n",
    "\n",
    "\n",
    "expected = 423\n",
    "\n",
    "output = Solution().totalCost(costs, k, candidates)\n",
    "\n",
    "print(output)\n",
    "assert output == expected"
   ]
  },
  {
   "cell_type": "code",
   "execution_count": null,
   "metadata": {},
   "outputs": [],
   "source": []
  }
 ],
 "metadata": {
  "kernelspec": {
   "display_name": "leetcode-craft",
   "language": "python",
   "name": "python3"
  },
  "language_info": {
   "codemirror_mode": {
    "name": "ipython",
    "version": 3
   },
   "file_extension": ".py",
   "mimetype": "text/x-python",
   "name": "python",
   "nbconvert_exporter": "python",
   "pygments_lexer": "ipython3",
   "version": "3.12.2"
  }
 },
 "nbformat": 4,
 "nbformat_minor": 2
}
