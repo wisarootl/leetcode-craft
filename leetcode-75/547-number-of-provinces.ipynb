{
 "cells": [
  {
   "cell_type": "markdown",
   "metadata": {},
   "source": [
    "# 547. Number of Provinces"
   ]
  },
  {
   "cell_type": "markdown",
   "metadata": {},
   "source": [
    "https://leetcode.com/problems/number-of-provinces"
   ]
  },
  {
   "cell_type": "code",
   "execution_count": 3,
   "metadata": {},
   "outputs": [],
   "source": [
    "class Solution:\n",
    "    # time = O(V+E)\n",
    "    # space = O(V)\n",
    "    def findCircleNum(self, isConnected: list[list[int]]) -> int:\n",
    "        n = len(isConnected)\n",
    "        provinces = 0\n",
    "        visited = set()\n",
    "\n",
    "        def dfs(city):\n",
    "            if city in visited:\n",
    "                return\n",
    "            visited.add(city)\n",
    "\n",
    "            for neighbor in range(len(isConnected)):\n",
    "                if isConnected[city][neighbor] == 1:\n",
    "                    dfs(neighbor)\n",
    "\n",
    "        for city in range(n):\n",
    "            if city not in visited:\n",
    "                dfs(city)\n",
    "                provinces += 1\n",
    "\n",
    "        return provinces"
   ]
  },
  {
   "cell_type": "code",
   "execution_count": 4,
   "metadata": {},
   "outputs": [
    {
     "name": "stdout",
     "output_type": "stream",
     "text": [
      "2\n"
     ]
    }
   ],
   "source": [
    "isConnected = [[1, 1, 0], [1, 1, 0], [0, 0, 1]]\n",
    "expected = 2\n",
    "\n",
    "output = Solution().findCircleNum(isConnected)\n",
    "\n",
    "print(output)\n",
    "assert output == expected"
   ]
  },
  {
   "cell_type": "code",
   "execution_count": 5,
   "metadata": {},
   "outputs": [
    {
     "name": "stdout",
     "output_type": "stream",
     "text": [
      "3\n"
     ]
    }
   ],
   "source": [
    "isConnected = [[1, 0, 0], [0, 1, 0], [0, 0, 1]]\n",
    "expected = 3\n",
    "\n",
    "output = Solution().findCircleNum(isConnected)\n",
    "\n",
    "print(output)\n",
    "assert output == expected"
   ]
  },
  {
   "cell_type": "code",
   "execution_count": null,
   "metadata": {},
   "outputs": [],
   "source": []
  }
 ],
 "metadata": {
  "kernelspec": {
   "display_name": "leetcode-craft",
   "language": "python",
   "name": "python3"
  },
  "language_info": {
   "codemirror_mode": {
    "name": "ipython",
    "version": 3
   },
   "file_extension": ".py",
   "mimetype": "text/x-python",
   "name": "python",
   "nbconvert_exporter": "python",
   "pygments_lexer": "ipython3",
   "version": "3.12.2"
  }
 },
 "nbformat": 4,
 "nbformat_minor": 2
}
