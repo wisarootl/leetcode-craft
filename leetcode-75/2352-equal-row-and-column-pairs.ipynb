{
 "cells": [
  {
   "cell_type": "markdown",
   "metadata": {},
   "source": [
    "# 2352. Equal Row and Column Pairs"
   ]
  },
  {
   "cell_type": "markdown",
   "metadata": {},
   "source": [
    "https://leetcode.com/problems/equal-row-and-column-pairs/"
   ]
  },
  {
   "cell_type": "code",
   "execution_count": 1,
   "metadata": {},
   "outputs": [],
   "source": [
    "# from collections import defaultdict\n",
    "\n",
    "\n",
    "# class Solution:\n",
    "#     def equalPairs(self, grid: list[list[int]]) -> int:\n",
    "#         rows = defaultdict(int)\n",
    "#         count = 0\n",
    "\n",
    "#         for i in range(len(grid)):\n",
    "#             rows[str(grid[i])] += 1\n",
    "\n",
    "#         for i in range(len(grid[0])):\n",
    "#             col = []\n",
    "#             for j in range(len(grid)):\n",
    "#                 col.append(grid[j][i])\n",
    "\n",
    "#             col = str(col)\n",
    "\n",
    "#             count += rows[col]\n",
    "\n",
    "#         return count"
   ]
  },
  {
   "cell_type": "code",
   "execution_count": 2,
   "metadata": {},
   "outputs": [],
   "source": [
    "from collections import Counter\n",
    "\n",
    "\n",
    "class Solution:\n",
    "    def equalPairs(self, grid: list[list[int]]) -> int:\n",
    "        columns = Counter(zip(*grid))\n",
    "        rows = Counter(map(tuple, grid))\n",
    "\n",
    "        return sum(columns[t] * rows[t] for t in columns)"
   ]
  },
  {
   "cell_type": "code",
   "execution_count": 3,
   "metadata": {},
   "outputs": [
    {
     "data": {
      "text/plain": [
       "1"
      ]
     },
     "execution_count": 3,
     "metadata": {},
     "output_type": "execute_result"
    }
   ],
   "source": [
    "grid = [[3, 2, 1], [1, 7, 6], [2, 7, 7]]\n",
    "expected = 1\n",
    "\n",
    "output = Solution().equalPairs(grid)\n",
    "\n",
    "assert output == expected\n",
    "output"
   ]
  },
  {
   "cell_type": "code",
   "execution_count": 4,
   "metadata": {},
   "outputs": [
    {
     "data": {
      "text/plain": [
       "3"
      ]
     },
     "execution_count": 4,
     "metadata": {},
     "output_type": "execute_result"
    }
   ],
   "source": [
    "grid = [[3, 1, 2, 2], [1, 4, 4, 5], [2, 4, 2, 2], [2, 4, 2, 2]]\n",
    "expected = 3\n",
    "\n",
    "output = Solution().equalPairs(grid)\n",
    "\n",
    "assert output == expected\n",
    "output"
   ]
  },
  {
   "cell_type": "code",
   "execution_count": null,
   "metadata": {},
   "outputs": [],
   "source": []
  }
 ],
 "metadata": {
  "kernelspec": {
   "display_name": "leetcode-craft",
   "language": "python",
   "name": "python3"
  },
  "language_info": {
   "codemirror_mode": {
    "name": "ipython",
    "version": 3
   },
   "file_extension": ".py",
   "mimetype": "text/x-python",
   "name": "python",
   "nbconvert_exporter": "python",
   "pygments_lexer": "ipython3",
   "version": "3.12.2"
  }
 },
 "nbformat": 4,
 "nbformat_minor": 2
}
