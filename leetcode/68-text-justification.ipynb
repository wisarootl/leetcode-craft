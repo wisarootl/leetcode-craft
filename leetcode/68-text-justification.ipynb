{
 "cells": [
  {
   "cell_type": "markdown",
   "metadata": {},
   "source": [
    "# 68. Text Justification"
   ]
  },
  {
   "cell_type": "markdown",
   "metadata": {},
   "source": [
    "https://leetcode.com/problems/text-justification/description"
   ]
  },
  {
   "cell_type": "code",
   "execution_count": 9,
   "metadata": {},
   "outputs": [],
   "source": [
    "class Solution:\n",
    "    def fullJustify(self, words: list[str], maxWidth: int) -> list[str]:\n",
    "        res, cur, num_of_letters = [], [], 0\n",
    "        for w in words:\n",
    "            if num_of_letters + len(w) + len(cur) > maxWidth:\n",
    "                for i in range(maxWidth - num_of_letters):\n",
    "                    cur[i % (len(cur) - 1 or 1)] += \" \"\n",
    "                res.append(\"\".join(cur))\n",
    "                cur, num_of_letters = [], 0\n",
    "            cur.append(w)\n",
    "            num_of_letters += len(w)\n",
    "        return res + [\" \".join(cur).ljust(maxWidth)]"
   ]
  },
  {
   "cell_type": "code",
   "execution_count": 10,
   "metadata": {},
   "outputs": [
    {
     "name": "stdout",
     "output_type": "stream",
     "text": [
      "['This    is    an', 'example  of text', 'justification.  ']\n"
     ]
    }
   ],
   "source": [
    "words = [\"This\", \"is\", \"an\", \"example\", \"of\", \"text\", \"justification.\"]\n",
    "maxWidth = 16\n",
    "\n",
    "expected = [\"This    is    an\", \"example  of text\", \"justification.  \"]\n",
    "\n",
    "output = Solution().fullJustify(words, maxWidth)\n",
    "print(output)\n",
    "\n",
    "assert output == expected"
   ]
  },
  {
   "cell_type": "code",
   "execution_count": 11,
   "metadata": {},
   "outputs": [
    {
     "name": "stdout",
     "output_type": "stream",
     "text": [
      "['What   must   be', 'acknowledgment  ', 'shall be        ']\n"
     ]
    }
   ],
   "source": [
    "words = [\"What\", \"must\", \"be\", \"acknowledgment\", \"shall\", \"be\"]\n",
    "maxWidth = 16\n",
    "\n",
    "expected = [\"What   must   be\", \"acknowledgment  \", \"shall be        \"]\n",
    "\n",
    "output = Solution().fullJustify(words, maxWidth)\n",
    "print(output)\n",
    "\n",
    "assert output == expected"
   ]
  },
  {
   "cell_type": "code",
   "execution_count": 12,
   "metadata": {},
   "outputs": [
    {
     "name": "stdout",
     "output_type": "stream",
     "text": [
      "['Science  is  what we', 'understand      well', 'enough to explain to', 'a  computer.  Art is', 'everything  else  we', 'do                  ']\n"
     ]
    }
   ],
   "source": [
    "words = [\n",
    "    \"Science\",\n",
    "    \"is\",\n",
    "    \"what\",\n",
    "    \"we\",\n",
    "    \"understand\",\n",
    "    \"well\",\n",
    "    \"enough\",\n",
    "    \"to\",\n",
    "    \"explain\",\n",
    "    \"to\",\n",
    "    \"a\",\n",
    "    \"computer.\",\n",
    "    \"Art\",\n",
    "    \"is\",\n",
    "    \"everything\",\n",
    "    \"else\",\n",
    "    \"we\",\n",
    "    \"do\",\n",
    "]\n",
    "maxWidth = 20\n",
    "\n",
    "expected = [\n",
    "    \"Science  is  what we\",\n",
    "    \"understand      well\",\n",
    "    \"enough to explain to\",\n",
    "    \"a  computer.  Art is\",\n",
    "    \"everything  else  we\",\n",
    "    \"do                  \",\n",
    "]\n",
    "\n",
    "output = Solution().fullJustify(words, maxWidth)\n",
    "print(output)\n",
    "\n",
    "assert output == expected"
   ]
  },
  {
   "cell_type": "code",
   "execution_count": null,
   "metadata": {},
   "outputs": [],
   "source": []
  }
 ],
 "metadata": {
  "kernelspec": {
   "display_name": "leetcode-craft",
   "language": "python",
   "name": "python3"
  },
  "language_info": {
   "codemirror_mode": {
    "name": "ipython",
    "version": 3
   },
   "file_extension": ".py",
   "mimetype": "text/x-python",
   "name": "python",
   "nbconvert_exporter": "python",
   "pygments_lexer": "ipython3",
   "version": "3.12.2"
  }
 },
 "nbformat": 4,
 "nbformat_minor": 2
}
