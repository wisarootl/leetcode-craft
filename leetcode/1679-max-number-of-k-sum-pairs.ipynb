{
 "cells": [
  {
   "cell_type": "markdown",
   "metadata": {},
   "source": [
    "# 1679. Max Number of K-Sum Pairs"
   ]
  },
  {
   "cell_type": "markdown",
   "metadata": {},
   "source": [
    "https://leetcode.com/problems/max-number-of-k-sum-pairs"
   ]
  },
  {
   "cell_type": "code",
   "execution_count": 1,
   "metadata": {},
   "outputs": [],
   "source": [
    "class Solution:\n",
    "\n",
    "    # time = O(n log n)\n",
    "    # space = O(1)\n",
    "    def maxOperations(self, nums: list[int], k: int) -> int:\n",
    "        nums.sort()\n",
    "\n",
    "        left_idx = 0\n",
    "        right_idx = len(nums) - 1\n",
    "        count = 0\n",
    "\n",
    "        while left_idx < right_idx:\n",
    "            pair_sum = nums[left_idx] + nums[right_idx]\n",
    "            if pair_sum > k:\n",
    "                right_idx -= 1\n",
    "            elif pair_sum < k:\n",
    "                left_idx += 1\n",
    "            else:\n",
    "                count += 1\n",
    "                left_idx += 1\n",
    "                right_idx -= 1\n",
    "\n",
    "        return count"
   ]
  },
  {
   "cell_type": "code",
   "execution_count": 5,
   "metadata": {},
   "outputs": [],
   "source": [
    "# optimize time\n",
    "# from collections import Counter\n",
    "\n",
    "\n",
    "# # time = O(n)\n",
    "# # space = O(n)\n",
    "# class Solution:\n",
    "#     def maxOperations(self, nums: list[int], k: int) -> int:\n",
    "#         num_freq = Counter(nums)\n",
    "#         operations = 0\n",
    "\n",
    "#         for num in nums:\n",
    "#             complement = k - num\n",
    "#             if num_freq[num] > 0 and num_freq[complement] > 0:\n",
    "#                 if num == complement and num_freq[num] < 2:\n",
    "#                     continue\n",
    "#                 num_freq[num] -= 1\n",
    "#                 num_freq[complement] -= 1\n",
    "#                 operations += 1\n",
    "\n",
    "#         return operations"
   ]
  },
  {
   "cell_type": "code",
   "execution_count": 6,
   "metadata": {},
   "outputs": [
    {
     "name": "stdout",
     "output_type": "stream",
     "text": [
      "2\n"
     ]
    }
   ],
   "source": [
    "nums = [1, 2, 3, 4]\n",
    "k = 5\n",
    "\n",
    "expected = 2\n",
    "\n",
    "output = Solution().maxOperations(nums, k)\n",
    "print(output)\n",
    "assert output == expected"
   ]
  },
  {
   "cell_type": "code",
   "execution_count": 4,
   "metadata": {},
   "outputs": [
    {
     "name": "stdout",
     "output_type": "stream",
     "text": [
      "1\n"
     ]
    }
   ],
   "source": [
    "nums = [3, 1, 3, 4, 3]\n",
    "k = 6\n",
    "\n",
    "expected = 1\n",
    "\n",
    "output = Solution().maxOperations(nums, k)\n",
    "print(output)\n",
    "assert output == expected"
   ]
  },
  {
   "cell_type": "code",
   "execution_count": null,
   "metadata": {},
   "outputs": [],
   "source": []
  }
 ],
 "metadata": {
  "kernelspec": {
   "display_name": "leetcode-craft",
   "language": "python",
   "name": "python3"
  },
  "language_info": {
   "codemirror_mode": {
    "name": "ipython",
    "version": 3
   },
   "file_extension": ".py",
   "mimetype": "text/x-python",
   "name": "python",
   "nbconvert_exporter": "python",
   "pygments_lexer": "ipython3",
   "version": "3.12.2"
  }
 },
 "nbformat": 4,
 "nbformat_minor": 2
}
