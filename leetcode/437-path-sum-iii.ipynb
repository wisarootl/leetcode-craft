{
 "cells": [
  {
   "cell_type": "markdown",
   "metadata": {},
   "source": [
    "# 437. Path Sum III"
   ]
  },
  {
   "cell_type": "markdown",
   "metadata": {},
   "source": [
    "https://leetcode.com/problems/path-sum-iii/"
   ]
  },
  {
   "cell_type": "code",
   "execution_count": 1,
   "metadata": {},
   "outputs": [],
   "source": [
    "from leetcode_craft.binary_tree_helper import TreeNode, build_binary_tree_from_array_representation"
   ]
  },
  {
   "cell_type": "code",
   "execution_count": 2,
   "metadata": {},
   "outputs": [],
   "source": [
    "from typing import Optional\n",
    "\n",
    "\n",
    "class Solution:\n",
    "    # time = O(N)\n",
    "    # space = O(N)\n",
    "    def pathSum(self, root: Optional[TreeNode], targetSum: int) -> int:\n",
    "        self.result = 0\n",
    "        cache = {0: 1}  # in case we need root node in the path\n",
    "\n",
    "        self.dfs(root, targetSum, 0, cache)\n",
    "\n",
    "        return self.result\n",
    "\n",
    "    def dfs(self, root: Optional[TreeNode], targetSum: int, currPathSum: int, cache: dict[int, int]):\n",
    "        if root is None:\n",
    "            return\n",
    "\n",
    "        currPathSum += root.val\n",
    "        oldPathSum = currPathSum - targetSum\n",
    "\n",
    "        self.result += cache.get(oldPathSum, 0)\n",
    "        cache[currPathSum] = cache.get(currPathSum, 0) + 1\n",
    "\n",
    "        self.dfs(root.left, targetSum, currPathSum, cache)\n",
    "        self.dfs(root.right, targetSum, currPathSum, cache)\n",
    "        cache[currPathSum] -= 1  # clear cache before switching branch"
   ]
  },
  {
   "cell_type": "code",
   "execution_count": 3,
   "metadata": {},
   "outputs": [
    {
     "name": "stdout",
     "output_type": "stream",
     "text": [
      "3\n"
     ]
    }
   ],
   "source": [
    "root = build_binary_tree_from_array_representation([10, 5, -3, 3, 2, None, 11, 3, -2, None, 1])\n",
    "targetSum = 8\n",
    "\n",
    "expected = 3\n",
    "\n",
    "output = Solution().pathSum(root, targetSum)\n",
    "print(output)\n",
    "assert output == expected"
   ]
  },
  {
   "cell_type": "code",
   "execution_count": 4,
   "metadata": {},
   "outputs": [
    {
     "name": "stdout",
     "output_type": "stream",
     "text": [
      "3\n"
     ]
    }
   ],
   "source": [
    "root = build_binary_tree_from_array_representation([5, 4, 8, 11, None, 13, 4, 7, 2, None, None, 5, 1])\n",
    "targetSum = 22\n",
    "\n",
    "expected = 3\n",
    "\n",
    "output = Solution().pathSum(root, targetSum)\n",
    "print(output)\n",
    "assert output == expected"
   ]
  },
  {
   "cell_type": "code",
   "execution_count": null,
   "metadata": {},
   "outputs": [],
   "source": []
  }
 ],
 "metadata": {
  "kernelspec": {
   "display_name": "leetcode-craft",
   "language": "python",
   "name": "python3"
  },
  "language_info": {
   "codemirror_mode": {
    "name": "ipython",
    "version": 3
   },
   "file_extension": ".py",
   "mimetype": "text/x-python",
   "name": "python",
   "nbconvert_exporter": "python",
   "pygments_lexer": "ipython3",
   "version": "3.12.2"
  }
 },
 "nbformat": 4,
 "nbformat_minor": 2
}
