{
 "cells": [
  {
   "cell_type": "markdown",
   "metadata": {},
   "source": [
    "# 215. Kth Largest Element in an Array"
   ]
  },
  {
   "cell_type": "markdown",
   "metadata": {},
   "source": [
    "https://leetcode.com/problems/kth-largest-element-in-an-array/"
   ]
  },
  {
   "cell_type": "code",
   "execution_count": 2,
   "metadata": {},
   "outputs": [],
   "source": [
    "import heapq\n",
    "\n",
    "\n",
    "class Solution:\n",
    "    # time = O(n log k)\n",
    "    # space = O(k)\n",
    "    # n = len(nums)\n",
    "    def findKthLargest(self, nums: list[int], k: int) -> int:\n",
    "        heap = []\n",
    "        for num in nums:\n",
    "            if len(heap) < k:\n",
    "                heapq.heappush(heap, num)\n",
    "            else:\n",
    "                heapq.heappushpop(heap, num)\n",
    "\n",
    "        return heap[0]"
   ]
  },
  {
   "cell_type": "code",
   "execution_count": 3,
   "metadata": {},
   "outputs": [
    {
     "name": "stdout",
     "output_type": "stream",
     "text": [
      "5\n"
     ]
    }
   ],
   "source": [
    "nums = [3, 2, 1, 5, 6, 4]\n",
    "k = 2\n",
    "\n",
    "expected = 5\n",
    "output = Solution().findKthLargest(nums, k)\n",
    "print(output)\n",
    "assert output == expected"
   ]
  },
  {
   "cell_type": "code",
   "execution_count": 4,
   "metadata": {},
   "outputs": [
    {
     "name": "stdout",
     "output_type": "stream",
     "text": [
      "4\n"
     ]
    }
   ],
   "source": [
    "nums = [3, 2, 3, 1, 2, 4, 5, 5, 6]\n",
    "k = 4\n",
    "\n",
    "expected = 4\n",
    "output = Solution().findKthLargest(nums, k)\n",
    "print(output)\n",
    "assert output == expected"
   ]
  },
  {
   "cell_type": "code",
   "execution_count": null,
   "metadata": {},
   "outputs": [],
   "source": []
  }
 ],
 "metadata": {
  "kernelspec": {
   "display_name": "leetcode-craft",
   "language": "python",
   "name": "python3"
  },
  "language_info": {
   "codemirror_mode": {
    "name": "ipython",
    "version": 3
   },
   "file_extension": ".py",
   "mimetype": "text/x-python",
   "name": "python",
   "nbconvert_exporter": "python",
   "pygments_lexer": "ipython3",
   "version": "3.12.2"
  }
 },
 "nbformat": 4,
 "nbformat_minor": 2
}
