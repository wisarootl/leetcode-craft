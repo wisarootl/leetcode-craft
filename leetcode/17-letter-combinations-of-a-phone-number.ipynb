{
 "cells": [
  {
   "cell_type": "markdown",
   "metadata": {},
   "source": [
    "# 17. Letter Combinations of a Phone Number"
   ]
  },
  {
   "cell_type": "markdown",
   "metadata": {},
   "source": [
    "https://leetcode.com/problems/letter-combinations-of-a-phone-number/"
   ]
  },
  {
   "cell_type": "code",
   "execution_count": 1,
   "metadata": {},
   "outputs": [],
   "source": [
    "class Solution:\n",
    "    # time = O(N * 4^N)\n",
    "    # space = O(N * 4^N) # call stack and output\n",
    "    def letterCombinations(self, digits: str) -> list[str]:\n",
    "        if not digits:\n",
    "            return []\n",
    "\n",
    "        digit_to_letters = {\n",
    "            \"2\": \"abc\",\n",
    "            \"3\": \"def\",\n",
    "            \"4\": \"ghi\",\n",
    "            \"5\": \"jkl\",\n",
    "            \"6\": \"mno\",\n",
    "            \"7\": \"pqrs\",\n",
    "            \"8\": \"tuv\",\n",
    "            \"9\": \"wxyz\",\n",
    "        }\n",
    "\n",
    "        def backtrack(combination, next_digits, output):\n",
    "            if len(next_digits) == 0:\n",
    "                output.append(combination)\n",
    "            else:\n",
    "                for letter in digit_to_letters[next_digits[0]]:\n",
    "                    output = backtrack(combination + letter, next_digits[1:], output)\n",
    "\n",
    "            return output\n",
    "\n",
    "        output = []\n",
    "        return backtrack(\"\", digits, output)"
   ]
  },
  {
   "cell_type": "code",
   "execution_count": 3,
   "metadata": {},
   "outputs": [
    {
     "name": "stdout",
     "output_type": "stream",
     "text": [
      "['ad', 'ae', 'af', 'bd', 'be', 'bf', 'cd', 'ce', 'cf']\n"
     ]
    }
   ],
   "source": [
    "digits = \"23\"\n",
    "expected = [\"ad\", \"ae\", \"af\", \"bd\", \"be\", \"bf\", \"cd\", \"ce\", \"cf\"]\n",
    "\n",
    "output = Solution().letterCombinations(digits)\n",
    "print(output)\n",
    "assert set(output) == set(expected)"
   ]
  },
  {
   "cell_type": "code",
   "execution_count": 4,
   "metadata": {},
   "outputs": [
    {
     "name": "stdout",
     "output_type": "stream",
     "text": [
      "[]\n"
     ]
    }
   ],
   "source": [
    "digits = \"\"\n",
    "expected = []\n",
    "\n",
    "output = Solution().letterCombinations(digits)\n",
    "print(output)\n",
    "assert set(output) == set(expected)"
   ]
  },
  {
   "cell_type": "code",
   "execution_count": 5,
   "metadata": {},
   "outputs": [
    {
     "name": "stdout",
     "output_type": "stream",
     "text": [
      "['a', 'b', 'c']\n"
     ]
    }
   ],
   "source": [
    "digits = \"2\"\n",
    "expected = [\"a\", \"b\", \"c\"]\n",
    "\n",
    "output = Solution().letterCombinations(digits)\n",
    "print(output)\n",
    "assert set(output) == set(expected)"
   ]
  },
  {
   "cell_type": "code",
   "execution_count": null,
   "metadata": {},
   "outputs": [],
   "source": []
  }
 ],
 "metadata": {
  "kernelspec": {
   "display_name": "leetcode-craft",
   "language": "python",
   "name": "python3"
  },
  "language_info": {
   "codemirror_mode": {
    "name": "ipython",
    "version": 3
   },
   "file_extension": ".py",
   "mimetype": "text/x-python",
   "name": "python",
   "nbconvert_exporter": "python",
   "pygments_lexer": "ipython3",
   "version": "3.12.2"
  }
 },
 "nbformat": 4,
 "nbformat_minor": 2
}
