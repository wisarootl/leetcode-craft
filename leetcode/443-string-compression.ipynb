{
 "cells": [
  {
   "cell_type": "markdown",
   "metadata": {},
   "source": [
    "# 443. String Compression"
   ]
  },
  {
   "cell_type": "code",
   "execution_count": 1,
   "metadata": {},
   "outputs": [],
   "source": [
    "class Solution:\n",
    "    # time = O(n)\n",
    "    # space = O(1)\n",
    "    def compress(self, chars: list[str]) -> int:\n",
    "        write_idx = 0\n",
    "        read_idx = 0\n",
    "\n",
    "        while read_idx < len(chars):\n",
    "            current_char = chars[read_idx]\n",
    "            count = 0\n",
    "\n",
    "            while read_idx < len(chars) and chars[read_idx] == current_char:\n",
    "                read_idx += 1\n",
    "                count += 1\n",
    "\n",
    "            chars[write_idx] = current_char\n",
    "            write_idx += 1\n",
    "\n",
    "            if count > 1:\n",
    "                for digit in str(count):\n",
    "                    chars[write_idx] = digit\n",
    "                    write_idx += 1\n",
    "\n",
    "        return write_idx"
   ]
  },
  {
   "cell_type": "code",
   "execution_count": 2,
   "metadata": {},
   "outputs": [
    {
     "name": "stdout",
     "output_type": "stream",
     "text": [
      "6\n",
      "['a', '2', 'b', '2', 'c', '3']\n"
     ]
    }
   ],
   "source": [
    "chars = [\"a\", \"a\", \"b\", \"b\", \"c\", \"c\", \"c\"]\n",
    "\n",
    "expected = 6\n",
    "\n",
    "output = Solution().compress(chars)\n",
    "print(output)\n",
    "print(chars[:output])\n",
    "assert output == expected"
   ]
  },
  {
   "cell_type": "code",
   "execution_count": 3,
   "metadata": {},
   "outputs": [
    {
     "name": "stdout",
     "output_type": "stream",
     "text": [
      "6\n",
      "['a', '2', 'b', '2', 'c', '3']\n"
     ]
    }
   ],
   "source": [
    "chars = [\"a\", \"a\", \"b\", \"b\", \"c\", \"c\", \"c\"]\n",
    "\n",
    "expected = 6\n",
    "\n",
    "output = Solution().compress(chars)\n",
    "print(output)\n",
    "print(chars[:output])\n",
    "assert output == expected"
   ]
  },
  {
   "cell_type": "code",
   "execution_count": 4,
   "metadata": {},
   "outputs": [
    {
     "name": "stdout",
     "output_type": "stream",
     "text": [
      "4\n",
      "['a', 'b', '1', '2']\n"
     ]
    }
   ],
   "source": [
    "chars = [\"a\", \"b\", \"b\", \"b\", \"b\", \"b\", \"b\", \"b\", \"b\", \"b\", \"b\", \"b\", \"b\"]\n",
    "\n",
    "expected = 4\n",
    "\n",
    "output = Solution().compress(chars)\n",
    "print(output)\n",
    "print(chars[:output])\n",
    "assert output == expected"
   ]
  },
  {
   "cell_type": "code",
   "execution_count": 5,
   "metadata": {},
   "outputs": [
    {
     "name": "stdout",
     "output_type": "stream",
     "text": [
      "1\n",
      "['a']\n"
     ]
    }
   ],
   "source": [
    "chars = [\"a\"]\n",
    "\n",
    "expected = 1\n",
    "\n",
    "output = Solution().compress(chars)\n",
    "print(output)\n",
    "print(chars[:output])\n",
    "assert output == expected"
   ]
  }
 ],
 "metadata": {
  "kernelspec": {
   "display_name": "leetcode-craft",
   "language": "python",
   "name": "python3"
  },
  "language_info": {
   "codemirror_mode": {
    "name": "ipython",
    "version": 3
   },
   "file_extension": ".py",
   "mimetype": "text/x-python",
   "name": "python",
   "nbconvert_exporter": "python",
   "pygments_lexer": "ipython3",
   "version": "3.12.2"
  }
 },
 "nbformat": 4,
 "nbformat_minor": 2
}
