{
 "cells": [
  {
   "cell_type": "markdown",
   "metadata": {},
   "source": [
    "# 901. Online Stock Span"
   ]
  },
  {
   "cell_type": "markdown",
   "metadata": {},
   "source": [
    "https://leetcode.com/problems/online-stock-span"
   ]
  },
  {
   "cell_type": "code",
   "execution_count": 5,
   "metadata": {},
   "outputs": [],
   "source": [
    "class StockSpanner:\n",
    "\n",
    "    # space O(n)\n",
    "    # n = number of next method in history\n",
    "    def __init__(self):\n",
    "        self.stack = []\n",
    "\n",
    "    # time = O(n)\n",
    "    # n = number of next method in history\n",
    "    # space O(1)\n",
    "    def next(self, price: int) -> int:\n",
    "        span = 1\n",
    "\n",
    "        while self.stack and self.stack[-1][0] <= price:\n",
    "            span += self.stack.pop()[1]\n",
    "\n",
    "        self.stack.append((price, span))\n",
    "\n",
    "        return span"
   ]
  },
  {
   "cell_type": "code",
   "execution_count": 6,
   "metadata": {},
   "outputs": [],
   "source": [
    "stock_spanner = StockSpanner()\n",
    "assert stock_spanner.next(100) == 1\n",
    "assert stock_spanner.next(80) == 1\n",
    "assert stock_spanner.next(60) == 1\n",
    "assert stock_spanner.next(70) == 2\n",
    "assert stock_spanner.next(60) == 1\n",
    "assert stock_spanner.next(75) == 4\n",
    "assert stock_spanner.next(85) == 6"
   ]
  },
  {
   "cell_type": "code",
   "execution_count": null,
   "metadata": {},
   "outputs": [],
   "source": []
  }
 ],
 "metadata": {
  "kernelspec": {
   "display_name": "leetcode-craft",
   "language": "python",
   "name": "python3"
  },
  "language_info": {
   "codemirror_mode": {
    "name": "ipython",
    "version": 3
   },
   "file_extension": ".py",
   "mimetype": "text/x-python",
   "name": "python",
   "nbconvert_exporter": "python",
   "pygments_lexer": "ipython3",
   "version": "3.12.2"
  }
 },
 "nbformat": 4,
 "nbformat_minor": 2
}
