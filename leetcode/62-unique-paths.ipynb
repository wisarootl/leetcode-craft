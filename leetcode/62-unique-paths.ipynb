{
 "cells": [
  {
   "cell_type": "markdown",
   "metadata": {},
   "source": [
    "# 62. Unique Paths"
   ]
  },
  {
   "cell_type": "markdown",
   "metadata": {},
   "source": [
    "https://leetcode.com/problems/unique-paths/"
   ]
  },
  {
   "cell_type": "code",
   "execution_count": 1,
   "metadata": {},
   "outputs": [],
   "source": [
    "class Solution:\n",
    "    # time = O(mn)\n",
    "    # space = O(min(m, n))\n",
    "    def uniquePaths(self, m: int, n: int) -> int:\n",
    "        n, m = min(m, n), max(m, n)\n",
    "        dp_curr = [0 for _ in range(n)]\n",
    "        dp_prev = [0 for _ in range(n)]\n",
    "\n",
    "        for r in range(m):\n",
    "            for c in range(n):\n",
    "                if r == 0 or c == 0:\n",
    "                    dp_curr[c] = 1\n",
    "                else:\n",
    "                    dp_curr[c] = dp_prev[c] + dp_curr[c - 1]\n",
    "\n",
    "            dp_curr, dp_prev = dp_prev, dp_curr\n",
    "\n",
    "        return dp_prev[n - 1]"
   ]
  },
  {
   "cell_type": "code",
   "execution_count": 2,
   "metadata": {},
   "outputs": [
    {
     "name": "stdout",
     "output_type": "stream",
     "text": [
      "28\n"
     ]
    }
   ],
   "source": [
    "m = 3\n",
    "n = 7\n",
    "\n",
    "expected = 28\n",
    "\n",
    "output = Solution().uniquePaths(m, n)\n",
    "print(output)\n",
    "\n",
    "assert output == expected"
   ]
  },
  {
   "cell_type": "code",
   "execution_count": 3,
   "metadata": {},
   "outputs": [
    {
     "name": "stdout",
     "output_type": "stream",
     "text": [
      "3\n"
     ]
    }
   ],
   "source": [
    "m = 3\n",
    "n = 2\n",
    "\n",
    "expected = 3\n",
    "\n",
    "output = Solution().uniquePaths(m, n)\n",
    "print(output)\n",
    "\n",
    "assert output == expected"
   ]
  },
  {
   "cell_type": "code",
   "execution_count": null,
   "metadata": {},
   "outputs": [],
   "source": []
  }
 ],
 "metadata": {
  "kernelspec": {
   "display_name": "leetcode-craft",
   "language": "python",
   "name": "python3"
  },
  "language_info": {
   "codemirror_mode": {
    "name": "ipython",
    "version": 3
   },
   "file_extension": ".py",
   "mimetype": "text/x-python",
   "name": "python",
   "nbconvert_exporter": "python",
   "pygments_lexer": "ipython3",
   "version": "3.12.2"
  }
 },
 "nbformat": 4,
 "nbformat_minor": 2
}
