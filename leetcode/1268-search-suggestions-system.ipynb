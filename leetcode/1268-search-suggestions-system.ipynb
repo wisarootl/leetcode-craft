{
 "cells": [
  {
   "cell_type": "markdown",
   "metadata": {},
   "source": [
    "# 1268. Search Suggestions System"
   ]
  },
  {
   "cell_type": "markdown",
   "metadata": {},
   "source": [
    "https://leetcode.com/problems/search-suggestions-system/"
   ]
  },
  {
   "cell_type": "code",
   "execution_count": 1,
   "metadata": {},
   "outputs": [],
   "source": [
    "# class TrieNode:\n",
    "#     def __init__(self):\n",
    "#         self.children = {}\n",
    "#         self.words = []\n",
    "\n",
    "\n",
    "# class Trie:\n",
    "#     def __init__(self):\n",
    "#         self.root = TrieNode()\n",
    "\n",
    "#     def insert(self, word):\n",
    "#         node = self.root\n",
    "#         for char in word:\n",
    "#             if char not in node.children:\n",
    "#                 node.children[char] = TrieNode()\n",
    "#             node = node.children[char]\n",
    "#             node.words.append(word)\n",
    "#             node.words.sort()\n",
    "#             if len(node.words) > 3:\n",
    "#                 node.words.pop()\n",
    "\n",
    "#     def search(self, prefix):\n",
    "#         node = self.root\n",
    "#         for char in prefix:\n",
    "#             if char not in node.children:\n",
    "#                 return []\n",
    "#             node = node.children[char]\n",
    "\n",
    "#         return node.words\n",
    "\n",
    "\n",
    "# class Solution:\n",
    "#     # time =  O(n * m + k * m)\n",
    "#     # space = O(n*m) # each node store up 3 elements\n",
    "#     # m = len of product names\n",
    "#     # n = len(products)\n",
    "#     # k = len(searchWord)\n",
    "#     def suggestedProducts(self, products: list[str], searchWord: str) -> list[list[str]]:\n",
    "#         trie = Trie()\n",
    "#         for product in products:\n",
    "#             trie.insert(product)\n",
    "\n",
    "#         result = []\n",
    "#         prefix = \"\"\n",
    "#         for char in searchWord:\n",
    "#             prefix += char\n",
    "#             result.append(trie.search(prefix))\n",
    "#         return result"
   ]
  },
  {
   "cell_type": "code",
   "execution_count": 2,
   "metadata": {},
   "outputs": [],
   "source": [
    "# Solution 2 : binary search\n",
    "\n",
    "import bisect\n",
    "\n",
    "\n",
    "class Solution:\n",
    "    # time: O(n log n + m log n)\n",
    "    # space: O(1)\n",
    "    # n = len(products)\n",
    "    # m = len(searchWord)\n",
    "    def suggestedProducts(self, products: list[str], searchWord: str) -> list[list[str]]:\n",
    "        sorted_products = sorted(products)\n",
    "        result = []\n",
    "\n",
    "        for i in range(1, len(searchWord) + 1):\n",
    "            prefix = searchWord[:i]\n",
    "\n",
    "            # binary search and return\n",
    "            idx = bisect.bisect_left(sorted_products, prefix)\n",
    "            suggestions = []\n",
    "\n",
    "            for j in range(idx, min(idx + 3, len(sorted_products))):\n",
    "                if sorted_products[j].startswith(prefix):\n",
    "                    suggestions.append(sorted_products[j])\n",
    "\n",
    "            result.append(suggestions)\n",
    "\n",
    "        return result"
   ]
  },
  {
   "cell_type": "code",
   "execution_count": 3,
   "metadata": {},
   "outputs": [
    {
     "name": "stdout",
     "output_type": "stream",
     "text": [
      "[['mobile', 'moneypot', 'monitor'], ['mobile', 'moneypot', 'monitor'], ['mouse', 'mousepad'], ['mouse', 'mousepad'], ['mouse', 'mousepad']]\n"
     ]
    }
   ],
   "source": [
    "products = [\"mobile\", \"mouse\", \"moneypot\", \"monitor\", \"mousepad\"]\n",
    "searchWord = \"mouse\"\n",
    "\n",
    "expected = [\n",
    "    [\"mobile\", \"moneypot\", \"monitor\"],\n",
    "    [\"mobile\", \"moneypot\", \"monitor\"],\n",
    "    [\"mouse\", \"mousepad\"],\n",
    "    [\"mouse\", \"mousepad\"],\n",
    "    [\"mouse\", \"mousepad\"],\n",
    "]\n",
    "\n",
    "output = Solution().suggestedProducts(products, searchWord)\n",
    "print(output)\n",
    "assert output == expected"
   ]
  },
  {
   "cell_type": "code",
   "execution_count": 4,
   "metadata": {},
   "outputs": [
    {
     "name": "stdout",
     "output_type": "stream",
     "text": [
      "[['havana'], ['havana'], ['havana'], ['havana'], ['havana'], ['havana']]\n"
     ]
    }
   ],
   "source": [
    "products = [\"havana\"]\n",
    "searchWord = \"havana\"\n",
    "\n",
    "expected = [[\"havana\"], [\"havana\"], [\"havana\"], [\"havana\"], [\"havana\"], [\"havana\"]]\n",
    "\n",
    "output = Solution().suggestedProducts(products, searchWord)\n",
    "print(output)\n",
    "assert output == expected"
   ]
  },
  {
   "cell_type": "code",
   "execution_count": null,
   "metadata": {},
   "outputs": [],
   "source": []
  }
 ],
 "metadata": {
  "kernelspec": {
   "display_name": "leetcode-craft",
   "language": "python",
   "name": "python3"
  },
  "language_info": {
   "codemirror_mode": {
    "name": "ipython",
    "version": 3
   },
   "file_extension": ".py",
   "mimetype": "text/x-python",
   "name": "python",
   "nbconvert_exporter": "python",
   "pygments_lexer": "ipython3",
   "version": "3.12.2"
  }
 },
 "nbformat": 4,
 "nbformat_minor": 2
}
