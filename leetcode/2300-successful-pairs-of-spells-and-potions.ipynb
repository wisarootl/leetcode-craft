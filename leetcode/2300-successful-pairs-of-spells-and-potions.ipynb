{
 "cells": [
  {
   "cell_type": "markdown",
   "metadata": {},
   "source": [
    "# 2300. Successful Pairs of Spells and Potions"
   ]
  },
  {
   "cell_type": "markdown",
   "metadata": {},
   "source": [
    "https://leetcode.com/problems/successful-pairs-of-spells-and-potions/"
   ]
  },
  {
   "cell_type": "code",
   "execution_count": 1,
   "metadata": {},
   "outputs": [],
   "source": [
    "class Solution:\n",
    "    # time = O(m log m + n log m)\n",
    "    # space = O(n)\n",
    "    # n = len(spells)\n",
    "    # m = len(potions)\n",
    "    def successfulPairs(self, spells: list[int], potions: list[int], success: int) -> list[int]:\n",
    "        pairs = []\n",
    "        potions.sort()\n",
    "\n",
    "        for spell in spells:\n",
    "            left = 0\n",
    "            right = len(potions) - 1\n",
    "            required_product = success / spell\n",
    "\n",
    "            while left <= right:\n",
    "                mid = (left + right) // 2\n",
    "                if potions[mid] >= required_product:\n",
    "                    right = mid - 1\n",
    "                else:\n",
    "                    left = mid + 1\n",
    "\n",
    "            pairs.append(len(potions) - left)\n",
    "\n",
    "        return pairs"
   ]
  },
  {
   "cell_type": "code",
   "execution_count": 2,
   "metadata": {},
   "outputs": [
    {
     "name": "stdout",
     "output_type": "stream",
     "text": [
      "[4, 0, 3]\n"
     ]
    }
   ],
   "source": [
    "spells = [5, 1, 3]\n",
    "potions = [1, 2, 3, 4, 5]\n",
    "success = 7\n",
    "\n",
    "expected = [4, 0, 3]\n",
    "\n",
    "\n",
    "output = Solution().successfulPairs(spells, potions, success)\n",
    "print(output)\n",
    "assert output == expected"
   ]
  },
  {
   "cell_type": "code",
   "execution_count": 3,
   "metadata": {},
   "outputs": [
    {
     "name": "stdout",
     "output_type": "stream",
     "text": [
      "[2, 0, 2]\n"
     ]
    }
   ],
   "source": [
    "spells = [3, 1, 2]\n",
    "potions = [8, 5, 8]\n",
    "success = 16\n",
    "\n",
    "expected = [2, 0, 2]\n",
    "\n",
    "\n",
    "output = Solution().successfulPairs(spells, potions, success)\n",
    "print(output)\n",
    "assert output == expected"
   ]
  },
  {
   "cell_type": "code",
   "execution_count": 4,
   "metadata": {},
   "outputs": [
    {
     "name": "stdout",
     "output_type": "stream",
     "text": [
      "[3, 0, 3]\n"
     ]
    }
   ],
   "source": [
    "spells = [15, 8, 19]\n",
    "potions = [38, 36, 23]\n",
    "success = 328\n",
    "\n",
    "expected = [3, 0, 3]\n",
    "\n",
    "\n",
    "output = Solution().successfulPairs(spells, potions, success)\n",
    "print(output)\n",
    "assert output == expected"
   ]
  },
  {
   "cell_type": "code",
   "execution_count": null,
   "metadata": {},
   "outputs": [],
   "source": []
  }
 ],
 "metadata": {
  "kernelspec": {
   "display_name": "leetcode-craft",
   "language": "python",
   "name": "python3"
  },
  "language_info": {
   "codemirror_mode": {
    "name": "ipython",
    "version": 3
   },
   "file_extension": ".py",
   "mimetype": "text/x-python",
   "name": "python",
   "nbconvert_exporter": "python",
   "pygments_lexer": "ipython3",
   "version": "3.12.2"
  }
 },
 "nbformat": 4,
 "nbformat_minor": 2
}
