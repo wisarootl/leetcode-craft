{
 "cells": [
  {
   "cell_type": "markdown",
   "metadata": {},
   "source": [
    "# 1143. Longest Common Subsequence"
   ]
  },
  {
   "cell_type": "markdown",
   "metadata": {},
   "source": [
    "https://leetcode.com/problems/longest-common-subsequence/"
   ]
  },
  {
   "cell_type": "code",
   "execution_count": 1,
   "metadata": {},
   "outputs": [],
   "source": [
    "class Solution:\n",
    "    # time = O(m, n)\n",
    "    # space = O(min(m, n))\n",
    "    # m = len(text1)\n",
    "    # n = len(text2)\n",
    "    def longestCommonSubsequence(self, text1: str, text2: str) -> int:\n",
    "        if len(text1) < len(text2):\n",
    "            text1, text2 = text2, text1\n",
    "        m = len(text1)\n",
    "        n = len(text2)\n",
    "\n",
    "        dp_1 = [0 for _ in range(n + 1)]\n",
    "        dp_2 = [0 for _ in range(n + 1)]\n",
    "\n",
    "        for i in range(1, m + 1):\n",
    "            for j in range(1, n + 1):\n",
    "                if text1[i - 1] == text2[j - 1]:\n",
    "                    dp_2[j] = dp_1[j - 1] + 1\n",
    "                else:\n",
    "                    dp_2[j] = max(dp_1[j], dp_2[j - 1])\n",
    "\n",
    "            dp_1, dp_2 = dp_2, dp_1\n",
    "\n",
    "        return dp_1[n]"
   ]
  },
  {
   "cell_type": "code",
   "execution_count": 2,
   "metadata": {},
   "outputs": [
    {
     "name": "stdout",
     "output_type": "stream",
     "text": [
      "3\n"
     ]
    }
   ],
   "source": [
    "#       a  b  c  d  e\n",
    "#    0  0  0  0  0  0\n",
    "# a  0  1  0  0  0  0\n",
    "# c  0  1  1  2  0  0\n",
    "# e  0  1  1  2  2  3\n",
    "\n",
    "text1 = \"abcde\"\n",
    "text2 = \"ace\"\n",
    "\n",
    "expected = 3\n",
    "\n",
    "output = Solution().longestCommonSubsequence(text1, text2)\n",
    "print(output)\n",
    "\n",
    "assert output == expected"
   ]
  },
  {
   "cell_type": "code",
   "execution_count": 3,
   "metadata": {},
   "outputs": [
    {
     "name": "stdout",
     "output_type": "stream",
     "text": [
      "3\n"
     ]
    }
   ],
   "source": [
    "text1 = \"abc\"\n",
    "text2 = \"abc\"\n",
    "\n",
    "expected = 3\n",
    "\n",
    "output = Solution().longestCommonSubsequence(text1, text2)\n",
    "print(output)\n",
    "\n",
    "assert output == expected"
   ]
  },
  {
   "cell_type": "code",
   "execution_count": 4,
   "metadata": {},
   "outputs": [
    {
     "name": "stdout",
     "output_type": "stream",
     "text": [
      "0\n"
     ]
    }
   ],
   "source": [
    "text1 = \"abc\"\n",
    "text2 = \"def\"\n",
    "\n",
    "expected = 0\n",
    "\n",
    "output = Solution().longestCommonSubsequence(text1, text2)\n",
    "print(output)\n",
    "\n",
    "assert output == expected"
   ]
  },
  {
   "cell_type": "code",
   "execution_count": null,
   "metadata": {},
   "outputs": [],
   "source": []
  }
 ],
 "metadata": {
  "kernelspec": {
   "display_name": "leetcode-craft",
   "language": "python",
   "name": "python3"
  },
  "language_info": {
   "codemirror_mode": {
    "name": "ipython",
    "version": 3
   },
   "file_extension": ".py",
   "mimetype": "text/x-python",
   "name": "python",
   "nbconvert_exporter": "python",
   "pygments_lexer": "ipython3",
   "version": "3.12.2"
  }
 },
 "nbformat": 4,
 "nbformat_minor": 2
}
