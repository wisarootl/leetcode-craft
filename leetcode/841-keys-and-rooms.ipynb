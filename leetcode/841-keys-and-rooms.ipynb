{
 "cells": [
  {
   "cell_type": "markdown",
   "metadata": {},
   "source": [
    "# 841. Keys and Rooms"
   ]
  },
  {
   "cell_type": "markdown",
   "metadata": {},
   "source": [
    "https://leetcode.com/problems/keys-and-rooms/"
   ]
  },
  {
   "cell_type": "code",
   "execution_count": 1,
   "metadata": {},
   "outputs": [],
   "source": [
    "# iteration approach\n",
    "\n",
    "\n",
    "class Solution:\n",
    "    # time = O(v + e)\n",
    "    # space = O(v)\n",
    "    # v = len(rooms)\n",
    "    # e = all keys in all rooms (edges)\n",
    "    def canVisitAllRooms(self, rooms: list[list[int]]) -> bool:\n",
    "        fringe = [0]\n",
    "        visited = set()\n",
    "\n",
    "        while fringe:\n",
    "            front = fringe.pop()\n",
    "            if front in visited:\n",
    "                continue\n",
    "            visited.add(front)\n",
    "\n",
    "            for key in rooms[front]:\n",
    "                fringe.append(key)\n",
    "\n",
    "        return len(visited) == len(rooms)"
   ]
  },
  {
   "cell_type": "code",
   "execution_count": 12,
   "metadata": {},
   "outputs": [],
   "source": [
    "# recursive approach\n",
    "\n",
    "# class Solution:\n",
    "#     # time = O(v + e)\n",
    "#     # space = O(v)\n",
    "#     # v = len(rooms)\n",
    "#     # e = all keys in all rooms (edges)\n",
    "#     def canVisitAllRooms(self, rooms: list[list[int]]) -> bool:\n",
    "#         visited = set([0])\n",
    "#         def dfs(room):\n",
    "#           visited.add(room)\n",
    "#           for key in rooms[room]:\n",
    "#             if key in visited:\n",
    "#               continue\n",
    "#             dfs(key)\n",
    "\n",
    "#         dfs(0)\n",
    "#         return len(visited) == len(rooms)"
   ]
  },
  {
   "cell_type": "code",
   "execution_count": 13,
   "metadata": {},
   "outputs": [
    {
     "name": "stdout",
     "output_type": "stream",
     "text": [
      "True\n"
     ]
    }
   ],
   "source": [
    "rooms = [[1], [2], [3], []]\n",
    "expected = True\n",
    "\n",
    "output = Solution().canVisitAllRooms(rooms)\n",
    "print(output)\n",
    "assert output == expected"
   ]
  },
  {
   "cell_type": "code",
   "execution_count": 14,
   "metadata": {},
   "outputs": [
    {
     "name": "stdout",
     "output_type": "stream",
     "text": [
      "False\n"
     ]
    }
   ],
   "source": [
    "rooms = [[1, 3], [3, 0, 1], [2], [0]]\n",
    "expected = False\n",
    "\n",
    "output = Solution().canVisitAllRooms(rooms)\n",
    "print(output)\n",
    "assert output == expected"
   ]
  },
  {
   "cell_type": "code",
   "execution_count": null,
   "metadata": {},
   "outputs": [],
   "source": []
  },
  {
   "cell_type": "code",
   "execution_count": null,
   "metadata": {},
   "outputs": [],
   "source": []
  }
 ],
 "metadata": {
  "kernelspec": {
   "display_name": "leetcode-craft",
   "language": "python",
   "name": "python3"
  },
  "language_info": {
   "codemirror_mode": {
    "name": "ipython",
    "version": 3
   },
   "file_extension": ".py",
   "mimetype": "text/x-python",
   "name": "python",
   "nbconvert_exporter": "python",
   "pygments_lexer": "ipython3",
   "version": "3.12.2"
  }
 },
 "nbformat": 4,
 "nbformat_minor": 2
}
