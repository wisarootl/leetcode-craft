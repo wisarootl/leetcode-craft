{
 "cells": [
  {
   "cell_type": "markdown",
   "metadata": {},
   "source": [
    "# 25. Reverse Nodes in k-Group"
   ]
  },
  {
   "cell_type": "markdown",
   "metadata": {},
   "source": [
    "https://leetcode.com/problems/reverse-nodes-in-k-group/"
   ]
  },
  {
   "cell_type": "code",
   "execution_count": 1,
   "metadata": {},
   "outputs": [],
   "source": [
    "from leetcode_craft.singly_linked_list_helper import ListNode, build_linked_list\n",
    "from typing import Optional"
   ]
  },
  {
   "cell_type": "code",
   "execution_count": 2,
   "metadata": {},
   "outputs": [],
   "source": [
    "class Solution:\n",
    "    def reverseKGroup(self, head: Optional[ListNode], k: int) -> Optional[ListNode]:\n",
    "        def reverse_sublist(head: Optional[ListNode], tail: Optional[ListNode]):\n",
    "            prev = None\n",
    "            curr = head\n",
    "            while curr != tail:\n",
    "                curr.next, prev, curr = prev, curr, curr.next\n",
    "            return prev\n",
    "\n",
    "        dummy = ListNode(0)\n",
    "        dummy.next = head\n",
    "        prev_group_tail = dummy\n",
    "        curr = head\n",
    "\n",
    "        while curr:\n",
    "            group_head = curr\n",
    "            count = 0\n",
    "            while curr and count < k:\n",
    "                curr = curr.next\n",
    "                count += 1\n",
    "\n",
    "            if count == k:\n",
    "                group_tail = curr\n",
    "                prev_group_tail.next = reverse_sublist(group_head, group_tail)\n",
    "                prev_group_tail = group_head\n",
    "            else:\n",
    "                prev_group_tail.next = group_head\n",
    "\n",
    "        return dummy.next"
   ]
  },
  {
   "cell_type": "code",
   "execution_count": 3,
   "metadata": {},
   "outputs": [
    {
     "name": "stdout",
     "output_type": "stream",
     "text": [
      "2 -> 1 -> 4 -> 3 -> 5\n"
     ]
    }
   ],
   "source": [
    "head = build_linked_list([1, 2, 3, 4, 5])\n",
    "k = 2\n",
    "\n",
    "expected = build_linked_list([2, 1, 4, 3, 5])\n",
    "\n",
    "\n",
    "output = Solution().reverseKGroup(head, k)\n",
    "print(output)\n",
    "assert output == expected"
   ]
  },
  {
   "cell_type": "code",
   "execution_count": 4,
   "metadata": {},
   "outputs": [
    {
     "name": "stdout",
     "output_type": "stream",
     "text": [
      "3 -> 2 -> 1 -> 4 -> 5\n"
     ]
    }
   ],
   "source": [
    "head = build_linked_list([1, 2, 3, 4, 5])\n",
    "k = 3\n",
    "\n",
    "expected = build_linked_list([3, 2, 1, 4, 5])\n",
    "\n",
    "\n",
    "output = Solution().reverseKGroup(head, k)\n",
    "print(output)\n",
    "assert output == expected"
   ]
  },
  {
   "cell_type": "code",
   "execution_count": null,
   "metadata": {},
   "outputs": [],
   "source": []
  }
 ],
 "metadata": {
  "kernelspec": {
   "display_name": "leetcode-craft",
   "language": "python",
   "name": "python3"
  },
  "language_info": {
   "codemirror_mode": {
    "name": "ipython",
    "version": 3
   },
   "file_extension": ".py",
   "mimetype": "text/x-python",
   "name": "python",
   "nbconvert_exporter": "python",
   "pygments_lexer": "ipython3",
   "version": "3.12.2"
  }
 },
 "nbformat": 4,
 "nbformat_minor": 2
}
