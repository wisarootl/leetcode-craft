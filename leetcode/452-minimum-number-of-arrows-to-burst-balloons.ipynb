{
 "cells": [
  {
   "cell_type": "markdown",
   "metadata": {},
   "source": [
    "# 452. Minimum Number of Arrows to Burst Balloons"
   ]
  },
  {
   "cell_type": "markdown",
   "metadata": {},
   "source": [
    "https://leetcode.com/problems/minimum-number-of-arrows-to-burst-balloons"
   ]
  },
  {
   "cell_type": "code",
   "execution_count": 1,
   "metadata": {},
   "outputs": [],
   "source": [
    "class Solution:\n",
    "    def findMinArrowShots(self, points: list[list[int]]) -> int:\n",
    "        if not points:\n",
    "            return 0\n",
    "\n",
    "        points.sort(key=lambda x: x[1])\n",
    "\n",
    "        arrows = 1\n",
    "        end = points[0][1]\n",
    "\n",
    "        for balloon in points[1:]:\n",
    "            if balloon[0] <= end:\n",
    "                continue\n",
    "            arrows += 1\n",
    "            end = balloon[1]\n",
    "\n",
    "        return arrows"
   ]
  },
  {
   "cell_type": "code",
   "execution_count": 2,
   "metadata": {},
   "outputs": [
    {
     "name": "stdout",
     "output_type": "stream",
     "text": [
      "2\n"
     ]
    }
   ],
   "source": [
    "points = [[10, 16], [2, 8], [1, 6], [7, 12]]\n",
    "\n",
    "expected = 2\n",
    "\n",
    "output = Solution().findMinArrowShots(points)\n",
    "print(output)\n",
    "assert output == expected"
   ]
  },
  {
   "cell_type": "code",
   "execution_count": 3,
   "metadata": {},
   "outputs": [
    {
     "name": "stdout",
     "output_type": "stream",
     "text": [
      "4\n"
     ]
    }
   ],
   "source": [
    "points = [[1, 2], [3, 4], [5, 6], [7, 8]]\n",
    "\n",
    "expected = 4\n",
    "\n",
    "output = Solution().findMinArrowShots(points)\n",
    "print(output)\n",
    "assert output == expected"
   ]
  },
  {
   "cell_type": "code",
   "execution_count": null,
   "metadata": {},
   "outputs": [],
   "source": []
  }
 ],
 "metadata": {
  "kernelspec": {
   "display_name": "leetcode-craft",
   "language": "python",
   "name": "python3"
  },
  "language_info": {
   "codemirror_mode": {
    "name": "ipython",
    "version": 3
   },
   "file_extension": ".py",
   "mimetype": "text/x-python",
   "name": "python",
   "nbconvert_exporter": "python",
   "pygments_lexer": "ipython3",
   "version": "3.12.2"
  }
 },
 "nbformat": 4,
 "nbformat_minor": 2
}
