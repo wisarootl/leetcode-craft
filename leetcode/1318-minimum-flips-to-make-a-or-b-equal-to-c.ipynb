{
 "cells": [
  {
   "cell_type": "markdown",
   "metadata": {},
   "source": [
    "# 1318. Minimum Flips to Make a OR b Equal to c"
   ]
  },
  {
   "cell_type": "markdown",
   "metadata": {},
   "source": [
    "https://leetcode.com/problems/minimum-flips-to-make-a-or-b-equal-to-c/"
   ]
  },
  {
   "cell_type": "code",
   "execution_count": 1,
   "metadata": {},
   "outputs": [],
   "source": [
    "class Solution:\n",
    "    # time = O(n)\n",
    "    # space = O(n)\n",
    "    # n = max(len(a_bin), len(b_bin), len(c_bin))\n",
    "    def minFlips(self, a: int, b: int, c: int) -> int:\n",
    "        flips = 0\n",
    "\n",
    "        # Convert integers to binary strings\n",
    "        a_bin = bin(a)[2:]\n",
    "        b_bin = bin(b)[2:]\n",
    "        c_bin = bin(c)[2:]\n",
    "\n",
    "        # Make sure all binary strings have the same length\n",
    "        max_len = max(len(a_bin), len(b_bin), len(c_bin))\n",
    "        a_bin = [0] * (max_len - len(a_bin)) + [int(digit) for digit in a_bin]\n",
    "        b_bin = [0] * (max_len - len(b_bin)) + [int(digit) for digit in b_bin]\n",
    "        c_bin = [0] * (max_len - len(c_bin)) + [int(digit) for digit in c_bin]\n",
    "\n",
    "        # Iterate through the bits\n",
    "        for i in range(max_len):\n",
    "            if (a_bin[i] | b_bin[i]) != c_bin[i]:\n",
    "                if c_bin[i] == 1:\n",
    "                    # a = 0, b = 0, a|b = 0, c = 1 --> flip 1\n",
    "                    flips += 1\n",
    "                else:\n",
    "                    # a = 0, b = 1, a|b = 1, c = 0 --> flip 1\n",
    "                    # a = 1, b = 0, a|b = 1, c = 0 --> flip 1\n",
    "                    # a = 1, b = 1, a|b = 1, c = 0 --> flip 2\n",
    "                    flips += (a_bin[i] == 1) + (b_bin[i] == 1)\n",
    "\n",
    "        return flips"
   ]
  },
  {
   "cell_type": "code",
   "execution_count": 24,
   "metadata": {},
   "outputs": [
    {
     "name": "stdout",
     "output_type": "stream",
     "text": [
      "3\n"
     ]
    }
   ],
   "source": [
    "a = 2\n",
    "b = 6\n",
    "c = 5\n",
    "\n",
    "expected = 3\n",
    "\n",
    "output = Solution().minFlips(a, b, c)\n",
    "\n",
    "print(output)\n",
    "assert output == expected"
   ]
  },
  {
   "cell_type": "code",
   "execution_count": 25,
   "metadata": {},
   "outputs": [
    {
     "name": "stdout",
     "output_type": "stream",
     "text": [
      "1\n"
     ]
    }
   ],
   "source": [
    "a = 4\n",
    "b = 2\n",
    "c = 7\n",
    "\n",
    "expected = 1\n",
    "\n",
    "output = Solution().minFlips(a, b, c)\n",
    "\n",
    "print(output)\n",
    "assert output == expected"
   ]
  },
  {
   "cell_type": "code",
   "execution_count": 26,
   "metadata": {},
   "outputs": [
    {
     "name": "stdout",
     "output_type": "stream",
     "text": [
      "0\n"
     ]
    }
   ],
   "source": [
    "a = 1\n",
    "b = 2\n",
    "c = 3\n",
    "\n",
    "expected = 0\n",
    "\n",
    "output = Solution().minFlips(a, b, c)\n",
    "\n",
    "print(output)\n",
    "assert output == expected"
   ]
  },
  {
   "cell_type": "code",
   "execution_count": 27,
   "metadata": {},
   "outputs": [
    {
     "name": "stdout",
     "output_type": "stream",
     "text": [
      "3\n"
     ]
    }
   ],
   "source": [
    "a = 8\n",
    "b = 3\n",
    "c = 5\n",
    "\n",
    "expected = 3\n",
    "\n",
    "output = Solution().minFlips(a, b, c)\n",
    "\n",
    "print(output)\n",
    "assert output == expected"
   ]
  },
  {
   "cell_type": "markdown",
   "metadata": {},
   "source": [
    "# Solution 2: using bit wise operation"
   ]
  },
  {
   "cell_type": "code",
   "execution_count": 28,
   "metadata": {},
   "outputs": [],
   "source": [
    "class Solution:\n",
    "    # time = O(n)\n",
    "    # space = O(n)\n",
    "    # n = max(len(a_bin), len(b_bin), len(c_bin))\n",
    "    def minFlips(self, a: int, b: int, c: int) -> int:\n",
    "        flips = 0\n",
    "        while a > 0 or b > 0 or c > 0:\n",
    "            bit_a = a & 1\n",
    "            bit_b = b & 1\n",
    "            bit_c = c & 1\n",
    "            \n",
    "            # if (bit_a | bit_b) ^ bit_c:\n",
    "            if (bit_a | bit_b) != bit_c:\n",
    "                if bit_c == 1:\n",
    "                    flips += 1\n",
    "                else:\n",
    "                    flips += bit_a + bit_b\n",
    "\n",
    "            a >>= 1\n",
    "            b >>= 1\n",
    "            c >>= 1\n",
    "\n",
    "        return flips"
   ]
  },
  {
   "cell_type": "code",
   "execution_count": null,
   "metadata": {},
   "outputs": [],
   "source": []
  }
 ],
 "metadata": {
  "kernelspec": {
   "display_name": "leetcode-craft",
   "language": "python",
   "name": "python3"
  },
  "language_info": {
   "codemirror_mode": {
    "name": "ipython",
    "version": 3
   },
   "file_extension": ".py",
   "mimetype": "text/x-python",
   "name": "python",
   "nbconvert_exporter": "python",
   "pygments_lexer": "ipython3",
   "version": "3.12.2"
  }
 },
 "nbformat": 4,
 "nbformat_minor": 2
}
