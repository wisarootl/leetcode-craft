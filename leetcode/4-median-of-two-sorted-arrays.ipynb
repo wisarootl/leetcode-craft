{
 "cells": [
  {
   "cell_type": "markdown",
   "metadata": {},
   "source": [
    "# 4. Median of Two Sorted Arrays"
   ]
  },
  {
   "cell_type": "markdown",
   "metadata": {},
   "source": [
    "https://leetcode.com/problems/median-of-two-sorted-arrays"
   ]
  },
  {
   "cell_type": "code",
   "execution_count": 1,
   "metadata": {},
   "outputs": [],
   "source": [
    "class Solution:\n",
    "    # time = O(log (n1 + n2))\n",
    "    # space = O(1)\n",
    "    def findMedianSortedArrays(self, nums1: list[int], nums2: list[int]) -> float:\n",
    "        n1 = len(nums1)\n",
    "        n2 = len(nums2)\n",
    "\n",
    "        # Ensure nums1 is the smaller array for simplicity\n",
    "        if n1 > n2:\n",
    "            return self.findMedianSortedArrays(nums2, nums1)\n",
    "\n",
    "        n = n1 + n2\n",
    "        left = (n1 + n2 + 1) // 2  # Calculate the left partition size\n",
    "        low = 0\n",
    "        high = n1\n",
    "\n",
    "        while low <= high:\n",
    "            mid1 = (low + high) // 2  # Calculate mid index for nums1\n",
    "            mid2 = left - mid1  # Calculate mid index for nums2\n",
    "\n",
    "            l1 = float(\"-inf\")\n",
    "            l2 = float(\"-inf\")\n",
    "            r1 = float(\"inf\")\n",
    "            r2 = float(\"inf\")\n",
    "\n",
    "            # Determine values of l1, l2, r1, and r2\n",
    "            if mid1 < n1:\n",
    "                r1 = nums1[mid1]\n",
    "            if mid2 < n2:\n",
    "                r2 = nums2[mid2]\n",
    "            if mid1 - 1 >= 0:\n",
    "                l1 = nums1[mid1 - 1]\n",
    "            if mid2 - 1 >= 0:\n",
    "                l2 = nums2[mid2 - 1]\n",
    "\n",
    "            if l1 <= r2 and l2 <= r1:\n",
    "                # The partition is correct, we found the median\n",
    "                if n % 2 == 1:\n",
    "                    return max(l1, l2)\n",
    "                else:\n",
    "                    return (max(l1, l2) + min(r1, r2)) / 2.0\n",
    "            elif l1 > r2:\n",
    "                # Move towards the left side of nums1\n",
    "                high = mid1 - 1\n",
    "            else:\n",
    "                # Move towards the right side of nums1\n",
    "                low = mid1 + 1\n",
    "\n",
    "        return 0  # If the code reaches here, the input arrays were not sorted."
   ]
  },
  {
   "cell_type": "code",
   "execution_count": 2,
   "metadata": {},
   "outputs": [
    {
     "name": "stdout",
     "output_type": "stream",
     "text": [
      "2\n"
     ]
    }
   ],
   "source": [
    "nums1 = [1, 3]\n",
    "nums2 = [2]\n",
    "\n",
    "expected = 2\n",
    "\n",
    "output = Solution().findMedianSortedArrays(nums1, nums2)\n",
    "print(output)\n",
    "\n",
    "assert output == expected"
   ]
  },
  {
   "cell_type": "code",
   "execution_count": 3,
   "metadata": {},
   "outputs": [
    {
     "name": "stdout",
     "output_type": "stream",
     "text": [
      "2.5\n"
     ]
    }
   ],
   "source": [
    "nums1 = [1, 2]\n",
    "nums2 = [3, 4]\n",
    "\n",
    "expected = 2.5\n",
    "\n",
    "output = Solution().findMedianSortedArrays(nums1, nums2)\n",
    "print(output)\n",
    "\n",
    "assert output == expected"
   ]
  }
 ],
 "metadata": {
  "kernelspec": {
   "display_name": "leetcode-craft",
   "language": "python",
   "name": "python3"
  },
  "language_info": {
   "codemirror_mode": {
    "name": "ipython",
    "version": 3
   },
   "file_extension": ".py",
   "mimetype": "text/x-python",
   "name": "python",
   "nbconvert_exporter": "python",
   "pygments_lexer": "ipython3",
   "version": "3.12.3"
  }
 },
 "nbformat": 4,
 "nbformat_minor": 2
}
