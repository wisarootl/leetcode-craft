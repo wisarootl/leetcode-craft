{
 "cells": [
  {
   "cell_type": "markdown",
   "metadata": {},
   "source": [
    "# 714. Best Time to Buy and Sell Stock with Transaction Fee"
   ]
  },
  {
   "cell_type": "markdown",
   "metadata": {},
   "source": [
    "https://leetcode.com/problems/best-time-to-buy-and-sell-stock-with-transaction-fee/"
   ]
  },
  {
   "cell_type": "code",
   "execution_count": 1,
   "metadata": {},
   "outputs": [],
   "source": [
    "class Solution:\n",
    "    # time O(n)\n",
    "    # space O(1)\n",
    "    # n = len(prices)\n",
    "    def maxProfit(self, prices: list[int], fee: int) -> int:\n",
    "        if not prices:\n",
    "            return 0\n",
    "\n",
    "        effective_buy_price = float(\"inf\")\n",
    "        cash = 0\n",
    "\n",
    "        for price in prices:\n",
    "            effective_buy_price = min(effective_buy_price, price - cash)\n",
    "            cash = max(cash, price - effective_buy_price - fee)\n",
    "\n",
    "        return cash"
   ]
  },
  {
   "cell_type": "markdown",
   "metadata": {},
   "source": [
    "<img src=\"src/714.jpg\" width=\"600\">"
   ]
  },
  {
   "cell_type": "code",
   "execution_count": 4,
   "metadata": {},
   "outputs": [],
   "source": [
    "prices = [1, 3, 2, 8, 4, 9]\n",
    "fee = 2\n",
    "\n",
    "expected = 8\n",
    "\n",
    "output = Solution().maxProfit(prices, fee)\n",
    "\n",
    "assert output == expected"
   ]
  },
  {
   "cell_type": "code",
   "execution_count": 3,
   "metadata": {},
   "outputs": [],
   "source": [
    "prices = [1, 3, 2, 8, 4, 9]\n",
    "fee = 2\n",
    "\n",
    "expected = 8\n",
    "\n",
    "output = Solution().maxProfit(prices, fee)\n",
    "\n",
    "assert output == expected"
   ]
  }
 ],
 "metadata": {
  "kernelspec": {
   "display_name": "leetcode-craft",
   "language": "python",
   "name": "python3"
  },
  "language_info": {
   "codemirror_mode": {
    "name": "ipython",
    "version": 3
   },
   "file_extension": ".py",
   "mimetype": "text/x-python",
   "name": "python",
   "nbconvert_exporter": "python",
   "pygments_lexer": "ipython3",
   "version": "3.12.2"
  }
 },
 "nbformat": 4,
 "nbformat_minor": 2
}
