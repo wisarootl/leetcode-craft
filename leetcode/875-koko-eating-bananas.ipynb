{
 "cells": [
  {
   "cell_type": "markdown",
   "metadata": {},
   "source": [
    "# 875. Koko Eating Bananas"
   ]
  },
  {
   "cell_type": "markdown",
   "metadata": {},
   "source": [
    "https://leetcode.com/problems/koko-eating-bananas/"
   ]
  },
  {
   "cell_type": "code",
   "execution_count": 1,
   "metadata": {},
   "outputs": [],
   "source": [
    "import math\n",
    "\n",
    "\n",
    "class Solution:\n",
    "    # time = O(n log m)\n",
    "    # space = O(1)\n",
    "    # n = len(piles)\n",
    "    # m = max(piles)\n",
    "    def minEatingSpeed(self, piles: list[int], h: int) -> int:\n",
    "        def can_finish(piles, h, k):\n",
    "            hours = 0\n",
    "            for bananas in piles:\n",
    "                hours += math.ceil(bananas / k)\n",
    "            return hours <= h\n",
    "\n",
    "        left, right = 1, max(piles)\n",
    "\n",
    "        while left < right:\n",
    "            mid = (left + right) // 2\n",
    "            if can_finish(piles, h, mid):\n",
    "                right = mid\n",
    "            else:\n",
    "                left = mid + 1\n",
    "\n",
    "        return left"
   ]
  },
  {
   "cell_type": "code",
   "execution_count": 2,
   "metadata": {},
   "outputs": [
    {
     "name": "stdout",
     "output_type": "stream",
     "text": [
      "4\n"
     ]
    }
   ],
   "source": [
    "piles = [3, 6, 7, 11]\n",
    "h = 8\n",
    "\n",
    "expected = 4\n",
    "\n",
    "output = Solution().minEatingSpeed(piles, h)\n",
    "print(output)\n",
    "assert output == expected"
   ]
  },
  {
   "cell_type": "code",
   "execution_count": 3,
   "metadata": {},
   "outputs": [
    {
     "name": "stdout",
     "output_type": "stream",
     "text": [
      "4\n"
     ]
    }
   ],
   "source": [
    "piles = [30, 11, 23, 4, 20]\n",
    "h = 5\n",
    "\n",
    "expected = 30\n",
    "\n",
    "output = Solution().minEatingSpeed(piles, h)\n",
    "print(output)\n",
    "assert output == expected"
   ]
  },
  {
   "cell_type": "code",
   "execution_count": 4,
   "metadata": {},
   "outputs": [
    {
     "name": "stdout",
     "output_type": "stream",
     "text": [
      "23\n"
     ]
    }
   ],
   "source": [
    "piles = [30, 11, 23, 4, 20]\n",
    "h = 6\n",
    "\n",
    "expected = 23\n",
    "\n",
    "output = Solution().minEatingSpeed(piles, h)\n",
    "print(output)\n",
    "assert output == expected"
   ]
  },
  {
   "cell_type": "code",
   "execution_count": null,
   "metadata": {},
   "outputs": [],
   "source": []
  }
 ],
 "metadata": {
  "kernelspec": {
   "display_name": "leetcode-craft",
   "language": "python",
   "name": "python3"
  },
  "language_info": {
   "codemirror_mode": {
    "name": "ipython",
    "version": 3
   },
   "file_extension": ".py",
   "mimetype": "text/x-python",
   "name": "python",
   "nbconvert_exporter": "python",
   "pygments_lexer": "ipython3",
   "version": "3.12.2"
  }
 },
 "nbformat": 4,
 "nbformat_minor": 2
}
