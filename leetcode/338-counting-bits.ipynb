{
 "cells": [
  {
   "cell_type": "markdown",
   "metadata": {},
   "source": [
    "# 338. Counting Bits"
   ]
  },
  {
   "cell_type": "markdown",
   "metadata": {},
   "source": [
    "https://leetcode.com/problems/counting-bits/"
   ]
  },
  {
   "cell_type": "code",
   "execution_count": 1,
   "metadata": {},
   "outputs": [],
   "source": [
    "class Solution:\n",
    "    # time = O(n)\n",
    "    # space = O(n)\n",
    "    def countBits(self, n: int) -> list[int]:\n",
    "        dp = [0] * (n + 1)\n",
    "        for i in range(1, n + 1):\n",
    "            dp[i] = dp[i >> 1] + (i & 1)\n",
    "        \n",
    "        return dp"
   ]
  },
  {
   "cell_type": "code",
   "execution_count": 2,
   "metadata": {},
   "outputs": [],
   "source": [
    "# 0 --> 0\n",
    "# 1 --> 1 --> look at dp[0] and its last digit\n",
    "# 2 --> 10 --> look at dp[0] and its last digit\n",
    "# 3 --> 11 --> look at dp[1] and its last digit\n",
    "# 4 --> 100 --> look at dp[2] and its last digit\n",
    "# 5 --> 101 --> look at dp[2] and its last digit"
   ]
  },
  {
   "cell_type": "code",
   "execution_count": 3,
   "metadata": {},
   "outputs": [
    {
     "name": "stdout",
     "output_type": "stream",
     "text": [
      "[0, 1, 1]\n"
     ]
    }
   ],
   "source": [
    "n = 2\n",
    "\n",
    "expected = [0,1,1]\n",
    "\n",
    "output = Solution().countBits(n)\n",
    "print(output)\n",
    "assert output == expected"
   ]
  },
  {
   "cell_type": "code",
   "execution_count": 4,
   "metadata": {},
   "outputs": [
    {
     "name": "stdout",
     "output_type": "stream",
     "text": [
      "[0, 1, 1, 2, 1, 2]\n"
     ]
    }
   ],
   "source": [
    "n = 5\n",
    "\n",
    "expected = [0,1,1,2,1,2]\n",
    "\n",
    "# 0 --> 0\n",
    "# 1 --> 1\n",
    "# 2 --> 10\n",
    "# 3 --> 11\n",
    "# 4 --> 100\n",
    "# 5 --> 101\n",
    "\n",
    "output = Solution().countBits(n)\n",
    "print(output)\n",
    "assert output == expected"
   ]
  }
 ],
 "metadata": {
  "kernelspec": {
   "display_name": "leetcode-craft",
   "language": "python",
   "name": "python3"
  },
  "language_info": {
   "codemirror_mode": {
    "name": "ipython",
    "version": 3
   },
   "file_extension": ".py",
   "mimetype": "text/x-python",
   "name": "python",
   "nbconvert_exporter": "python",
   "pygments_lexer": "ipython3",
   "version": "3.12.2"
  }
 },
 "nbformat": 4,
 "nbformat_minor": 2
}
