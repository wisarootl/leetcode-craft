{
 "cells": [
  {
   "cell_type": "markdown",
   "metadata": {},
   "source": [
    "# 1372. Longest ZigZag Path in a Binary Tree"
   ]
  },
  {
   "cell_type": "markdown",
   "metadata": {},
   "source": [
    "https://leetcode.com/problems/longest-zigzag-path-in-a-binary-tree/"
   ]
  },
  {
   "cell_type": "code",
   "execution_count": 1,
   "metadata": {},
   "outputs": [],
   "source": [
    "from leetcode_craft.binary_tree_helper import TreeNode, build_binary_tree_from_array_representation"
   ]
  },
  {
   "cell_type": "code",
   "execution_count": 2,
   "metadata": {},
   "outputs": [],
   "source": [
    "# # side effect function\n",
    "# # time = O(n)\n",
    "# # space = O(d)\n",
    "# # n = number of node in tree\n",
    "# # d = depth of tree (log n for balance tree and n for worst imbalance tree)\n",
    "\n",
    "# class Solution:\n",
    "#     def longestZigZag(self, root: TreeNode) -> int:\n",
    "#         self.max_length = 0\n",
    "\n",
    "#         def dfs(node, left, right):\n",
    "#             if not node:\n",
    "#               return\n",
    "\n",
    "#             self.max_length = max(self.max_length, left, right)\n",
    "\n",
    "#             dfs(node.left, right + 1, 0)\n",
    "#             dfs(node.right, 0, left + 1)\n",
    "\n",
    "#         dfs(root, 0, 0)\n",
    "#         return self.max_length"
   ]
  },
  {
   "cell_type": "code",
   "execution_count": 3,
   "metadata": {},
   "outputs": [],
   "source": [
    "# no side effect function\n",
    "# time = O(n)\n",
    "# space = O(d)\n",
    "# n = number of node in tree\n",
    "# d = depth of tree (log n for balance tree and n for worst imbalance tree)\n",
    "\n",
    "\n",
    "class Solution:\n",
    "    def longestZigZag(self, root: TreeNode) -> int:\n",
    "        def dfs(node, left, right):\n",
    "            if not node:\n",
    "                return max(left - 1, right - 1)\n",
    "\n",
    "            max_length = max(left, right)\n",
    "\n",
    "            left_length = dfs(node.left, right + 1, 0)\n",
    "            right_length = dfs(node.right, 0, left + 1)\n",
    "\n",
    "            return max(max_length, left_length, right_length)\n",
    "\n",
    "        return dfs(root, 0, 0)"
   ]
  },
  {
   "cell_type": "code",
   "execution_count": 4,
   "metadata": {},
   "outputs": [
    {
     "name": "stdout",
     "output_type": "stream",
     "text": [
      "3\n"
     ]
    }
   ],
   "source": [
    "# fmt: off\n",
    "root = build_binary_tree_from_array_representation(\n",
    "    [\n",
    "        1,  # depth = 0, n = 1\n",
    "        None, 1,  # depth = 1, n = 2\n",
    "        *[None] * 2, 1, 1,  # depth = 2, n = 4\n",
    "        *[None] * 6, 1, 1,  # depth = 3, n = 8\n",
    "        *[None] * 13, 1, *[None] * 2,  # depth = 4, n = 16\n",
    "        *[None] * 27, 1, *[None] * 4,  # depth = 5, n = 32\n",
    "    ]\n",
    ")\n",
    "# fmt: on\n",
    "\n",
    "expected = 3\n",
    "\n",
    "output = Solution().longestZigZag(root)\n",
    "print(output)\n",
    "assert output == expected"
   ]
  },
  {
   "cell_type": "code",
   "execution_count": 5,
   "metadata": {},
   "outputs": [
    {
     "name": "stdout",
     "output_type": "stream",
     "text": [
      "4\n"
     ]
    }
   ],
   "source": [
    "# fmt: off\n",
    "root = build_binary_tree_from_array_representation(\n",
    "    [\n",
    "        1,  # depth = 0, n = 1\n",
    "        1, 1,  # depth = 1, n = 2\n",
    "        None, 1, None, None,  # depth = 2, n = 4\n",
    "        *[None] * 2, 1, 1, *[None] * 4,  # depth = 3, n = 8\n",
    "        *[None] * 5, 1, *[None] * 10,  # depth = 4, n = 16\n",
    "    ]\n",
    ")\n",
    "# fmt: in\n",
    "\n",
    "expected = 4\n",
    "\n",
    "output = Solution().longestZigZag(root)\n",
    "print(output)\n",
    "assert output == expected"
   ]
  }
 ],
 "metadata": {
  "kernelspec": {
   "display_name": "leetcode-craft",
   "language": "python",
   "name": "python3"
  },
  "language_info": {
   "codemirror_mode": {
    "name": "ipython",
    "version": 3
   },
   "file_extension": ".py",
   "mimetype": "text/x-python",
   "name": "python",
   "nbconvert_exporter": "python",
   "pygments_lexer": "ipython3",
   "version": "3.12.2"
  }
 },
 "nbformat": 4,
 "nbformat_minor": 2
}
