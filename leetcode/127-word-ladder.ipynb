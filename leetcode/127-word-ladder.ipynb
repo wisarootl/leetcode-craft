{
 "cells": [
  {
   "cell_type": "markdown",
   "metadata": {},
   "source": [
    "# 127. Word Ladder"
   ]
  },
  {
   "cell_type": "markdown",
   "metadata": {},
   "source": [
    "https://leetcode.com/problems/word-ladder/"
   ]
  },
  {
   "cell_type": "code",
   "execution_count": 2,
   "metadata": {},
   "outputs": [],
   "source": [
    "import string"
   ]
  },
  {
   "cell_type": "code",
   "execution_count": 4,
   "metadata": {},
   "outputs": [],
   "source": [
    "class Solution:\n",
    "    # time = O((n + e) * l)\n",
    "    # space = O(n * l)\n",
    "\n",
    "    # l = length of the longest word\n",
    "    # n = len(wordList)\n",
    "    # e = pair of wordList with 1 distance (edge in graph)\n",
    "    def ladderLength(self, beginWord: str, endWord: str, wordList: list[str]) -> int:\n",
    "        wordSet = set(wordList)\n",
    "\n",
    "        if endWord not in wordSet:\n",
    "            return 0\n",
    "\n",
    "        beginSet = {beginWord}\n",
    "        endSet = {endWord}\n",
    "        distance = 1\n",
    "\n",
    "        while beginSet and endSet:\n",
    "            wordSet -= beginSet\n",
    "            distance += 1\n",
    "            newSet = set()\n",
    "\n",
    "            for word in beginSet:\n",
    "                for i in range(len(word)):\n",
    "                    left = word[:i]\n",
    "                    right = word[i + 1 :]\n",
    "\n",
    "                    for c in string.ascii_lowercase:\n",
    "                        new_word = left + c + right\n",
    "\n",
    "                        if new_word in wordSet:\n",
    "                            if new_word in endSet:\n",
    "                                return distance\n",
    "                            newSet.add(new_word)\n",
    "\n",
    "            if len(beginSet) > len(endSet):  # swap to lowest set\n",
    "                beginSet = endSet\n",
    "                endSet = newSet\n",
    "            else:\n",
    "                beginSet = newSet\n",
    "\n",
    "        return 0"
   ]
  },
  {
   "cell_type": "code",
   "execution_count": 7,
   "metadata": {},
   "outputs": [
    {
     "name": "stdout",
     "output_type": "stream",
     "text": [
      "5\n"
     ]
    }
   ],
   "source": [
    "beginWord = \"hit\"\n",
    "endWord = \"cog\"\n",
    "wordList = [\"hot\", \"dot\", \"dog\", \"lot\", \"log\", \"cog\"]\n",
    "\n",
    "expected = 5\n",
    "\n",
    "output = Solution().ladderLength(beginWord, endWord, wordList)\n",
    "print(output)\n",
    "\n",
    "assert output == expected"
   ]
  },
  {
   "cell_type": "code",
   "execution_count": 8,
   "metadata": {},
   "outputs": [
    {
     "name": "stdout",
     "output_type": "stream",
     "text": [
      "0\n"
     ]
    }
   ],
   "source": [
    "beginWord = \"hit\"\n",
    "endWord = \"cog\"\n",
    "wordList = [\"hot\", \"dot\", \"dog\", \"lot\", \"log\"]\n",
    "\n",
    "expected = 0\n",
    "\n",
    "output = Solution().ladderLength(beginWord, endWord, wordList)\n",
    "print(output)\n",
    "\n",
    "assert output == expected"
   ]
  },
  {
   "cell_type": "code",
   "execution_count": null,
   "metadata": {},
   "outputs": [],
   "source": []
  }
 ],
 "metadata": {
  "kernelspec": {
   "display_name": "leetcode-craft",
   "language": "python",
   "name": "python3"
  },
  "language_info": {
   "codemirror_mode": {
    "name": "ipython",
    "version": 3
   },
   "file_extension": ".py",
   "mimetype": "text/x-python",
   "name": "python",
   "nbconvert_exporter": "python",
   "pygments_lexer": "ipython3",
   "version": "3.12.2"
  }
 },
 "nbformat": 4,
 "nbformat_minor": 2
}
