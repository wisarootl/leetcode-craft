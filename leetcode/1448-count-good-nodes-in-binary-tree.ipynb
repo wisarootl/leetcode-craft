{
 "cells": [
  {
   "cell_type": "markdown",
   "metadata": {},
   "source": [
    "# 1448. Count Good Nodes in Binary Tree"
   ]
  },
  {
   "cell_type": "markdown",
   "metadata": {},
   "source": [
    "https://leetcode.com/problems/count-good-nodes-in-binary-tree"
   ]
  },
  {
   "cell_type": "code",
   "execution_count": 1,
   "metadata": {},
   "outputs": [],
   "source": [
    "from leetcode_craft.binary_tree_helper import TreeNode, build_binary_tree_from_array_representation"
   ]
  },
  {
   "cell_type": "code",
   "execution_count": 2,
   "metadata": {},
   "outputs": [],
   "source": [
    "class Solution:\n",
    "    # time = O(n)\n",
    "    # space = O(n)\n",
    "    # n = number of node in tree\n",
    "    def goodNodes(self, root: TreeNode) -> int:\n",
    "\n",
    "        # dfs\n",
    "        def count_goodnodes(node: TreeNode, max_so_far: int):\n",
    "            if node is None:\n",
    "                return 0\n",
    "\n",
    "            current_node_count = 1 if node.val >= max_so_far else 0\n",
    "            max_so_far = max(max_so_far, node.val)\n",
    "\n",
    "            left_good_count = count_goodnodes(node.left, max_so_far)\n",
    "            right_good_count = count_goodnodes(node.right, max_so_far)\n",
    "\n",
    "            return current_node_count + left_good_count + right_good_count\n",
    "\n",
    "        return count_goodnodes(root, float(\"-inf\"))"
   ]
  },
  {
   "cell_type": "markdown",
   "metadata": {},
   "source": [
    "```mermaid\n",
    "graph TD\n",
    "    style 3 fill:#339\n",
    "    style A fill:#339\n",
    "    style 4 fill:#339\n",
    "    style 5 fill:#339\n",
    "    3 --> 1\n",
    "    1 --> A(3) \n",
    "    3 --> 4\n",
    "    4 --> B(1)\n",
    "    4 --> 5 \n",
    "```"
   ]
  },
  {
   "cell_type": "code",
   "execution_count": 3,
   "metadata": {},
   "outputs": [
    {
     "name": "stdout",
     "output_type": "stream",
     "text": [
      "4\n"
     ]
    }
   ],
   "source": [
    "root = build_binary_tree_from_array_representation([3, 1, 4, 3, None, 1, 5])\n",
    "expected = 4\n",
    "\n",
    "output = Solution().goodNodes(root)\n",
    "print(output)\n",
    "assert output == expected"
   ]
  },
  {
   "cell_type": "markdown",
   "metadata": {},
   "source": [
    "```mermaid\n",
    "graph TD\n",
    "    style 3 fill:#339\n",
    "    style A fill:#339\n",
    "    style 4 fill:#339\n",
    "    3 --> A(3)\n",
    "    A(3) --> 4\n",
    "    A(3) --> 2\n",
    "```"
   ]
  },
  {
   "cell_type": "code",
   "execution_count": 4,
   "metadata": {},
   "outputs": [
    {
     "name": "stdout",
     "output_type": "stream",
     "text": [
      "3\n"
     ]
    }
   ],
   "source": [
    "root = build_binary_tree_from_array_representation([3, 3, None, 4, 2])\n",
    "expected = 3\n",
    "\n",
    "output = Solution().goodNodes(root)\n",
    "print(output)\n",
    "assert output == expected"
   ]
  },
  {
   "cell_type": "code",
   "execution_count": 5,
   "metadata": {},
   "outputs": [
    {
     "name": "stdout",
     "output_type": "stream",
     "text": [
      "1\n"
     ]
    }
   ],
   "source": [
    "root = build_binary_tree_from_array_representation([1])\n",
    "expected = 1\n",
    "\n",
    "output = Solution().goodNodes(root)\n",
    "print(output)\n",
    "assert output == expected"
   ]
  },
  {
   "cell_type": "code",
   "execution_count": null,
   "metadata": {},
   "outputs": [],
   "source": []
  }
 ],
 "metadata": {
  "kernelspec": {
   "display_name": "leetcode-craft",
   "language": "python",
   "name": "python3"
  },
  "language_info": {
   "codemirror_mode": {
    "name": "ipython",
    "version": 3
   },
   "file_extension": ".py",
   "mimetype": "text/x-python",
   "name": "python",
   "nbconvert_exporter": "python",
   "pygments_lexer": "ipython3",
   "version": "3.12.2"
  }
 },
 "nbformat": 4,
 "nbformat_minor": 2
}
