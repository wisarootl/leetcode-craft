{
 "cells": [
  {
   "cell_type": "markdown",
   "metadata": {},
   "source": [
    "# 236. Lowest Common Ancestor of a Binary Tree"
   ]
  },
  {
   "cell_type": "markdown",
   "metadata": {},
   "source": [
    "https://leetcode.com/problems/lowest-common-ancestor-of-a-binary-tree/"
   ]
  },
  {
   "cell_type": "code",
   "execution_count": 1,
   "metadata": {},
   "outputs": [],
   "source": [
    "from leetcode_craft.binary_tree_helper import TreeNode, build_binary_tree_from_array_representation"
   ]
  },
  {
   "cell_type": "code",
   "execution_count": 8,
   "metadata": {},
   "outputs": [],
   "source": [
    "class Solution:\n",
    "    # time = O(n)\n",
    "    # space = O(d)\n",
    "    # d = depth of the tree\n",
    "    # in case of imbalance tree, d = n.\n",
    "    def lowestCommonAncestor(self, root: 'TreeNode', p: 'TreeNode', q: 'TreeNode') -> 'TreeNode':\n",
    "        # not found p or q in this branch\n",
    "        if not root:\n",
    "            return None\n",
    "        \n",
    "        # if the node is p or q\n",
    "        if root == p or root == q:\n",
    "            return root\n",
    "        \n",
    "        # recursively search left and right subtrees\n",
    "        left_lca = self.lowestCommonAncestor(root.left, p, q)\n",
    "        right_lca = self.lowestCommonAncestor(root.right, p, q)\n",
    "        \n",
    "        # If both subtree of the node can find p and q.\n",
    "        # The node is lowest common ancestor.\n",
    "        if left_lca and right_lca:\n",
    "            return root\n",
    "        \n",
    "        # Otherwise, return the non-null value or None\n",
    "        return left_lca if left_lca else right_lca"
   ]
  },
  {
   "cell_type": "code",
   "execution_count": 14,
   "metadata": {},
   "outputs": [
    {
     "name": "stdout",
     "output_type": "stream",
     "text": [
      "[3, 5, 1, 6, 2, 0, 8, None, None, 7, 4]\n"
     ]
    }
   ],
   "source": [
    "root = build_binary_tree_from_array_representation([3,5,1,6,2,0,8,None,None,7,4])\n",
    "p = root.left\n",
    "q = root.right\n",
    "\n",
    "expected = root\n",
    "\n",
    "output = Solution().lowestCommonAncestor(root, p, q)\n",
    "print(output)\n",
    "\n",
    "assert output == expected"
   ]
  },
  {
   "cell_type": "code",
   "execution_count": 15,
   "metadata": {},
   "outputs": [
    {
     "name": "stdout",
     "output_type": "stream",
     "text": [
      "[5, 6, 2, None, None, 7, 4]\n"
     ]
    }
   ],
   "source": [
    "root = build_binary_tree_from_array_representation([3,5,1,6,2,0,8,None,None,7,4])\n",
    "p = root.left\n",
    "q = root.left.right.right\n",
    "\n",
    "expected = root.left\n",
    "\n",
    "output = Solution().lowestCommonAncestor(root, p, q)\n",
    "print(output)\n",
    "\n",
    "assert output == expected"
   ]
  },
  {
   "cell_type": "code",
   "execution_count": null,
   "metadata": {},
   "outputs": [],
   "source": []
  }
 ],
 "metadata": {
  "kernelspec": {
   "display_name": "leetcode-craft",
   "language": "python",
   "name": "python3"
  },
  "language_info": {
   "codemirror_mode": {
    "name": "ipython",
    "version": 3
   },
   "file_extension": ".py",
   "mimetype": "text/x-python",
   "name": "python",
   "nbconvert_exporter": "python",
   "pygments_lexer": "ipython3",
   "version": "3.12.2"
  }
 },
 "nbformat": 4,
 "nbformat_minor": 2
}
