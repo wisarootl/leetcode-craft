{
 "cells": [
  {
   "cell_type": "markdown",
   "metadata": {},
   "source": [
    "# 2130. Maximum Twin Sum of a Linked List"
   ]
  },
  {
   "cell_type": "markdown",
   "metadata": {},
   "source": [
    "https://leetcode.com/problems/maximum-twin-sum-of-a-linked-list/"
   ]
  },
  {
   "cell_type": "code",
   "execution_count": 1,
   "metadata": {},
   "outputs": [],
   "source": [
    "from leetcode_craft.singly_linked_list_helper import ListNode, build_linked_list"
   ]
  },
  {
   "cell_type": "code",
   "execution_count": 2,
   "metadata": {},
   "outputs": [],
   "source": [
    "from typing import Optional\n",
    "\n",
    "\n",
    "class Solution:\n",
    "    # time = O(N)\n",
    "    # space = O(N)\n",
    "    # N is number of node in linked list\n",
    "    def pairSum(self, head: Optional[ListNode]) -> int:\n",
    "        if not head:\n",
    "            return 0\n",
    "\n",
    "        max_twin_sum = float(\"-inf\")\n",
    "        node_values = []\n",
    "\n",
    "        dummy = ListNode(val=0, next=head)\n",
    "        current_slow = dummy\n",
    "        current_fast = dummy\n",
    "\n",
    "        while current_fast.next and current_fast.next.next:\n",
    "            current_slow = current_slow.next\n",
    "            current_fast = current_fast.next.next\n",
    "            node_values.append(current_slow.val)\n",
    "\n",
    "        i = 1\n",
    "        while current_slow.next:\n",
    "            current_slow = current_slow.next\n",
    "            twin_sum = current_slow.val + node_values[-i]\n",
    "            max_twin_sum = max(max_twin_sum, twin_sum)\n",
    "            i += 1\n",
    "\n",
    "        return max_twin_sum"
   ]
  },
  {
   "cell_type": "code",
   "execution_count": 3,
   "metadata": {},
   "outputs": [],
   "source": [
    "# # Solution 2\n",
    "\n",
    "# from typing import Optional\n",
    "\n",
    "# class Solution:\n",
    "#     # time O(N)\n",
    "#     # space O(1) : do in-place linked list reversion. no additional space.\n",
    "#     # N is number of node in linked list\n",
    "#     def pairSum(self, head: Optional[ListNode]) -> int:\n",
    "#         slow, fast = head, head\n",
    "#         maxVal = 0\n",
    "\n",
    "#         # Get middle of linked list\n",
    "#         while fast and fast.next:\n",
    "#             fast = fast.next.next\n",
    "#             slow = slow.next\n",
    "\n",
    "#         # Reverse second part of linked list\n",
    "#         curr, prev = slow, None\n",
    "#         while curr:\n",
    "#             curr.next, prev, curr = prev, curr, curr.next\n",
    "\n",
    "#         # Get max sum of pairs\n",
    "#         tail = prev\n",
    "#         while tail:\n",
    "#             maxVal = max(maxVal, head.val + tail.val)\n",
    "#             tail = tail.next\n",
    "#             head = head.next\n",
    "\n",
    "#         return maxVal"
   ]
  },
  {
   "cell_type": "code",
   "execution_count": 4,
   "metadata": {},
   "outputs": [
    {
     "name": "stdout",
     "output_type": "stream",
     "text": [
      "6\n"
     ]
    }
   ],
   "source": [
    "head = build_linked_list([5, 4, 2, 1])\n",
    "\n",
    "expected = 6\n",
    "\n",
    "output = Solution().pairSum(head)\n",
    "print(output)\n",
    "assert output == expected"
   ]
  },
  {
   "cell_type": "code",
   "execution_count": 5,
   "metadata": {},
   "outputs": [
    {
     "name": "stdout",
     "output_type": "stream",
     "text": [
      "100001\n"
     ]
    }
   ],
   "source": [
    "head = build_linked_list([1, 100000])\n",
    "\n",
    "expected = 100001\n",
    "\n",
    "output = Solution().pairSum(head)\n",
    "print(output)\n",
    "assert output == expected"
   ]
  },
  {
   "cell_type": "code",
   "execution_count": null,
   "metadata": {},
   "outputs": [],
   "source": []
  }
 ],
 "metadata": {
  "kernelspec": {
   "display_name": "leetcode-craft",
   "language": "python",
   "name": "python3"
  },
  "language_info": {
   "codemirror_mode": {
    "name": "ipython",
    "version": 3
   },
   "file_extension": ".py",
   "mimetype": "text/x-python",
   "name": "python",
   "nbconvert_exporter": "python",
   "pygments_lexer": "ipython3",
   "version": "3.12.2"
  }
 },
 "nbformat": 4,
 "nbformat_minor": 2
}
