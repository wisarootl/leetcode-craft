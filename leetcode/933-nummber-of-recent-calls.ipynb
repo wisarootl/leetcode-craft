{
 "cells": [
  {
   "cell_type": "markdown",
   "metadata": {},
   "source": [
    "# 933. Number of Recent Calls"
   ]
  },
  {
   "cell_type": "markdown",
   "metadata": {},
   "source": [
    "https://leetcode.com/problems/number-of-recent-calls/"
   ]
  },
  {
   "cell_type": "code",
   "execution_count": 1,
   "metadata": {},
   "outputs": [],
   "source": [
    "from collections import deque\n",
    "\n",
    "\n",
    "class RecentCounter:\n",
    "\n",
    "    # space = O(N)\n",
    "    # N = len(self.ping_history)\n",
    "    def __init__(self):\n",
    "        self.ping_history = deque()\n",
    "        self.past_ms = 3000\n",
    "\n",
    "    # time = O(N)\n",
    "    # space = O(1)\n",
    "    # N = len(self.ping_history)\n",
    "    def ping(self, t: int) -> int:\n",
    "        self.ping_history.append(t)\n",
    "        while self.ping_history[0] < (t - self.past_ms):\n",
    "            self.ping_history.popleft()\n",
    "\n",
    "        return len(self.ping_history)"
   ]
  },
  {
   "cell_type": "code",
   "execution_count": 4,
   "metadata": {},
   "outputs": [],
   "source": [
    "recent_counter = RecentCounter()\n",
    "assert recent_counter.ping(1) == 1\n",
    "assert recent_counter.ping(100) == 2\n",
    "assert recent_counter.ping(3001) == 3\n",
    "assert recent_counter.ping(3002) == 3"
   ]
  },
  {
   "cell_type": "code",
   "execution_count": null,
   "metadata": {},
   "outputs": [],
   "source": []
  }
 ],
 "metadata": {
  "kernelspec": {
   "display_name": "leetcode-craft",
   "language": "python",
   "name": "python3"
  },
  "language_info": {
   "codemirror_mode": {
    "name": "ipython",
    "version": 3
   },
   "file_extension": ".py",
   "mimetype": "text/x-python",
   "name": "python",
   "nbconvert_exporter": "python",
   "pygments_lexer": "ipython3",
   "version": "3.12.2"
  }
 },
 "nbformat": 4,
 "nbformat_minor": 2
}
