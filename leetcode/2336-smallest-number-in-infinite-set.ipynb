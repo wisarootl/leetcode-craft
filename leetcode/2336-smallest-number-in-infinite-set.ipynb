{
 "cells": [
  {
   "cell_type": "markdown",
   "metadata": {},
   "source": [
    "# 2336. Smallest Number in Infinite Set"
   ]
  },
  {
   "cell_type": "markdown",
   "metadata": {},
   "source": [
    "https://leetcode.com/problems/smallest-number-in-infinite-set/"
   ]
  },
  {
   "cell_type": "code",
   "execution_count": 1,
   "metadata": {},
   "outputs": [],
   "source": [
    "import heapq\n",
    "\n",
    "\n",
    "class SmallestInfiniteSet:\n",
    "\n",
    "    def __init__(self):\n",
    "        self.heap = []\n",
    "        self.min_num_in_infinite_set = 1\n",
    "\n",
    "    def popSmallest(self) -> int:\n",
    "        if self.heap:\n",
    "            return heapq.heappop(self.heap)\n",
    "        self.min_num_in_infinite_set += 1\n",
    "        return self.min_num_in_infinite_set - 1\n",
    "\n",
    "    def addBack(self, num: int) -> None:\n",
    "        if self.min_num_in_infinite_set > num and num not in self.heap:\n",
    "            heapq.heappush(self.heap, num)"
   ]
  },
  {
   "cell_type": "code",
   "execution_count": 5,
   "metadata": {},
   "outputs": [],
   "source": [
    "obj = SmallestInfiniteSet()\n",
    "assert obj.addBack(2) is None\n",
    "assert obj.popSmallest() == 1\n",
    "assert obj.popSmallest() == 2\n",
    "assert obj.popSmallest() == 3  # heap = [] so far\n",
    "assert obj.addBack(1) is None  # heap = [1]\n",
    "assert obj.popSmallest() == 1  # heap = []\n",
    "assert obj.popSmallest() == 4\n",
    "assert obj.popSmallest() == 5"
   ]
  },
  {
   "cell_type": "code",
   "execution_count": null,
   "metadata": {},
   "outputs": [],
   "source": []
  }
 ],
 "metadata": {
  "kernelspec": {
   "display_name": "leetcode-craft",
   "language": "python",
   "name": "python3"
  },
  "language_info": {
   "codemirror_mode": {
    "name": "ipython",
    "version": 3
   },
   "file_extension": ".py",
   "mimetype": "text/x-python",
   "name": "python",
   "nbconvert_exporter": "python",
   "pygments_lexer": "ipython3",
   "version": "3.12.2"
  }
 },
 "nbformat": 4,
 "nbformat_minor": 2
}
