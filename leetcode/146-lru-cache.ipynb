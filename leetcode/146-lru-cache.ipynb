{
 "cells": [
  {
   "cell_type": "markdown",
   "metadata": {},
   "source": [
    "# 146. LRU Cache"
   ]
  },
  {
   "cell_type": "markdown",
   "metadata": {},
   "source": [
    "https://leetcode.com/problems/lru-cache/"
   ]
  },
  {
   "cell_type": "code",
   "execution_count": 1,
   "metadata": {},
   "outputs": [],
   "source": [
    "from typing import Optional\n",
    "\n",
    "\n",
    "class ListNode:\n",
    "    def __init__(self, key=None, val=None):\n",
    "        self.key = key\n",
    "        self.val = val\n",
    "        self.prev: Optional[ListNode] = None\n",
    "        self.next: Optional[ListNode] = None\n",
    "\n",
    "\n",
    "# space = O(capacity)\n",
    "class LRUCache:\n",
    "    def __init__(self, capacity: int):\n",
    "        self.capacity = capacity\n",
    "        self.cache: dict[int, ListNode] = {}\n",
    "        self.head = ListNode()\n",
    "        self.tail = ListNode()\n",
    "        self.head.next = self.tail\n",
    "        self.tail.prev = self.head\n",
    "\n",
    "    # time O(1)\n",
    "    # space O(1)\n",
    "    def _remove_node(self, node: ListNode):\n",
    "        prev_node = node.prev\n",
    "        next_node = node.next\n",
    "        prev_node.next = next_node\n",
    "        next_node.prev = prev_node\n",
    "\n",
    "    # time = O(1)\n",
    "    # space = O(1)\n",
    "    def _add_to_front(self, node: ListNode):\n",
    "        next_node = self.head.next\n",
    "        self.head.next = node\n",
    "        node.prev = self.head\n",
    "        node.next = next_node\n",
    "        next_node.prev = node\n",
    "\n",
    "    # time = O(1)\n",
    "    # space = O(1)\n",
    "    def get(self, key: int) -> int:\n",
    "        if key in self.cache:\n",
    "            node = self.cache[key]\n",
    "            self._remove_node(node)\n",
    "            self._add_to_front(node)\n",
    "            return node.val\n",
    "        return -1\n",
    "\n",
    "    # time = O(1)\n",
    "    # space = O(1)\n",
    "    def put(self, key: int, value: int) -> None:\n",
    "        if key in self.cache:\n",
    "            node = self.cache[key]\n",
    "            node.val = value\n",
    "            self._remove_node(node)\n",
    "            self._add_to_front(node)\n",
    "        else:\n",
    "            if len(self.cache) >= self.capacity:\n",
    "                # Remove the least recently used item from cache\n",
    "                lru_node = self.tail.prev\n",
    "                del self.cache[lru_node.key]\n",
    "                self._remove_node(lru_node)\n",
    "            new_node = ListNode(key, value)\n",
    "            self.cache[key] = new_node\n",
    "            self._add_to_front(new_node)\n",
    "\n",
    "\n",
    "# Your LRUCache object will be instantiated and called as such:\n",
    "# obj = LRUCache(capacity)\n",
    "# param_1 = obj.get(key)\n",
    "# obj.put(key,value)"
   ]
  },
  {
   "cell_type": "code",
   "execution_count": 2,
   "metadata": {},
   "outputs": [],
   "source": [
    "obj = LRUCache(2)\n",
    "obj.put(1, 1)\n",
    "obj.put(2, 2)\n",
    "assert obj.get(1) == 1\n",
    "obj.put(3, 3)\n",
    "assert obj.get(2) == -1\n",
    "obj.put(4, 4)\n",
    "assert obj.get(1) == -1\n",
    "assert obj.get(3) == 3\n",
    "assert obj.get(4) == 4"
   ]
  },
  {
   "cell_type": "code",
   "execution_count": null,
   "metadata": {},
   "outputs": [],
   "source": []
  }
 ],
 "metadata": {
  "kernelspec": {
   "display_name": "leetcode-craft",
   "language": "python",
   "name": "python3"
  },
  "language_info": {
   "codemirror_mode": {
    "name": "ipython",
    "version": 3
   },
   "file_extension": ".py",
   "mimetype": "text/x-python",
   "name": "python",
   "nbconvert_exporter": "python",
   "pygments_lexer": "ipython3",
   "version": "3.12.2"
  }
 },
 "nbformat": 4,
 "nbformat_minor": 2
}
