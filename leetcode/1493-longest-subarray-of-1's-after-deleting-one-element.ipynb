{
 "cells": [
  {
   "cell_type": "markdown",
   "metadata": {},
   "source": [
    "# 1493. Longest Subarray of 1's After Deleting One Element"
   ]
  },
  {
   "cell_type": "markdown",
   "metadata": {},
   "source": [
    "https://leetcode.com/problems/longest-subarray-of-1s-after-deleting-one-element/"
   ]
  },
  {
   "cell_type": "code",
   "execution_count": 7,
   "metadata": {},
   "outputs": [],
   "source": [
    "class Solution:\n",
    "    def longestSubarray(self, nums: list[int]) -> int:\n",
    "        prev_window = 0\n",
    "        curr_window = 0\n",
    "        max_length = 0\n",
    "\n",
    "        for num in nums:\n",
    "            if num == 0:\n",
    "                max_length = max(max_length, prev_window + curr_window)\n",
    "                prev_window = curr_window\n",
    "                curr_window = 0\n",
    "            else:\n",
    "                curr_window += 1\n",
    "\n",
    "        if curr_window == len(nums):\n",
    "            return curr_window - 1\n",
    "\n",
    "        max_length = max(max_length, prev_window + curr_window)\n",
    "        return max_length"
   ]
  },
  {
   "cell_type": "code",
   "execution_count": 8,
   "metadata": {},
   "outputs": [
    {
     "name": "stdout",
     "output_type": "stream",
     "text": [
      "3\n"
     ]
    }
   ],
   "source": [
    "nums = [1, 1, 0, 1]\n",
    "\n",
    "expected = 3\n",
    "\n",
    "output = Solution().longestSubarray(nums)\n",
    "print(output)\n",
    "assert output == expected"
   ]
  },
  {
   "cell_type": "code",
   "execution_count": 9,
   "metadata": {},
   "outputs": [
    {
     "name": "stdout",
     "output_type": "stream",
     "text": [
      "5\n"
     ]
    }
   ],
   "source": [
    "nums = [0, 1, 1, 1, 0, 1, 1, 0, 1]\n",
    "\n",
    "expected = 5\n",
    "\n",
    "output = Solution().longestSubarray(nums)\n",
    "print(output)\n",
    "assert output == expected"
   ]
  },
  {
   "cell_type": "code",
   "execution_count": null,
   "metadata": {},
   "outputs": [],
   "source": [
    "nums = [1, 1, 1]\n",
    "\n",
    "expected = 2\n",
    "\n",
    "output = Solution().longestSubarray(nums)\n",
    "print(output)\n",
    "assert output == expected"
   ]
  }
 ],
 "metadata": {
  "kernelspec": {
   "display_name": "leetcode-craft",
   "language": "python",
   "name": "python3"
  },
  "language_info": {
   "codemirror_mode": {
    "name": "ipython",
    "version": 3
   },
   "file_extension": ".py",
   "mimetype": "text/x-python",
   "name": "python",
   "nbconvert_exporter": "python",
   "pygments_lexer": "ipython3",
   "version": "3.12.2"
  }
 },
 "nbformat": 4,
 "nbformat_minor": 2
}
