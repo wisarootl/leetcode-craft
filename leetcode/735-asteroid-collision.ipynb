{
 "cells": [
  {
   "cell_type": "markdown",
   "metadata": {},
   "source": [
    "# 735. Asteroid Collision"
   ]
  },
  {
   "cell_type": "markdown",
   "metadata": {},
   "source": [
    "https://leetcode.com/problems/asteroid-collision/"
   ]
  },
  {
   "cell_type": "code",
   "execution_count": 1,
   "metadata": {},
   "outputs": [],
   "source": [
    "class Solution:\n",
    "    # time = O(N)\n",
    "    # space = O(N)\n",
    "    # N = len(asteroids)\n",
    "    def asteroidCollision(self, asteroids: list[int]) -> list[int]:\n",
    "        stack = []\n",
    "        for asteroid in asteroids:\n",
    "            while stack and asteroid < 0 and stack[-1] > 0:\n",
    "                if stack[-1] + asteroid < 0:\n",
    "                    # stack[-1] explodes\n",
    "                    stack.pop()\n",
    "                elif stack[-1] + asteroid == 0:\n",
    "                    # both stack[-1] and asteroid explode\n",
    "                    stack.pop()\n",
    "                    # break while loop (skip else of while as well)\n",
    "                    break\n",
    "                else:\n",
    "                    # asteroid explodes\n",
    "                    break\n",
    "            else:\n",
    "                stack.append(asteroid)\n",
    "\n",
    "        return stack"
   ]
  },
  {
   "cell_type": "code",
   "execution_count": 2,
   "metadata": {},
   "outputs": [
    {
     "name": "stdout",
     "output_type": "stream",
     "text": [
      "[5, 10]\n"
     ]
    }
   ],
   "source": [
    "asteroids = [5, 10, -5]\n",
    "\n",
    "expected = [5, 10]\n",
    "\n",
    "output = Solution().asteroidCollision(asteroids)\n",
    "print(output)\n",
    "assert output == expected"
   ]
  },
  {
   "cell_type": "code",
   "execution_count": 3,
   "metadata": {},
   "outputs": [
    {
     "name": "stdout",
     "output_type": "stream",
     "text": [
      "[]\n"
     ]
    }
   ],
   "source": [
    "asteroids = [8, -8]\n",
    "\n",
    "expected = []\n",
    "\n",
    "output = Solution().asteroidCollision(asteroids)\n",
    "print(output)\n",
    "assert output == expected"
   ]
  },
  {
   "cell_type": "code",
   "execution_count": 4,
   "metadata": {},
   "outputs": [
    {
     "name": "stdout",
     "output_type": "stream",
     "text": [
      "[10]\n"
     ]
    }
   ],
   "source": [
    "asteroids = [10, 2, -5]\n",
    "\n",
    "expected = [10]\n",
    "\n",
    "output = Solution().asteroidCollision(asteroids)\n",
    "print(output)\n",
    "assert output == expected"
   ]
  },
  {
   "cell_type": "code",
   "execution_count": 5,
   "metadata": {},
   "outputs": [
    {
     "name": "stdout",
     "output_type": "stream",
     "text": [
      "[-5, 6]\n"
     ]
    }
   ],
   "source": [
    "asteroids = [1, 1, -5, 6]\n",
    "\n",
    "expected = [-5, 6]\n",
    "\n",
    "output = Solution().asteroidCollision(asteroids)\n",
    "print(output)\n",
    "assert output == expected"
   ]
  },
  {
   "cell_type": "code",
   "execution_count": null,
   "metadata": {},
   "outputs": [],
   "source": []
  }
 ],
 "metadata": {
  "kernelspec": {
   "display_name": "leetcode-craft",
   "language": "python",
   "name": "python3"
  },
  "language_info": {
   "codemirror_mode": {
    "name": "ipython",
    "version": 3
   },
   "file_extension": ".py",
   "mimetype": "text/x-python",
   "name": "python",
   "nbconvert_exporter": "python",
   "pygments_lexer": "ipython3",
   "version": "3.12.2"
  }
 },
 "nbformat": 4,
 "nbformat_minor": 2
}
