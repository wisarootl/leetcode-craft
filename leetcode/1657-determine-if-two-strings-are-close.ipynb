{
 "cells": [
  {
   "cell_type": "markdown",
   "metadata": {},
   "source": [
    "# 1657. Determine if Two Strings Are Close"
   ]
  },
  {
   "cell_type": "markdown",
   "metadata": {},
   "source": [
    "https://leetcode.com/problems/determine-if-two-strings-are-close/description/"
   ]
  },
  {
   "cell_type": "code",
   "execution_count": 14,
   "metadata": {},
   "outputs": [],
   "source": [
    "from collections import Counter\n",
    "\n",
    "\n",
    "class Solution:\n",
    "    # time = O(n)\n",
    "    # space = O(n)\n",
    "\n",
    "    # n = max(len(word1), len(word2))\n",
    "    def closeStrings(self, word1: str, word2: str) -> bool:\n",
    "        if len(word1) != len(word2):\n",
    "            return False\n",
    "\n",
    "        counter1 = Counter(word1)\n",
    "        counter2 = Counter(word2)\n",
    "\n",
    "        print(counter1)\n",
    "        print(counter2)\n",
    "\n",
    "        # Check if the sets of character frequencies are the same\n",
    "        return Counter(counter1.values()) == Counter(counter2.values()) and set(counter1.keys()) == set(\n",
    "            counter2.keys()\n",
    "        )"
   ]
  },
  {
   "cell_type": "code",
   "execution_count": 15,
   "metadata": {},
   "outputs": [
    {
     "name": "stdout",
     "output_type": "stream",
     "text": [
      "Counter({'b': 3, 'a': 2, 'c': 1})\n",
      "Counter({'c': 3, 'b': 2, 'a': 1})\n"
     ]
    },
    {
     "data": {
      "text/plain": [
       "True"
      ]
     },
     "execution_count": 15,
     "metadata": {},
     "output_type": "execute_result"
    }
   ],
   "source": [
    "word1 = \"cabbba\"\n",
    "word2 = \"abbccc\"\n",
    "\n",
    "output = Solution().closeStrings(word1, word2)\n",
    "expected = True\n",
    "\n",
    "assert output == expected\n",
    "expected"
   ]
  },
  {
   "cell_type": "code",
   "execution_count": 17,
   "metadata": {},
   "outputs": [
    {
     "name": "stdout",
     "output_type": "stream",
     "text": [
      "Counter({'e': 5, 'f': 5, 'b': 4, 'a': 3, 'c': 2, 'd': 2})\n",
      "Counter({'a': 5, 'e': 4, 'f': 4, 'c': 3, 'd': 3, 'b': 2})\n"
     ]
    },
    {
     "data": {
      "text/plain": [
       "False"
      ]
     },
     "execution_count": 17,
     "metadata": {},
     "output_type": "execute_result"
    }
   ],
   "source": [
    "word1 = \"aaabbbbccddeeeeefffff\"\n",
    "word2 = \"aaaaabbcccdddeeeeffff\"\n",
    "\n",
    "output = Solution().closeStrings(word1, word2)\n",
    "expected = False\n",
    "\n",
    "assert output == expected\n",
    "expected"
   ]
  },
  {
   "cell_type": "code",
   "execution_count": null,
   "metadata": {},
   "outputs": [],
   "source": []
  }
 ],
 "metadata": {
  "kernelspec": {
   "display_name": "leetcode-craft",
   "language": "python",
   "name": "python3"
  },
  "language_info": {
   "codemirror_mode": {
    "name": "ipython",
    "version": 3
   },
   "file_extension": ".py",
   "mimetype": "text/x-python",
   "name": "python",
   "nbconvert_exporter": "python",
   "pygments_lexer": "ipython3",
   "version": "3.12.2"
  }
 },
 "nbformat": 4,
 "nbformat_minor": 2
}
