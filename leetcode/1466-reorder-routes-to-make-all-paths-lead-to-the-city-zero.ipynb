{
 "cells": [
  {
   "cell_type": "markdown",
   "metadata": {},
   "source": [
    "# 1466. Reorder Routes to Make All Paths Lead to the City Zero"
   ]
  },
  {
   "cell_type": "markdown",
   "metadata": {},
   "source": [
    "https://leetcode.com/problems/reorder-routes-to-make-all-paths-lead-to-the-city-zero/"
   ]
  },
  {
   "cell_type": "code",
   "execution_count": 15,
   "metadata": {},
   "outputs": [],
   "source": [
    "from collections import defaultdict\n",
    "\n",
    "\n",
    "class Solution:\n",
    "    # time = O(n)\n",
    "    # space = O(n) (give that all nodes have only up to 4 edges, 2 neighbor and 2 directions each)\n",
    "    # n = number of city\n",
    "    def minReorder(self, n: int, connections: list[list[int]]) -> int:\n",
    "        adj_list = defaultdict(list)\n",
    "        for start, end in connections:\n",
    "            adj_list[start].append((end, True))\n",
    "            adj_list[end].append((start, False))\n",
    "\n",
    "        def dfs(node: int, adj_list: list[defaultdict], visited: set, change_count: int):\n",
    "            visited.add(node)\n",
    "            for neighbor, direction in adj_list[node]:\n",
    "                if neighbor in visited:\n",
    "                    continue\n",
    "                if direction:\n",
    "                    change_count += 1\n",
    "                change_count = dfs(neighbor, adj_list, visited, change_count)\n",
    "            return change_count\n",
    "\n",
    "        return dfs(0, adj_list, set(), 0)"
   ]
  },
  {
   "cell_type": "code",
   "execution_count": 16,
   "metadata": {},
   "outputs": [
    {
     "name": "stdout",
     "output_type": "stream",
     "text": [
      "3\n"
     ]
    }
   ],
   "source": [
    "n = 6\n",
    "connections = [[0, 1], [1, 3], [2, 3], [4, 0], [4, 5]]\n",
    "\n",
    "expected = 3\n",
    "\n",
    "output = Solution().minReorder(n, connections)\n",
    "print(output)\n",
    "assert output == expected"
   ]
  },
  {
   "cell_type": "code",
   "execution_count": 17,
   "metadata": {},
   "outputs": [
    {
     "name": "stdout",
     "output_type": "stream",
     "text": [
      "3\n"
     ]
    }
   ],
   "source": [
    "n = 6\n",
    "connections = [[0, 1], [1, 3], [2, 3], [4, 0], [4, 5]]\n",
    "\n",
    "expected = 3\n",
    "\n",
    "output = Solution().minReorder(n, connections)\n",
    "print(output)\n",
    "assert output == expected"
   ]
  },
  {
   "cell_type": "code",
   "execution_count": null,
   "metadata": {},
   "outputs": [],
   "source": []
  }
 ],
 "metadata": {
  "kernelspec": {
   "display_name": "leetcode-craft",
   "language": "python",
   "name": "python3"
  },
  "language_info": {
   "codemirror_mode": {
    "name": "ipython",
    "version": 3
   },
   "file_extension": ".py",
   "mimetype": "text/x-python",
   "name": "python",
   "nbconvert_exporter": "python",
   "pygments_lexer": "ipython3",
   "version": "3.12.2"
  }
 },
 "nbformat": 4,
 "nbformat_minor": 2
}
