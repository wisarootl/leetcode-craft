{
 "cells": [
  {
   "cell_type": "markdown",
   "metadata": {},
   "source": [
    "# 238. Product of Array Except Self"
   ]
  },
  {
   "cell_type": "markdown",
   "metadata": {},
   "source": [
    "https://leetcode.com/problems/product-of-array-except-self/"
   ]
  },
  {
   "cell_type": "code",
   "execution_count": 1,
   "metadata": {},
   "outputs": [],
   "source": [
    "class Solution:\n",
    "    # time = O(n)\n",
    "    # space = O(n) if we count output as space, O(1) otherwise\n",
    "    # n = len(nums)\n",
    "    def productExceptSelf(self, nums: list[int]) -> list[int]:\n",
    "        results = [1 for _ in range(len(nums))]\n",
    "\n",
    "        prefix_product = 1\n",
    "        for i in range(len(nums)):\n",
    "            results[i] = prefix_product\n",
    "            prefix_product *= nums[i]\n",
    "\n",
    "        suffix_product = 1\n",
    "        for i in range(len(nums) - 1, -1, -1):\n",
    "            results[i] *= suffix_product\n",
    "            suffix_product *= nums[i]\n",
    "\n",
    "        return results"
   ]
  },
  {
   "cell_type": "code",
   "execution_count": 3,
   "metadata": {},
   "outputs": [
    {
     "name": "stdout",
     "output_type": "stream",
     "text": [
      "[24, 12, 8, 6]\n"
     ]
    }
   ],
   "source": [
    "nums = [1, 2, 3, 4]\n",
    "\n",
    "expected = [24, 12, 8, 6]\n",
    "\n",
    "output = Solution().productExceptSelf(nums)\n",
    "print(output)\n",
    "assert output == expected"
   ]
  },
  {
   "cell_type": "code",
   "execution_count": 4,
   "metadata": {},
   "outputs": [
    {
     "name": "stdout",
     "output_type": "stream",
     "text": [
      "[0, 0, 9, 0, 0]\n"
     ]
    }
   ],
   "source": [
    "nums = [-1, 1, 0, -3, 3]\n",
    "\n",
    "expected = [0, 0, 9, 0, 0]\n",
    "\n",
    "output = Solution().productExceptSelf(nums)\n",
    "print(output)\n",
    "assert output == expected"
   ]
  },
  {
   "cell_type": "code",
   "execution_count": null,
   "metadata": {},
   "outputs": [],
   "source": []
  }
 ],
 "metadata": {
  "kernelspec": {
   "display_name": "leetcode-craft",
   "language": "python",
   "name": "python3"
  },
  "language_info": {
   "codemirror_mode": {
    "name": "ipython",
    "version": 3
   },
   "file_extension": ".py",
   "mimetype": "text/x-python",
   "name": "python",
   "nbconvert_exporter": "python",
   "pygments_lexer": "ipython3",
   "version": "3.12.2"
  }
 },
 "nbformat": 4,
 "nbformat_minor": 2
}
