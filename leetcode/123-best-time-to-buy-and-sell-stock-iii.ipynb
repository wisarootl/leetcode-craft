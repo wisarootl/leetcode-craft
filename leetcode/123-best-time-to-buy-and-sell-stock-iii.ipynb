{
 "cells": [
  {
   "cell_type": "markdown",
   "metadata": {},
   "source": [
    "# 123. Best Time to Buy and Sell Stock III"
   ]
  },
  {
   "cell_type": "markdown",
   "metadata": {},
   "source": [
    "https://leetcode.com/problems/best-time-to-buy-and-sell-stock-iii/"
   ]
  },
  {
   "cell_type": "code",
   "execution_count": 1,
   "metadata": {},
   "outputs": [],
   "source": [
    "class Solution:\n",
    "    def maxProfit(self, prices: list[int]) -> int:\n",
    "        buy1, sell1, buy2, sell2 = float(\"-inf\"), 0, float(\"-inf\"), 0\n",
    "        for price in prices:\n",
    "            # Update buy1 to reflect the maximum of not buying or buying the stock at the current price\n",
    "            buy1 = max(buy1, -price)\n",
    "            # Update sell1 to reflect the maximum of not selling or selling the stock bought at buy1 price\n",
    "            sell1 = max(sell1, buy1 + price)\n",
    "            # Update buy2 to reflect the maximum of not buying the second stock or buying the stock at the current price minus the profit from the first sell\n",
    "            buy2 = max(buy2, sell1 - price)\n",
    "            # Update sell2 to reflect the maximum of not selling the second stock or selling the stock bought at buy2 price\n",
    "            sell2 = max(sell2, buy2 + price)\n",
    "        return sell2"
   ]
  },
  {
   "cell_type": "code",
   "execution_count": 2,
   "metadata": {},
   "outputs": [
    {
     "name": "stdout",
     "output_type": "stream",
     "text": [
      "6\n"
     ]
    }
   ],
   "source": [
    "prices = [3, 3, 5, 0, 0, 3, 1, 4]\n",
    "expected = 6\n",
    "\n",
    "output = Solution().maxProfit(prices)\n",
    "print(output)\n",
    "\n",
    "assert output == expected"
   ]
  },
  {
   "cell_type": "code",
   "execution_count": 3,
   "metadata": {},
   "outputs": [
    {
     "name": "stdout",
     "output_type": "stream",
     "text": [
      "4\n"
     ]
    }
   ],
   "source": [
    "prices = [1, 2, 3, 4, 5]\n",
    "expected = 4\n",
    "\n",
    "output = Solution().maxProfit(prices)\n",
    "print(output)\n",
    "\n",
    "assert output == expected"
   ]
  },
  {
   "cell_type": "code",
   "execution_count": 4,
   "metadata": {},
   "outputs": [
    {
     "name": "stdout",
     "output_type": "stream",
     "text": [
      "0\n"
     ]
    }
   ],
   "source": [
    "prices = [7, 6, 4, 3, 1]\n",
    "expected = 0\n",
    "\n",
    "output = Solution().maxProfit(prices)\n",
    "print(output)\n",
    "\n",
    "assert output == expected"
   ]
  },
  {
   "cell_type": "code",
   "execution_count": null,
   "metadata": {},
   "outputs": [],
   "source": []
  }
 ],
 "metadata": {
  "kernelspec": {
   "display_name": "leetcode-craft",
   "language": "python",
   "name": "python3"
  },
  "language_info": {
   "codemirror_mode": {
    "name": "ipython",
    "version": 3
   },
   "file_extension": ".py",
   "mimetype": "text/x-python",
   "name": "python",
   "nbconvert_exporter": "python",
   "pygments_lexer": "ipython3",
   "version": "3.12.2"
  }
 },
 "nbformat": 4,
 "nbformat_minor": 2
}
