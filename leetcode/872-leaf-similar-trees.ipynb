{
 "cells": [
  {
   "cell_type": "markdown",
   "metadata": {},
   "source": [
    "# 872. Leaf-Similar Trees"
   ]
  },
  {
   "cell_type": "markdown",
   "metadata": {},
   "source": [
    "https://leetcode.com/problems/leaf-similar-trees/"
   ]
  },
  {
   "cell_type": "code",
   "execution_count": 1,
   "metadata": {},
   "outputs": [],
   "source": [
    "from leetcode_craft.binary_tree_helper import TreeNode, build_binary_tree_from_array_representation"
   ]
  },
  {
   "cell_type": "code",
   "execution_count": 8,
   "metadata": {},
   "outputs": [],
   "source": [
    "from typing import Optional\n",
    "\n",
    "\n",
    "class Solution:\n",
    "    # time = O(max(n, m))\n",
    "    # space = O(max(n, m))\n",
    "    # n = # of node in root1\n",
    "    # m = # of node in root2\n",
    "    def leafSimilar(self, root1: Optional[TreeNode], root2: Optional[TreeNode]) -> bool:\n",
    "\n",
    "        def get_leaves(node: Optional[TreeNode]) -> list[float | int | None]:\n",
    "            if not node:\n",
    "                return []\n",
    "\n",
    "            if not node.left and not node.right:\n",
    "                return [node.val]\n",
    "\n",
    "            return get_leaves(node.left) + get_leaves(node.right)\n",
    "\n",
    "        root1_leaves = get_leaves(root1)\n",
    "        root2_leaves = get_leaves(root2)\n",
    "\n",
    "        return root1_leaves == root2_leaves"
   ]
  },
  {
   "cell_type": "code",
   "execution_count": 9,
   "metadata": {},
   "outputs": [],
   "source": [
    "# from typing import Optional\n",
    "\n",
    "\n",
    "# class Solution:\n",
    "#     # time = O(max(n, m))\n",
    "#     # space = O(max(n, m))\n",
    "#     # n = # of node in root1\n",
    "#     # m = # of node in root2\n",
    "#     def leafSimilar(self, root1: Optional[TreeNode], root2: Optional[TreeNode]) -> bool:\n",
    "\n",
    "#         def get_leaves(node: Optional[TreeNode], leaves: list[float | int | None]):\n",
    "#             if not node:\n",
    "#                 return\n",
    "\n",
    "#             elif not node.left and not node.right:\n",
    "#                 leaves.append(node.val)\n",
    "#             else:\n",
    "#                 get_leaves(node.left, leaves)\n",
    "#                 get_leaves(node.right, leaves)\n",
    "\n",
    "#         root1_leaves, root2_leaves = [], []\n",
    "#         get_leaves(root1, root1_leaves)\n",
    "#         get_leaves(root2, root2_leaves)\n",
    "\n",
    "#         return root1_leaves == root2_leaves"
   ]
  },
  {
   "cell_type": "code",
   "execution_count": 10,
   "metadata": {},
   "outputs": [
    {
     "name": "stdout",
     "output_type": "stream",
     "text": [
      "True\n"
     ]
    }
   ],
   "source": [
    "root1 = build_binary_tree_from_array_representation([3, 5, 1, 6, 2, 9, 8, None, None, 7, 4])\n",
    "root2 = build_binary_tree_from_array_representation(\n",
    "    [3, 5, 1, 6, 7, 4, 2, None, None, None, None, None, None, 9, 8]\n",
    ")\n",
    "\n",
    "expected = True\n",
    "\n",
    "output = Solution().leafSimilar(root1, root2)\n",
    "print(output)\n",
    "assert output == expected"
   ]
  },
  {
   "cell_type": "code",
   "execution_count": 11,
   "metadata": {},
   "outputs": [
    {
     "name": "stdout",
     "output_type": "stream",
     "text": [
      "False\n"
     ]
    }
   ],
   "source": [
    "root1 = build_binary_tree_from_array_representation([1, 2, 3])\n",
    "root2 = build_binary_tree_from_array_representation([1, 3, 2])\n",
    "\n",
    "expected = False\n",
    "\n",
    "output = Solution().leafSimilar(root1, root2)\n",
    "print(output)\n",
    "assert output == expected"
   ]
  },
  {
   "cell_type": "code",
   "execution_count": null,
   "metadata": {},
   "outputs": [],
   "source": []
  }
 ],
 "metadata": {
  "kernelspec": {
   "display_name": "leetcode-craft",
   "language": "python",
   "name": "python3"
  },
  "language_info": {
   "codemirror_mode": {
    "name": "ipython",
    "version": 3
   },
   "file_extension": ".py",
   "mimetype": "text/x-python",
   "name": "python",
   "nbconvert_exporter": "python",
   "pygments_lexer": "ipython3",
   "version": "3.12.2"
  }
 },
 "nbformat": 4,
 "nbformat_minor": 2
}
