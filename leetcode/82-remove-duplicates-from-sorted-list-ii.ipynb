{
 "cells": [
  {
   "cell_type": "markdown",
   "metadata": {},
   "source": [
    "# 82. Remove Duplicates from Sorted List II"
   ]
  },
  {
   "cell_type": "code",
   "execution_count": 3,
   "metadata": {},
   "outputs": [],
   "source": [
    "from leetcode_craft.singly_linked_list_helper import ListNode, build_linked_list"
   ]
  },
  {
   "cell_type": "code",
   "execution_count": 2,
   "metadata": {},
   "outputs": [],
   "source": [
    "from typing import Optional\n",
    "\n",
    "\n",
    "class Solution:\n",
    "    def deleteDuplicates(self, head: Optional[ListNode]) -> Optional[ListNode]:\n",
    "        if not head:\n",
    "            return None\n",
    "\n",
    "        dummy = ListNode(0, head)\n",
    "\n",
    "        prev, cur = dummy, head\n",
    "        dup = None\n",
    "        while cur.next:\n",
    "            if cur.val == cur.next.val:\n",
    "                dup = cur.val\n",
    "\n",
    "            if cur.val == dup:\n",
    "                prev.next = cur.next\n",
    "\n",
    "            else:\n",
    "                prev = prev.next\n",
    "\n",
    "            cur = cur.next\n",
    "\n",
    "        if cur.val == dup:\n",
    "            prev.next = None\n",
    "\n",
    "        return dummy.next"
   ]
  },
  {
   "cell_type": "code",
   "execution_count": 5,
   "metadata": {},
   "outputs": [
    {
     "name": "stdout",
     "output_type": "stream",
     "text": [
      "1 -> 2 -> 5\n"
     ]
    }
   ],
   "source": [
    "head = build_linked_list([1, 2, 3, 3, 4, 4, 5])\n",
    "\n",
    "expected = build_linked_list([1, 2, 5])\n",
    "\n",
    "output = Solution().deleteDuplicates(head)\n",
    "print(output)\n",
    "\n",
    "assert output == expected"
   ]
  },
  {
   "cell_type": "code",
   "execution_count": 6,
   "metadata": {},
   "outputs": [
    {
     "name": "stdout",
     "output_type": "stream",
     "text": [
      "2 -> 3\n"
     ]
    }
   ],
   "source": [
    "head = build_linked_list([1, 1, 1, 2, 3])\n",
    "\n",
    "expected = build_linked_list([2, 3])\n",
    "\n",
    "output = Solution().deleteDuplicates(head)\n",
    "print(output)\n",
    "\n",
    "assert output == expected"
   ]
  },
  {
   "cell_type": "code",
   "execution_count": null,
   "metadata": {},
   "outputs": [],
   "source": []
  }
 ],
 "metadata": {
  "kernelspec": {
   "display_name": "leetcode-craft",
   "language": "python",
   "name": "python3"
  },
  "language_info": {
   "codemirror_mode": {
    "name": "ipython",
    "version": 3
   },
   "file_extension": ".py",
   "mimetype": "text/x-python",
   "name": "python",
   "nbconvert_exporter": "python",
   "pygments_lexer": "ipython3",
   "version": "3.12.2"
  }
 },
 "nbformat": 4,
 "nbformat_minor": 2
}
