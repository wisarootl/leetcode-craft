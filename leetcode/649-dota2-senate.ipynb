{
 "cells": [
  {
   "cell_type": "markdown",
   "metadata": {},
   "source": [
    "# Dota2 Senate"
   ]
  },
  {
   "cell_type": "markdown",
   "metadata": {},
   "source": [
    "https://leetcode.com/problems/dota2-senate/description/"
   ]
  },
  {
   "cell_type": "code",
   "execution_count": 1,
   "metadata": {},
   "outputs": [],
   "source": [
    "from collections import deque"
   ]
  },
  {
   "cell_type": "code",
   "execution_count": 12,
   "metadata": {},
   "outputs": [],
   "source": [
    "class Solution:\n",
    "    # time = O(n)\n",
    "    # space = O(n)\n",
    "    # n is len(senate)\n",
    "    def predictPartyVictory(self, senate: str) -> str:\n",
    "        r_idxs = deque()\n",
    "        d_idxs = deque()\n",
    "\n",
    "        for i in range(len(senate)):\n",
    "            if senate[i] == \"R\":\n",
    "                r_idxs.append(i)\n",
    "            else:\n",
    "                d_idxs.append(i)\n",
    "\n",
    "        while r_idxs and d_idxs:\n",
    "            r_idx = r_idxs.popleft()\n",
    "            d_idx = d_idxs.popleft()\n",
    "\n",
    "            if r_idx < d_idx:\n",
    "                r_idxs.append(r_idx + len(senate))\n",
    "            else:\n",
    "                d_idxs.append(d_idx + len(senate))\n",
    "\n",
    "        return \"Radiant\" if r_idxs else \"Dire\""
   ]
  },
  {
   "cell_type": "code",
   "execution_count": 14,
   "metadata": {},
   "outputs": [
    {
     "name": "stdout",
     "output_type": "stream",
     "text": [
      "Radiant\n"
     ]
    }
   ],
   "source": [
    "senate = \"RD\"\n",
    "expected = \"Radiant\"\n",
    "\n",
    "output = Solution().predictPartyVictory(senate)\n",
    "\n",
    "print(output)\n",
    "assert output == expected"
   ]
  },
  {
   "cell_type": "code",
   "execution_count": 15,
   "metadata": {},
   "outputs": [
    {
     "name": "stdout",
     "output_type": "stream",
     "text": [
      "Dire\n"
     ]
    }
   ],
   "source": [
    "senate = \"RDD\"\n",
    "expected = \"Dire\"\n",
    "\n",
    "output = Solution().predictPartyVictory(senate)\n",
    "\n",
    "print(output)\n",
    "assert output == expected"
   ]
  },
  {
   "cell_type": "code",
   "execution_count": 16,
   "metadata": {},
   "outputs": [
    {
     "data": {
      "text/plain": [
       "1"
      ]
     },
     "execution_count": 16,
     "metadata": {},
     "output_type": "execute_result"
    }
   ],
   "source": []
  },
  {
   "cell_type": "code",
   "execution_count": null,
   "metadata": {},
   "outputs": [],
   "source": []
  }
 ],
 "metadata": {
  "kernelspec": {
   "display_name": "leetcode-craft",
   "language": "python",
   "name": "python3"
  },
  "language_info": {
   "codemirror_mode": {
    "name": "ipython",
    "version": 3
   },
   "file_extension": ".py",
   "mimetype": "text/x-python",
   "name": "python",
   "nbconvert_exporter": "python",
   "pygments_lexer": "ipython3",
   "version": "3.12.2"
  }
 },
 "nbformat": 4,
 "nbformat_minor": 2
}
