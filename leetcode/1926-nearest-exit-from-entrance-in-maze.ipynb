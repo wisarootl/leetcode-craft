{
 "cells": [
  {
   "cell_type": "markdown",
   "metadata": {},
   "source": [
    "# 1926. Nearest Exit from Entrance in Maze"
   ]
  },
  {
   "cell_type": "markdown",
   "metadata": {},
   "source": [
    "https://leetcode.com/problems/nearest-exit-from-entrance-in-maze/"
   ]
  },
  {
   "cell_type": "code",
   "execution_count": 3,
   "metadata": {},
   "outputs": [],
   "source": [
    "from collections import deque\n",
    "\n",
    "\n",
    "class Solution:\n",
    "    # time = O(m*n)\n",
    "    # space = O(m*n)\n",
    "    # m = len(maze)\n",
    "    # n = len(maze[0])\n",
    "    def nearestExit(self, maze: list[list[str]], entrance: list[int]) -> int:\n",
    "        queue = deque([(entrance[0], entrance[1], 0)])\n",
    "        directions = [(-1, 0), (1, 0), (0, 1), (0, -1)]\n",
    "\n",
    "        m = len(maze) - 1\n",
    "        n = len(maze[0]) - 1\n",
    "\n",
    "        while queue:\n",
    "            curr_row, curr_col, step_count = queue.popleft()\n",
    "\n",
    "            # is visited or is wall\n",
    "            if maze[curr_row][curr_col] == \"+\":\n",
    "                continue\n",
    "\n",
    "            # mark as visited\n",
    "            maze[curr_row][curr_col] = \"+\"\n",
    "\n",
    "            # is goal\n",
    "            is_bound = curr_row == 0 or curr_row == m or curr_col == 0 or curr_col == n\n",
    "            is_entrance = [curr_row, curr_col] == entrance\n",
    "            if not is_entrance and is_bound:\n",
    "                return step_count\n",
    "\n",
    "            for dr, dc in directions:\n",
    "                neighbor_row = curr_row + dr\n",
    "                neighbor_col = curr_col + dc\n",
    "                if 0 <= neighbor_row <= m and 0 <= neighbor_col <= n:\n",
    "                    queue.append((neighbor_row, neighbor_col, step_count + 1))\n",
    "\n",
    "        return -1"
   ]
  },
  {
   "cell_type": "code",
   "execution_count": 5,
   "metadata": {},
   "outputs": [
    {
     "name": "stdout",
     "output_type": "stream",
     "text": [
      "1\n"
     ]
    }
   ],
   "source": [
    "maze = [[\"+\", \"+\", \".\", \"+\"], [\".\", \".\", \".\", \"+\"], [\"+\", \"+\", \"+\", \".\"]]\n",
    "entrance = [1, 2]\n",
    "\n",
    "expected = 1\n",
    "\n",
    "output = Solution().nearestExit(maze, entrance)\n",
    "print(output)\n",
    "assert output == expected"
   ]
  },
  {
   "cell_type": "code",
   "execution_count": 6,
   "metadata": {},
   "outputs": [
    {
     "name": "stdout",
     "output_type": "stream",
     "text": [
      "2\n"
     ]
    }
   ],
   "source": [
    "maze = [[\"+\", \"+\", \"+\"], [\".\", \".\", \".\"], [\"+\", \"+\", \"+\"]]\n",
    "entrance = [1, 0]\n",
    "\n",
    "expected = 2\n",
    "\n",
    "output = Solution().nearestExit(maze, entrance)\n",
    "print(output)\n",
    "assert output == expected"
   ]
  },
  {
   "cell_type": "code",
   "execution_count": 7,
   "metadata": {},
   "outputs": [
    {
     "name": "stdout",
     "output_type": "stream",
     "text": [
      "-1\n"
     ]
    }
   ],
   "source": [
    "maze = [[\".\", \"+\"]]\n",
    "entrance = [0, 0]\n",
    "\n",
    "expected = -1\n",
    "\n",
    "output = Solution().nearestExit(maze, entrance)\n",
    "print(output)\n",
    "assert output == expected"
   ]
  },
  {
   "cell_type": "code",
   "execution_count": null,
   "metadata": {},
   "outputs": [],
   "source": []
  }
 ],
 "metadata": {
  "kernelspec": {
   "display_name": "leetcode-craft",
   "language": "python",
   "name": "python3"
  },
  "language_info": {
   "codemirror_mode": {
    "name": "ipython",
    "version": 3
   },
   "file_extension": ".py",
   "mimetype": "text/x-python",
   "name": "python",
   "nbconvert_exporter": "python",
   "pygments_lexer": "ipython3",
   "version": "3.12.2"
  }
 },
 "nbformat": 4,
 "nbformat_minor": 2
}
