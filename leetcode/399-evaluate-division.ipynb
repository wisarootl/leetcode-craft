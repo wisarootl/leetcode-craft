{
 "cells": [
  {
   "cell_type": "markdown",
   "metadata": {},
   "source": [
    "# 399. Evaluate Division\n"
   ]
  },
  {
   "cell_type": "code",
   "execution_count": 3,
   "metadata": {},
   "outputs": [],
   "source": [
    "from collections import defaultdict\n",
    "\n",
    "\n",
    "class Solution:\n",
    "    # time = O(V + E)\n",
    "    # space = O(V + E)\n",
    "    # V is unique variable in equation\n",
    "    # E = len(equation) it could up to V^2\n",
    "    def calcEquation(\n",
    "        self, equations: list[list[str]], values: list[float], queries: list[list[str]]\n",
    "    ) -> list[float]:\n",
    "        # build the graph\n",
    "        graph = defaultdict(dict)\n",
    "        for (numerator, denominator), value in zip(equations, values):\n",
    "            graph[numerator][denominator] = value\n",
    "            graph[denominator][numerator] = 1 / value\n",
    "\n",
    "        # search\n",
    "        def dfs(start: str, end: str, visited: set[str]):\n",
    "            if start not in graph or end not in graph:\n",
    "                return -1\n",
    "\n",
    "            if end in graph[start]:\n",
    "                return graph[start][end]\n",
    "\n",
    "            visited.add(start)\n",
    "\n",
    "            for neighbor, value in graph[start].items():\n",
    "                if neighbor in visited:\n",
    "                    continue\n",
    "                result = dfs(neighbor, end, visited)\n",
    "                if result != -1:\n",
    "                    return value * result\n",
    "            return -1\n",
    "\n",
    "        results = []\n",
    "        for query in queries:\n",
    "            results.append(dfs(query[0], query[1], set()))\n",
    "\n",
    "        return results"
   ]
  },
  {
   "cell_type": "code",
   "execution_count": 4,
   "metadata": {},
   "outputs": [
    {
     "name": "stdout",
     "output_type": "stream",
     "text": [
      "[6.0, 0.5, -1, 1.0, -1]\n"
     ]
    }
   ],
   "source": [
    "equations = [[\"a\", \"b\"], [\"b\", \"c\"]]\n",
    "values = [2.0, 3.0]\n",
    "queries = [[\"a\", \"c\"], [\"b\", \"a\"], [\"a\", \"e\"], [\"a\", \"a\"], [\"x\", \"x\"]]\n",
    "\n",
    "expected = [6, 0.5, -1, 1, -1]\n",
    "\n",
    "output = Solution().calcEquation(equations, values, queries)\n",
    "print(output)\n",
    "assert output == expected"
   ]
  },
  {
   "cell_type": "code",
   "execution_count": 5,
   "metadata": {},
   "outputs": [
    {
     "name": "stdout",
     "output_type": "stream",
     "text": [
      "[3.75, 0.4, 5.0, 0.2]\n"
     ]
    }
   ],
   "source": [
    "equations = [[\"a\", \"b\"], [\"b\", \"c\"], [\"bc\", \"cd\"]]\n",
    "values = [1.5, 2.5, 5.0]\n",
    "queries = [[\"a\", \"c\"], [\"c\", \"b\"], [\"bc\", \"cd\"], [\"cd\", \"bc\"]]\n",
    "\n",
    "expected = [3.75, 0.4, 5.0, 0.2]\n",
    "\n",
    "output = Solution().calcEquation(equations, values, queries)\n",
    "print(output)\n",
    "assert output == expected"
   ]
  },
  {
   "cell_type": "code",
   "execution_count": 6,
   "metadata": {},
   "outputs": [
    {
     "name": "stdout",
     "output_type": "stream",
     "text": [
      "[0.5, 2.0, -1, -1]\n"
     ]
    }
   ],
   "source": [
    "equations = [[\"a\", \"b\"]]\n",
    "values = [0.5]\n",
    "queries = [[\"a\", \"b\"], [\"b\", \"a\"], [\"a\", \"c\"], [\"x\", \"y\"]]\n",
    "\n",
    "expected = [0.5, 2, -1, -1]\n",
    "\n",
    "output = Solution().calcEquation(equations, values, queries)\n",
    "print(output)\n",
    "assert output == expected"
   ]
  },
  {
   "cell_type": "code",
   "execution_count": null,
   "metadata": {},
   "outputs": [],
   "source": []
  }
 ],
 "metadata": {
  "kernelspec": {
   "display_name": "leetcode-craft",
   "language": "python",
   "name": "python3"
  },
  "language_info": {
   "codemirror_mode": {
    "name": "ipython",
    "version": 3
   },
   "file_extension": ".py",
   "mimetype": "text/x-python",
   "name": "python",
   "nbconvert_exporter": "python",
   "pygments_lexer": "ipython3",
   "version": "3.12.2"
  }
 },
 "nbformat": 4,
 "nbformat_minor": 2
}
