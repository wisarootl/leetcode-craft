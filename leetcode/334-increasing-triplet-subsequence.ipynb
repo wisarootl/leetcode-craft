{
 "cells": [
  {
   "cell_type": "markdown",
   "metadata": {},
   "source": [
    "# 334. Increasing Triplet Subsequence"
   ]
  },
  {
   "cell_type": "code",
   "execution_count": 2,
   "metadata": {},
   "outputs": [],
   "source": [
    "class Solution:\n",
    "    # time = O(n)\n",
    "    # space = O(1)\n",
    "    # n = len(nums)\n",
    "    def increasingTriplet(self, nums: list[int]) -> bool:\n",
    "        first_min = second_min = float(\"inf\")\n",
    "\n",
    "        for num in nums:\n",
    "            if num <= first_min:\n",
    "                first_min = num\n",
    "            elif num <= second_min:\n",
    "                second_min = num\n",
    "            else:\n",
    "                return True\n",
    "\n",
    "        return False"
   ]
  },
  {
   "cell_type": "code",
   "execution_count": 3,
   "metadata": {},
   "outputs": [
    {
     "name": "stdout",
     "output_type": "stream",
     "text": [
      "True\n"
     ]
    }
   ],
   "source": [
    "nums = [1, 2, 3, 4, 5]\n",
    "\n",
    "expected = True\n",
    "\n",
    "output = Solution().increasingTriplet(nums)\n",
    "print(output)\n",
    "assert output == expected"
   ]
  },
  {
   "cell_type": "code",
   "execution_count": 4,
   "metadata": {},
   "outputs": [
    {
     "name": "stdout",
     "output_type": "stream",
     "text": [
      "False\n"
     ]
    }
   ],
   "source": [
    "nums = [5, 4, 3, 2, 1]\n",
    "\n",
    "expected = False\n",
    "\n",
    "output = Solution().increasingTriplet(nums)\n",
    "print(output)\n",
    "assert output == expected"
   ]
  },
  {
   "cell_type": "code",
   "execution_count": 5,
   "metadata": {},
   "outputs": [
    {
     "name": "stdout",
     "output_type": "stream",
     "text": [
      "True\n"
     ]
    }
   ],
   "source": [
    "nums = [2, 1, 5, 0, 4, 6]\n",
    "\n",
    "expected = True\n",
    "\n",
    "output = Solution().increasingTriplet(nums)\n",
    "print(output)\n",
    "assert output == expected"
   ]
  },
  {
   "cell_type": "code",
   "execution_count": null,
   "metadata": {},
   "outputs": [],
   "source": []
  }
 ],
 "metadata": {
  "kernelspec": {
   "display_name": "leetcode-craft",
   "language": "python",
   "name": "python3"
  },
  "language_info": {
   "codemirror_mode": {
    "name": "ipython",
    "version": 3
   },
   "file_extension": ".py",
   "mimetype": "text/x-python",
   "name": "python",
   "nbconvert_exporter": "python",
   "pygments_lexer": "ipython3",
   "version": "3.12.2"
  }
 },
 "nbformat": 4,
 "nbformat_minor": 2
}
