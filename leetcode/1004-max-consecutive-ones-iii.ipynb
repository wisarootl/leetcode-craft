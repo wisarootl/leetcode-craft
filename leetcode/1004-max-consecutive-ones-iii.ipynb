{
 "cells": [
  {
   "cell_type": "markdown",
   "metadata": {},
   "source": [
    "# 1004. Max Consecutive Ones III"
   ]
  },
  {
   "cell_type": "markdown",
   "metadata": {},
   "source": [
    "https://leetcode.com/problems/max-consecutive-ones-iii/"
   ]
  },
  {
   "cell_type": "code",
   "execution_count": 4,
   "metadata": {},
   "outputs": [],
   "source": [
    "class Solution:\n",
    "    # time = O(n)\n",
    "    # space = O(1)\n",
    "    # n = len(nums)\n",
    "    def longestOnes(self, nums: list[int], k: int) -> int:\n",
    "        max_length = 0\n",
    "        zero_count = 0\n",
    "        left_idx = 0\n",
    "        \n",
    "        for right_idx in range(len(nums)):\n",
    "            if nums[right_idx] == 0:\n",
    "                zero_count += 1\n",
    "                \n",
    "            while zero_count > k:\n",
    "                if nums[left_idx] == 0:\n",
    "                    zero_count -= 1\n",
    "                left_idx += 1\n",
    "                \n",
    "            max_length = max(max_length, right_idx - left_idx + 1)\n",
    "        \n",
    "        return max_length"
   ]
  },
  {
   "cell_type": "code",
   "execution_count": 5,
   "metadata": {},
   "outputs": [
    {
     "name": "stdout",
     "output_type": "stream",
     "text": [
      "6\n"
     ]
    }
   ],
   "source": [
    "nums = [1,1,1,0,0,0,1,1,1,1,0]\n",
    "k = 2\n",
    "\n",
    "expected = 6\n",
    "\n",
    "output = Solution().longestOnes(nums, k)\n",
    "print(output)\n",
    "assert output == expected"
   ]
  },
  {
   "cell_type": "code",
   "execution_count": 6,
   "metadata": {},
   "outputs": [
    {
     "name": "stdout",
     "output_type": "stream",
     "text": [
      "10\n"
     ]
    }
   ],
   "source": [
    "nums = [0,0,1,1,0,0,1,1,1,0,1,1,0,0,0,1,1,1,1]\n",
    "k = 3\n",
    "\n",
    "expected = 10\n",
    "\n",
    "output = Solution().longestOnes(nums, k)\n",
    "print(output)\n",
    "assert output == expected"
   ]
  },
  {
   "cell_type": "code",
   "execution_count": null,
   "metadata": {},
   "outputs": [],
   "source": []
  },
  {
   "cell_type": "code",
   "execution_count": null,
   "metadata": {},
   "outputs": [],
   "source": []
  }
 ],
 "metadata": {
  "kernelspec": {
   "display_name": "leetcode-craft",
   "language": "python",
   "name": "python3"
  },
  "language_info": {
   "codemirror_mode": {
    "name": "ipython",
    "version": 3
   },
   "file_extension": ".py",
   "mimetype": "text/x-python",
   "name": "python",
   "nbconvert_exporter": "python",
   "pygments_lexer": "ipython3",
   "version": "3.12.2"
  }
 },
 "nbformat": 4,
 "nbformat_minor": 2
}
