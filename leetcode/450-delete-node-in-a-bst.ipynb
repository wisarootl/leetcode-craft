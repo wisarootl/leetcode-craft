{
 "cells": [
  {
   "cell_type": "markdown",
   "metadata": {},
   "source": [
    "# 450. Delete Node in a BST"
   ]
  },
  {
   "cell_type": "markdown",
   "metadata": {},
   "source": [
    "https://leetcode.com/problems/delete-node-in-a-bst/description/"
   ]
  },
  {
   "cell_type": "code",
   "execution_count": 1,
   "metadata": {},
   "outputs": [],
   "source": [
    "from leetcode_craft.binary_tree_helper import TreeNode, build_binary_tree_from_array_representation"
   ]
  },
  {
   "cell_type": "code",
   "execution_count": 2,
   "metadata": {},
   "outputs": [],
   "source": [
    "from typing import Optional\n",
    "\n",
    "\n",
    "class Solution:\n",
    "    # time =  O(log n) for balance tree else O(n)\n",
    "    # space = O(1) no additional space\n",
    "    def deleteNode(self, root: Optional[TreeNode], key: int) -> Optional[TreeNode]:\n",
    "        if not root:\n",
    "            return root\n",
    "\n",
    "        def find_left_most_descendant(node):\n",
    "            while node.left:\n",
    "                node = node.left\n",
    "            return node\n",
    "\n",
    "        if key < root.val:\n",
    "            root.left = self.deleteNode(root.left, key)\n",
    "        elif key > root.val:\n",
    "            root.right = self.deleteNode(root.right, key)\n",
    "        else:\n",
    "            if not root.left:\n",
    "                return root.right\n",
    "            elif not root.right:\n",
    "                return root.left\n",
    "            else:  # Node with two children\n",
    "                # successor if left most descendant\n",
    "                successor = find_left_most_descendant(root.right)\n",
    "                root.val = successor.val\n",
    "                root.right = self.deleteNode(root.right, successor.val)\n",
    "\n",
    "        return root"
   ]
  },
  {
   "cell_type": "code",
   "execution_count": 3,
   "metadata": {},
   "outputs": [
    {
     "name": "stdout",
     "output_type": "stream",
     "text": [
      "[5, 4, 6, 2, None, None, 7]\n"
     ]
    }
   ],
   "source": [
    "root = build_binary_tree_from_array_representation([5, 3, 6, 2, 4, None, 7])\n",
    "key = 3\n",
    "expected = build_binary_tree_from_array_representation([5, 4, 6, 2, None, None, 7])\n",
    "\n",
    "output = Solution().deleteNode(root, key)\n",
    "\n",
    "print(output)\n",
    "assert output == expected"
   ]
  },
  {
   "cell_type": "code",
   "execution_count": 4,
   "metadata": {},
   "outputs": [
    {
     "name": "stdout",
     "output_type": "stream",
     "text": [
      "[5, 3, 6, 2, 4, None, 7]\n"
     ]
    }
   ],
   "source": [
    "root = build_binary_tree_from_array_representation([5, 3, 6, 2, 4, None, 7])\n",
    "key = 0\n",
    "expected = build_binary_tree_from_array_representation([5, 3, 6, 2, 4, None, 7])\n",
    "\n",
    "output = Solution().deleteNode(root, key)\n",
    "\n",
    "print(output)\n",
    "assert output == expected"
   ]
  },
  {
   "cell_type": "code",
   "execution_count": null,
   "metadata": {},
   "outputs": [],
   "source": []
  }
 ],
 "metadata": {
  "kernelspec": {
   "display_name": "leetcode-craft",
   "language": "python",
   "name": "python3"
  },
  "language_info": {
   "codemirror_mode": {
    "name": "ipython",
    "version": 3
   },
   "file_extension": ".py",
   "mimetype": "text/x-python",
   "name": "python",
   "nbconvert_exporter": "python",
   "pygments_lexer": "ipython3",
   "version": "3.12.2"
  }
 },
 "nbformat": 4,
 "nbformat_minor": 2
}
