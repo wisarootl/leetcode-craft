{
 "cells": [
  {
   "cell_type": "code",
   "execution_count": 2,
   "metadata": {},
   "outputs": [],
   "source": [
    "class Solution:\n",
    "    # Time O(n log n) : sorting operation\n",
    "    # Space O(1) : if we are allowed for in-place sorting or O(N) otherwise\n",
    "    # n = len(intervals)\n",
    "    def eraseOverlapIntervals(self, intervals: list[list[int]]) -> int:\n",
    "        if not intervals:\n",
    "            return 0\n",
    "\n",
    "        # sorted interval by end\n",
    "        intervals.sort(key=lambda x: x[1])\n",
    "\n",
    "        count = 0\n",
    "        end = float(\"-inf\")\n",
    "\n",
    "        for interval in intervals:\n",
    "            curr_start, curr_end = interval\n",
    "            if curr_start < end:\n",
    "                count += 1\n",
    "            else:\n",
    "                end = curr_end\n",
    "\n",
    "        return count"
   ]
  },
  {
   "cell_type": "code",
   "execution_count": 4,
   "metadata": {},
   "outputs": [
    {
     "name": "stdout",
     "output_type": "stream",
     "text": [
      "1\n"
     ]
    }
   ],
   "source": [
    "intervals = [[1, 2], [2, 3], [3, 4], [1, 3]]\n",
    "expected = 1\n",
    "\n",
    "output = Solution().eraseOverlapIntervals(intervals)\n",
    "\n",
    "print(output)\n",
    "assert output == expected"
   ]
  },
  {
   "cell_type": "code",
   "execution_count": 5,
   "metadata": {},
   "outputs": [
    {
     "name": "stdout",
     "output_type": "stream",
     "text": [
      "2\n"
     ]
    }
   ],
   "source": [
    "intervals = [[1, 2], [1, 2], [1, 2]]\n",
    "expected = 2\n",
    "\n",
    "output = Solution().eraseOverlapIntervals(intervals)\n",
    "\n",
    "print(output)\n",
    "assert output == expected"
   ]
  },
  {
   "cell_type": "code",
   "execution_count": 6,
   "metadata": {},
   "outputs": [
    {
     "name": "stdout",
     "output_type": "stream",
     "text": [
      "0\n"
     ]
    }
   ],
   "source": [
    "intervals = [[1, 2], [2, 3]]\n",
    "expected = 0\n",
    "\n",
    "output = Solution().eraseOverlapIntervals(intervals)\n",
    "\n",
    "print(output)\n",
    "assert output == expected"
   ]
  },
  {
   "cell_type": "code",
   "execution_count": null,
   "metadata": {},
   "outputs": [],
   "source": []
  }
 ],
 "metadata": {
  "kernelspec": {
   "display_name": "leetcode-craft",
   "language": "python",
   "name": "python3"
  },
  "language_info": {
   "codemirror_mode": {
    "name": "ipython",
    "version": 3
   },
   "file_extension": ".py",
   "mimetype": "text/x-python",
   "name": "python",
   "nbconvert_exporter": "python",
   "pygments_lexer": "ipython3",
   "version": "3.12.2"
  }
 },
 "nbformat": 4,
 "nbformat_minor": 2
}
