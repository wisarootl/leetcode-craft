{
 "cells": [
  {
   "cell_type": "markdown",
   "metadata": {},
   "source": [
    "# 345. Reverse Vowels of a String"
   ]
  },
  {
   "cell_type": "markdown",
   "metadata": {},
   "source": [
    "https://leetcode.com/problems/reverse-vowels-of-a-string/"
   ]
  },
  {
   "cell_type": "code",
   "execution_count": 1,
   "metadata": {},
   "outputs": [],
   "source": [
    "class Solution:\n",
    "    # time = O(n)\n",
    "    # space = O(1) in-place operation \n",
    "    def reverseVowels(self, s: str) -> str:\n",
    "        vowels = set(\"aeiouAEIOU\")\n",
    "        s = list(s)\n",
    "        left, right = 0, len(s) - 1\n",
    "\n",
    "        while left < right:\n",
    "            while left < right and s[left] not in vowels:\n",
    "                left += 1\n",
    "            while left < right and s[right] not in vowels:\n",
    "                right -= 1\n",
    "\n",
    "            if left < right:\n",
    "                s[left], s[right] = s[right], s[left]\n",
    "            left += 1\n",
    "            right -= 1\n",
    "\n",
    "        return \"\".join(s)"
   ]
  },
  {
   "cell_type": "code",
   "execution_count": 2,
   "metadata": {},
   "outputs": [
    {
     "name": "stdout",
     "output_type": "stream",
     "text": [
      "holle\n"
     ]
    }
   ],
   "source": [
    "s = \"hello\"\n",
    "\n",
    "expected = \"holle\"\n",
    "\n",
    "output = Solution().reverseVowels(s)\n",
    "print(output)\n",
    "assert output == expected"
   ]
  },
  {
   "cell_type": "code",
   "execution_count": 3,
   "metadata": {},
   "outputs": [
    {
     "name": "stdout",
     "output_type": "stream",
     "text": [
      "leotcede\n"
     ]
    }
   ],
   "source": [
    "s = \"leetcode\"\n",
    "\n",
    "expected = \"leotcede\"\n",
    "\n",
    "output = Solution().reverseVowels(s)\n",
    "print(output)\n",
    "assert output == expected"
   ]
  },
  {
   "cell_type": "code",
   "execution_count": 4,
   "metadata": {},
   "outputs": [
    {
     "name": "stdout",
     "output_type": "stream",
     "text": [
      ".,\n"
     ]
    }
   ],
   "source": [
    "s = \".,\"\n",
    "\n",
    "expected = \".,\"\n",
    "\n",
    "output = Solution().reverseVowels(s)\n",
    "print(output)\n",
    "assert output == expected"
   ]
  },
  {
   "cell_type": "code",
   "execution_count": null,
   "metadata": {},
   "outputs": [],
   "source": []
  },
  {
   "cell_type": "code",
   "execution_count": null,
   "metadata": {},
   "outputs": [],
   "source": []
  }
 ],
 "metadata": {
  "kernelspec": {
   "display_name": "leetcode-craft",
   "language": "python",
   "name": "python3"
  },
  "language_info": {
   "codemirror_mode": {
    "name": "ipython",
    "version": 3
   },
   "file_extension": ".py",
   "mimetype": "text/x-python",
   "name": "python",
   "nbconvert_exporter": "python",
   "pygments_lexer": "ipython3",
   "version": "3.12.2"
  }
 },
 "nbformat": 4,
 "nbformat_minor": 2
}
