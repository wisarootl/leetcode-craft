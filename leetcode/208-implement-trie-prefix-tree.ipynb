{
 "cells": [
  {
   "cell_type": "markdown",
   "metadata": {},
   "source": [
    "# 208. Implement Trie (Prefix Tree)"
   ]
  },
  {
   "cell_type": "markdown",
   "metadata": {},
   "source": [
    "https://leetcode.com/problems/implement-trie-prefix-tree/description/"
   ]
  },
  {
   "cell_type": "code",
   "execution_count": 1,
   "metadata": {},
   "outputs": [],
   "source": [
    "class Trie:\n",
    "\n",
    "    # space = O(mn)\n",
    "    # n = max length of words\n",
    "    # m = unique word\n",
    "    def __init__(self):\n",
    "        self.root = {}\n",
    "\n",
    "    # time = O(n)\n",
    "    # space = O(n)\n",
    "    # n = len(word)\n",
    "    def insert(self, word: str) -> None:\n",
    "        node = self.root\n",
    "        for letter in word:\n",
    "            if letter not in node:\n",
    "                node[letter] = {}\n",
    "            node = node[letter]\n",
    "        # Use \"*\" to mark the end of a word\n",
    "        node[\"*\"] = True\n",
    "\n",
    "    # time = O(n)\n",
    "    # space = O(1)\n",
    "    # n = len(word)\n",
    "    def search(self, word: str) -> bool:\n",
    "        node = self.root\n",
    "        for letter in word:\n",
    "            if letter not in node:\n",
    "                return False\n",
    "            node = node[letter]\n",
    "        return \"*\" in node\n",
    "\n",
    "    # time = O(n)\n",
    "    # space = O(1)\n",
    "    # n = len(prefix)\n",
    "    def startsWith(self, prefix: str) -> bool:\n",
    "        node = self.root\n",
    "        for letter in prefix:\n",
    "            if letter not in node:\n",
    "                return False\n",
    "            node = node[letter]\n",
    "        return True"
   ]
  },
  {
   "cell_type": "code",
   "execution_count": 2,
   "metadata": {},
   "outputs": [],
   "source": [
    "trie = Trie()\n",
    "trie.insert(\"apple\")\n",
    "assert trie.search(\"apple\")\n",
    "assert not trie.search(\"app\")\n",
    "assert trie.startsWith(\"app\")\n",
    "trie.insert(\"app\")\n",
    "assert trie.search(\"app\")"
   ]
  },
  {
   "cell_type": "code",
   "execution_count": null,
   "metadata": {},
   "outputs": [],
   "source": []
  }
 ],
 "metadata": {
  "kernelspec": {
   "display_name": "leetcode-craft",
   "language": "python",
   "name": "python3"
  },
  "language_info": {
   "codemirror_mode": {
    "name": "ipython",
    "version": 3
   },
   "file_extension": ".py",
   "mimetype": "text/x-python",
   "name": "python",
   "nbconvert_exporter": "python",
   "pygments_lexer": "ipython3",
   "version": "3.12.2"
  }
 },
 "nbformat": 4,
 "nbformat_minor": 2
}
