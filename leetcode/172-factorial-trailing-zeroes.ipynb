{
 "cells": [
  {
   "cell_type": "markdown",
   "metadata": {},
   "source": [
    "# 172. Factorial Trailing Zeroes"
   ]
  },
  {
   "cell_type": "markdown",
   "metadata": {},
   "source": [
    "https://leetcode.com/problems/factorial-trailing-zeroes/"
   ]
  },
  {
   "cell_type": "code",
   "execution_count": 1,
   "metadata": {},
   "outputs": [],
   "source": [
    "class Solution:\n",
    "    # time = O(log n)\n",
    "    # space = O(1)\n",
    "    def trailingZeroes(self, n: int) -> int:\n",
    "        count = 0\n",
    "        i = 5\n",
    "\n",
    "        while n // i >= 1:\n",
    "            count += n // i\n",
    "            i *= 5\n",
    "\n",
    "        return count"
   ]
  },
  {
   "cell_type": "code",
   "execution_count": null,
   "metadata": {},
   "outputs": [],
   "source": [
    "# number of trailing zeroes = number of factors of 5\n",
    "# 5 pairs 2 will be 10. number of factors of 2 will always be larger than 5. Thus, we only count 5.\n",
    "\n",
    "# raw numbers:      5, 10, 15, 20, 25, 30, ..., 50, 55, ..., 125, 126\n",
    "# factor 5 count:   1,  1,  1,  1,  2,  1, ...,  2,  1, ...,   3,   0\n",
    "# if n = 126:\n",
    "#     125 / 5 = 25 (25 numbers have 1 factor 5)\n",
    "#     125 / 25 = 4 (4 numbers have 2 factor 5)\n",
    "#     125 / 125 = 1 (1 numbers have 3 factor 5)\n",
    "\n",
    "# number of factor five = (n/5) + (n/5^2) + (n/5^3) + ..."
   ]
  },
  {
   "cell_type": "code",
   "execution_count": 2,
   "metadata": {},
   "outputs": [
    {
     "name": "stdout",
     "output_type": "stream",
     "text": [
      "0\n"
     ]
    }
   ],
   "source": [
    "n = 3\n",
    "expected = 0\n",
    "\n",
    "output = Solution().trailingZeroes(n)\n",
    "\n",
    "print(output)\n",
    "assert output == expected"
   ]
  },
  {
   "cell_type": "code",
   "execution_count": 3,
   "metadata": {},
   "outputs": [
    {
     "name": "stdout",
     "output_type": "stream",
     "text": [
      "1\n"
     ]
    }
   ],
   "source": [
    "n = 5\n",
    "expected = 1\n",
    "\n",
    "output = Solution().trailingZeroes(n)\n",
    "\n",
    "print(output)\n",
    "assert output == expected"
   ]
  },
  {
   "cell_type": "code",
   "execution_count": 4,
   "metadata": {},
   "outputs": [
    {
     "name": "stdout",
     "output_type": "stream",
     "text": [
      "0\n"
     ]
    }
   ],
   "source": [
    "n = 0\n",
    "expected = 0\n",
    "\n",
    "output = Solution().trailingZeroes(n)\n",
    "\n",
    "print(output)\n",
    "assert output == expected"
   ]
  },
  {
   "cell_type": "code",
   "execution_count": 6,
   "metadata": {},
   "outputs": [
    {
     "name": "stdout",
     "output_type": "stream",
     "text": [
      "31\n"
     ]
    }
   ],
   "source": [
    "n = 126\n",
    "expected = 31\n",
    "\n",
    "output = Solution().trailingZeroes(n)\n",
    "\n",
    "print(output)\n",
    "assert output == expected"
   ]
  }
 ],
 "metadata": {
  "kernelspec": {
   "display_name": "leetcode-craft",
   "language": "python",
   "name": "python3"
  },
  "language_info": {
   "codemirror_mode": {
    "name": "ipython",
    "version": 3
   },
   "file_extension": ".py",
   "mimetype": "text/x-python",
   "name": "python",
   "nbconvert_exporter": "python",
   "pygments_lexer": "ipython3",
   "version": "3.12.2"
  }
 },
 "nbformat": 4,
 "nbformat_minor": 2
}
