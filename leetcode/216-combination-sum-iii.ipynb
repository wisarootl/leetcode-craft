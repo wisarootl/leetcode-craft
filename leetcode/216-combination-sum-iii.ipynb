{
 "cells": [
  {
   "cell_type": "markdown",
   "metadata": {},
   "source": [
    "# 216. Combination Sum III"
   ]
  },
  {
   "cell_type": "markdown",
   "metadata": {},
   "source": [
    "https://leetcode.com/problems/combination-sum-iii/"
   ]
  },
  {
   "cell_type": "code",
   "execution_count": 6,
   "metadata": {},
   "outputs": [],
   "source": [
    "class Solution:\n",
    "    # time = O(9^k)\n",
    "    # space = O(k)\n",
    "    def combinationSum3(self, k: int, n: int) -> list[list[int]]:\n",
    "        def backtrack(start, k, n, path, results):\n",
    "            if k == 0 and n == 0:\n",
    "                results.append(path)\n",
    "                return\n",
    "\n",
    "            if k == 0 and n <= 0:\n",
    "                return\n",
    "\n",
    "            for i in range(start, 10):\n",
    "                backtrack(i + 1, k - 1, n - i, path + [i], results)\n",
    "\n",
    "        results = []\n",
    "        backtrack(1, k, n, [], results)\n",
    "\n",
    "        return results"
   ]
  },
  {
   "cell_type": "code",
   "execution_count": 7,
   "metadata": {},
   "outputs": [
    {
     "name": "stdout",
     "output_type": "stream",
     "text": [
      "[[1, 2, 4]]\n"
     ]
    }
   ],
   "source": [
    "k = 3\n",
    "n = 7\n",
    "\n",
    "expected = [[1, 2, 4]]\n",
    "\n",
    "output = Solution().combinationSum3(k, n)\n",
    "\n",
    "print(output)\n",
    "\n",
    "assert output == expected"
   ]
  },
  {
   "cell_type": "code",
   "execution_count": 8,
   "metadata": {},
   "outputs": [
    {
     "name": "stdout",
     "output_type": "stream",
     "text": [
      "[[1, 2, 6], [1, 3, 5], [2, 3, 4]]\n"
     ]
    }
   ],
   "source": [
    "k = 3\n",
    "n = 9\n",
    "\n",
    "expected = [[1, 2, 6], [1, 3, 5], [2, 3, 4]]\n",
    "\n",
    "output = Solution().combinationSum3(k, n)\n",
    "\n",
    "print(output)\n",
    "\n",
    "assert output == expected"
   ]
  },
  {
   "cell_type": "code",
   "execution_count": 9,
   "metadata": {},
   "outputs": [
    {
     "name": "stdout",
     "output_type": "stream",
     "text": [
      "[]\n"
     ]
    }
   ],
   "source": [
    "k = 4\n",
    "n = 1\n",
    "\n",
    "expected = []\n",
    "\n",
    "output = Solution().combinationSum3(k, n)\n",
    "\n",
    "print(output)\n",
    "\n",
    "assert output == expected"
   ]
  },
  {
   "cell_type": "code",
   "execution_count": null,
   "metadata": {},
   "outputs": [],
   "source": []
  }
 ],
 "metadata": {
  "kernelspec": {
   "display_name": "leetcode-craft",
   "language": "python",
   "name": "python3"
  },
  "language_info": {
   "codemirror_mode": {
    "name": "ipython",
    "version": 3
   },
   "file_extension": ".py",
   "mimetype": "text/x-python",
   "name": "python",
   "nbconvert_exporter": "python",
   "pygments_lexer": "ipython3",
   "version": "3.12.2"
  }
 },
 "nbformat": 4,
 "nbformat_minor": 2
}
