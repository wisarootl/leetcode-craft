{
 "cells": [
  {
   "cell_type": "markdown",
   "metadata": {},
   "source": [
    "# Move zero to the end"
   ]
  },
  {
   "cell_type": "markdown",
   "metadata": {},
   "source": [
    "Move zero to the end while keep order of other number. Please do it inplace. O(N) time and O(1) space\n",
    "\n",
    "```\n",
    "numbers = [0, 1, 3, 0, 12]\n",
    "\n",
    "output = [1, 3, 12, 0, 0]\n",
    "```"
   ]
  },
  {
   "cell_type": "code",
   "execution_count": null,
   "metadata": {},
   "outputs": [],
   "source": [
    "def move_zero_to_the_end(numbers):\n",
    "    first_zero_idx = 0\n",
    "\n",
    "    for idx in range(len(numbers)):\n",
    "        print(numbers, first_zero_idx, idx)\n",
    "        if numbers[idx] != 0:\n",
    "            numbers[first_zero_idx], numbers[idx] = (numbers[idx], numbers[first_zero_idx])\n",
    "            first_zero_idx += 1\n",
    "\n",
    "    return numbers"
   ]
  },
  {
   "cell_type": "code",
   "execution_count": null,
   "metadata": {},
   "outputs": [],
   "source": [
    "def test(numbers, expectation):\n",
    "    output = move_zero_to_the_end(numbers)\n",
    "    assert output == expectation\n",
    "    print(output)"
   ]
  },
  {
   "cell_type": "code",
   "execution_count": null,
   "metadata": {},
   "outputs": [],
   "source": [
    "test(numbers=[0, 1, 3, 0, 12], expectation=[1, 3, 12, 0, 0])"
   ]
  }
 ],
 "metadata": {
  "language_info": {
   "name": "python"
  }
 },
 "nbformat": 4,
 "nbformat_minor": 2
}
