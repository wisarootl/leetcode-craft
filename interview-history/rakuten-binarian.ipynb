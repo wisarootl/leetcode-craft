{
 "cells": [
  {
   "cell_type": "code",
   "execution_count": 1,
   "metadata": {},
   "outputs": [],
   "source": [
    "# optimized solution\n",
    "\n",
    "\n",
    "# time = O(n + m)\n",
    "# space O(1)\n",
    "# n = len(A)\n",
    "# m = number of 1 in bin(binarian of A)\n",
    "def solution(A):\n",
    "    # time = O(n)\n",
    "    # space = O(1)\n",
    "    def get_binarian(A):\n",
    "        binarian = 0\n",
    "        for num in A:\n",
    "            binarian += 1 << num\n",
    "        return binarian\n",
    "\n",
    "    # time O(number of 1 in bin(binarian))\n",
    "    # space O(1)\n",
    "    def get_bit_count(binarian):\n",
    "        # Brian Kernighan's algorithm to count set bits\n",
    "        count = 0\n",
    "        while binarian:\n",
    "            binarian &= binarian - 1\n",
    "            count += 1\n",
    "        return count\n",
    "\n",
    "    return get_bit_count(get_binarian(A))"
   ]
  },
  {
   "cell_type": "code",
   "execution_count": 2,
   "metadata": {},
   "outputs": [],
   "source": [
    "# # submitted solution to rakuten\n",
    "# # time = O(n + k)\n",
    "# # space O(1)\n",
    "# # n = len(A)\n",
    "# # k = len(bin(binarian of A))\n",
    "# # k >= m\n",
    "# def solution(A):\n",
    "#     # time = O(n)\n",
    "#     # space = O(1)\n",
    "#     def get_binarian(A):\n",
    "#         return sum(2**num for num in A)\n",
    "\n",
    "#     # time = O(len(bin(A)))\n",
    "#     # space = O(1)\n",
    "#     def count_set_bits(n):\n",
    "#         count = 0\n",
    "#         while n:\n",
    "#             count += n & 1\n",
    "#             n >>= 1\n",
    "#         return count\n",
    "\n",
    "#     return count_set_bits(get_binarian(A))"
   ]
  },
  {
   "cell_type": "code",
   "execution_count": 3,
   "metadata": {},
   "outputs": [],
   "source": [
    "# # commented solution to Rakuten (Do not submitted but left comment inside)\n",
    "# # time = O(n + k)\n",
    "# # space O(1)\n",
    "# # n = len(A)\n",
    "# # k = len(bin(binarian of A))\n",
    "# # k >= m\n",
    "# def solution(A):\n",
    "#     # time = O(n)\n",
    "#     # space = O(1)\n",
    "#     def get_binarian(A):\n",
    "#         return sum(2**num for num in A)\n",
    "\n",
    "#     # time = O(len(bin(A)))\n",
    "#     # space = O(1)\n",
    "#     def shortest_list_for_binarian(binarian):\n",
    "#         result = []\n",
    "#         i = 0\n",
    "#         while binarian >= (1 << i):\n",
    "#             if binarian & (1 << i):\n",
    "#                 result.append(i)\n",
    "#             i += 1\n",
    "\n",
    "#         return result\n",
    "\n",
    "#     return len(shortest_list_for_binarian(get_binarian(A)))"
   ]
  },
  {
   "cell_type": "code",
   "execution_count": 4,
   "metadata": {},
   "outputs": [],
   "source": [
    "def get_binarian(A):\n",
    "    return sum(2**num for num in A)"
   ]
  },
  {
   "cell_type": "code",
   "execution_count": 5,
   "metadata": {},
   "outputs": [
    {
     "name": "stdout",
     "output_type": "stream",
     "text": [
      "13\n",
      "3\n"
     ]
    }
   ],
   "source": [
    "A = [1, 0, 2, 0, 0, 2]\n",
    "expected = 3\n",
    "output = solution(A)\n",
    "\n",
    "assert output == expected\n",
    "print(get_binarian(A))\n",
    "print(output)"
   ]
  },
  {
   "cell_type": "code",
   "execution_count": 7,
   "metadata": {},
   "outputs": [
    {
     "name": "stdout",
     "output_type": "stream",
     "text": [
      "36\n",
      "2\n"
     ]
    }
   ],
   "source": [
    "A = [3, 4, 2, 0, 0, 2, 1]\n",
    "expected = 2\n",
    "output = solution(A)\n",
    "\n",
    "assert output == expected\n",
    "print(get_binarian(A))\n",
    "print(output)"
   ]
  },
  {
   "cell_type": "code",
   "execution_count": 8,
   "metadata": {},
   "outputs": [
    {
     "name": "stdout",
     "output_type": "stream",
     "text": [
      "292\n",
      "3\n"
     ]
    }
   ],
   "source": [
    "A = [3, 4, 2, 0, 0, 2, 1, 8]\n",
    "expected = 3\n",
    "output = solution(A)\n",
    "\n",
    "print(get_binarian(A))\n",
    "print(output)\n",
    "assert output == expected"
   ]
  },
  {
   "cell_type": "code",
   "execution_count": 9,
   "metadata": {},
   "outputs": [
    {
     "name": "stdout",
     "output_type": "stream",
     "text": [
      "367\n",
      "7\n"
     ]
    }
   ],
   "source": [
    "A = [3, 4, 2, 0, 0, 2, 1, 8, 3, 3, 5, 0, 1, 3, 4]\n",
    "expected = 7\n",
    "output = solution(A)\n",
    "\n",
    "print(get_binarian(A))\n",
    "print(output)\n",
    "assert output == expected"
   ]
  },
  {
   "cell_type": "code",
   "execution_count": 10,
   "metadata": {},
   "outputs": [
    {
     "name": "stdout",
     "output_type": "stream",
     "text": [
      "1\n",
      "1\n"
     ]
    }
   ],
   "source": [
    "A = [0]\n",
    "expected = 1\n",
    "output = solution(A)\n",
    "\n",
    "print(get_binarian(A))\n",
    "print(output)\n",
    "assert output == expected"
   ]
  },
  {
   "cell_type": "code",
   "execution_count": 11,
   "metadata": {},
   "outputs": [
    {
     "name": "stdout",
     "output_type": "stream",
     "text": [
      "0\n",
      "0\n"
     ]
    }
   ],
   "source": [
    "A = []\n",
    "expected = 0\n",
    "output = solution(A)\n",
    "\n",
    "print(get_binarian(A))\n",
    "print(output)\n",
    "assert output == expected"
   ]
  },
  {
   "cell_type": "code",
   "execution_count": null,
   "metadata": {},
   "outputs": [],
   "source": []
  }
 ],
 "metadata": {
  "kernelspec": {
   "display_name": "leetcode-craft",
   "language": "python",
   "name": "python3"
  },
  "language_info": {
   "codemirror_mode": {
    "name": "ipython",
    "version": 3
   },
   "file_extension": ".py",
   "mimetype": "text/x-python",
   "name": "python",
   "nbconvert_exporter": "python",
   "pygments_lexer": "ipython3",
   "version": "3.12.2"
  }
 },
 "nbformat": 4,
 "nbformat_minor": 2
}
